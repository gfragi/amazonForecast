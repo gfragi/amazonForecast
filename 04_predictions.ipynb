{
 "cells": [
  {
   "cell_type": "code",
   "execution_count": 1,
   "metadata": {},
   "outputs": [],
   "source": [
    "import mlflow.sklearn\n",
    "import pandas as pd\n",
    "\n",
    "import my_functions as mf"
   ]
  },
  {
   "cell_type": "code",
   "execution_count": 2,
   "metadata": {},
   "outputs": [
    {
     "name": "stdout",
     "output_type": "stream",
     "text": [
      "<class 'pandas.core.frame.DataFrame'>\n",
      "RangeIndex: 554079 entries, 0 to 554078\n",
      "Data columns (total 25 columns):\n",
      " #   Column               Non-Null Count   Dtype         \n",
      "---  ------               --------------   -----         \n",
      " 0   SKU                  554079 non-null  object        \n",
      " 1   OfferTermCode        554079 non-null  object        \n",
      " 2   RateCode             554079 non-null  object        \n",
      " 3   PricePerUnit         554079 non-null  float64       \n",
      " 4   instanceType         554079 non-null  object        \n",
      " 5   instanceFamily       554079 non-null  object        \n",
      " 6   LeaseContractLength  554079 non-null  int64         \n",
      " 7   PurchaseOption       554079 non-null  object        \n",
      " 8   OfferingClass        554079 non-null  object        \n",
      " 9   Product Family       554079 non-null  object        \n",
      " 10  Location             554079 non-null  object        \n",
      " 11  Current Generation   554079 non-null  object        \n",
      " 12  vCPU                 554079 non-null  int64         \n",
      " 13  Memory               554079 non-null  int64         \n",
      " 14  Tenancy              554079 non-null  object        \n",
      " 15  operatingSystem      554079 non-null  object        \n",
      " 16  License Model        554079 non-null  object        \n",
      " 17  year                 554079 non-null  int64         \n",
      " 18  TermType             554079 non-null  object        \n",
      " 19  networkPerformance   554079 non-null  float64       \n",
      " 20  EffectiveDate        554079 non-null  datetime64[ns]\n",
      " 21  DiskType             554079 non-null  object        \n",
      " 22  StorageSize          554079 non-null  int64         \n",
      " 23  Quarter              554079 non-null  int64         \n",
      " 24  YearQuarter          554079 non-null  object        \n",
      "dtypes: datetime64[ns](1), float64(2), int64(6), object(16)\n",
      "memory usage: 105.7+ MB\n"
     ]
    }
   ],
   "source": [
    "# Import data for prediction\n",
    "\n",
    "data = pd.read_csv(f'./data/amazon_22_quarters.csv',\n",
    "                   parse_dates=['EffectiveDate'])\n",
    "\n",
    "data.info()"
   ]
  },
  {
   "cell_type": "code",
   "execution_count": 3,
   "metadata": {},
   "outputs": [],
   "source": [
    "data = data[['PricePerUnit', 'LeaseContractLength', 'PurchaseOption', 'vCPU',\n",
    "             'Memory', 'operatingSystem', 'networkPerformance', 'StorageSize',\n",
    "             'DiskType', 'Quarter', 'instanceType']]"
   ]
  },
  {
   "attachments": {},
   "cell_type": "markdown",
   "metadata": {},
   "source": [
    "# Prepare the Data"
   ]
  },
  {
   "cell_type": "code",
   "execution_count": 4,
   "metadata": {},
   "outputs": [],
   "source": [
    "# # %%  =========== Prepare the Data for regression============\n",
    "\n",
    "# # Map binary categorical columns to numerical\n",
    "\n",
    "# categorical_binary = ['PurchaseOption']\n",
    "# data[categorical_binary] = data[categorical_binary].apply(mf.binary_map)\n",
    "\n",
    "# # Write the categorical values as a list\n",
    "# # categorical = ['operatingSystem', 'DiskType', 'Location', 'instanceFamily']\n",
    "# categorical = ['operatingSystem', 'DiskType']\n",
    "# categorical2numeric = pd.get_dummies(\n",
    "#     data[categorical], drop_first=False)\n",
    "\n",
    "# categorical2numeric_pred = pd.get_dummies(\n",
    "#     data[categorical], drop_first=False)\n",
    "\n",
    "# # Add the above results to the original dataframe df\n",
    "# data = pd.concat([data, categorical2numeric], axis=1)\n",
    "# data.drop(columns=categorical, axis=1, inplace=True)"
   ]
  },
  {
   "cell_type": "code",
   "execution_count": 5,
   "metadata": {},
   "outputs": [
    {
     "name": "stderr",
     "output_type": "stream",
     "text": [
      "/tmp/ipykernel_11342/1849532876.py:15: SettingWithCopyWarning: \n",
      "A value is trying to be set on a copy of a slice from a DataFrame\n",
      "\n",
      "See the caveats in the documentation: https://pandas.pydata.org/pandas-docs/stable/user_guide/indexing.html#returning-a-view-versus-a-copy\n",
      "  filtered_data.drop(\n"
     ]
    }
   ],
   "source": [
    "# Take instanceType as input from the user\n",
    "\n",
    "instance_type = \"g5.xlarge\"\n",
    "\n",
    "# instance_type = input(\"Enter the instance type: \")\n",
    "\n",
    "# filter by instance type data\n",
    "filtered_data = data[data['instanceType'] == instance_type]\n",
    "\n",
    "# create df for actual prices\n",
    "actual_prices = filtered_data.PricePerUnit\n",
    "\n",
    "\n",
    "# drop instance type as it is not useful for the model\n",
    "filtered_data.drop(\n",
    "    columns=['PricePerUnit', 'instanceType'], axis=1, inplace=True)"
   ]
  },
  {
   "cell_type": "code",
   "execution_count": 6,
   "metadata": {},
   "outputs": [
    {
     "ename": "",
     "evalue": "",
     "output_type": "error",
     "traceback": [
      "\u001b[1;31mCannot execute code, session has been disposed. Please try restarting the Kernel."
     ]
    },
    {
     "ename": "",
     "evalue": "",
     "output_type": "error",
     "traceback": [
      "\u001b[1;31mThe Kernel crashed while executing code in the the current cell or a previous cell. Please review the code in the cell(s) to identify a possible cause of the failure. Click <a href='https://aka.ms/vscodeJupyterKernelCrash'>here</a> for more info. View Jupyter <a href='command:jupyter.viewOutput'>log</a> for further details."
     ]
    }
   ],
   "source": [
    "# RUN_ID = input(\"Enter the model RUN ID you want to use: \")\n",
    "\n",
    "logged_model = \"file:///media/gfragi/data/BarraCuda/mlruns/mlruns/977346654452183974/069a6067efd8495d85bc3a76d2742640/artifacts/catboost_model\"\n",
    "\n",
    "# Load model as a PyFuncModel.\n",
    "loaded_model = mlflow.pyfunc.load_model(logged_model)"
   ]
  },
  {
   "cell_type": "code",
   "execution_count": null,
   "metadata": {},
   "outputs": [],
   "source": [
    "# Predict on a Pandas DataFrame.\n",
    "predictions = loaded_model.predict(pd.DataFrame(filtered_data))\n",
    "\n",
    "# Create a DataFrame with the predictions\n",
    "predictions_df = pd.DataFrame(predictions, columns=['Predictions'])\n",
    "\n",
    "# Save the predictions to a CSV file\n",
    "predictions_df.to_csv(\n",
    "    f'predResults/{instance_type}_predictions.csv', index=False)"
   ]
  },
  {
   "cell_type": "code",
   "execution_count": null,
   "metadata": {},
   "outputs": [],
   "source": [
    "# Plot prdicted vs actual\n",
    "import plotly.graph_objects as go\n",
    "\n",
    "# Create a line plot using Plotly\n",
    "fig = go.Figure()\n",
    "fig.add_trace(go.Scatter(x=list(range(len(actual_prices))),\n",
    "              y=actual_prices, mode='lines', name='Actual'))\n",
    "fig.add_trace(go.Scatter(x=list(range(len(predictions))),\n",
    "              y=predictions, mode='lines', name='Predicted'))\n",
    "\n",
    "fig.update_layout(\n",
    "    title=f'Actual vs. Predicted Prices for {instance_type}]',\n",
    "    xaxis=dict(title='Samples'),\n",
    "    yaxis=dict(title='Price')\n",
    ")\n",
    "\n",
    "fig.show()\n",
    "\n",
    "# Save the Plotly figure as an HTML file\n",
    "# html_path = \"temp/actual_predicted.html\"\n",
    "# pio.write_html(fig, html_path)\n",
    "\n",
    "# # Log the HTML file as an artifact in MLflow\n",
    "# mlflow.log_artifact(html_path)"
   ]
  }
 ],
 "metadata": {
  "kernelspec": {
   "display_name": "price39_env",
   "language": "python",
   "name": "price39_env"
  },
  "language_info": {
   "codemirror_mode": {
    "name": "ipython",
    "version": 3
   },
   "file_extension": ".py",
   "mimetype": "text/x-python",
   "name": "python",
   "nbconvert_exporter": "python",
   "pygments_lexer": "ipython3",
   "version": "3.9.16"
  },
  "orig_nbformat": 4
 },
 "nbformat": 4,
 "nbformat_minor": 2
}
