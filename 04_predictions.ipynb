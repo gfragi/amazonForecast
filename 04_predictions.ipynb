{
 "cells": [
  {
   "cell_type": "code",
   "execution_count": 196,
   "metadata": {
    "tags": []
   },
   "outputs": [],
   "source": [
    "import mlflow.sklearn\n",
    "import pandas as pd\n",
    "import plotly.graph_objects as go\n",
    "\n",
    "\n",
    "import my_functions as mf"
   ]
  },
  {
   "cell_type": "code",
   "execution_count": 197,
   "metadata": {},
   "outputs": [],
   "source": [
    "# instance_type = \"g5.xlarge\"\n",
    "# operating_system = 'Windows'\n",
    "# purchase_option = \"Partial Upfront\"\n",
    "\n",
    "instance_type = input(\"Enter the instance type: \")\n",
    "operating_system = input(\"Enter the operating system: \")\n",
    "purchase_option = input(\"Enter the purchase option: \")"
   ]
  },
  {
   "cell_type": "code",
   "execution_count": 198,
   "metadata": {},
   "outputs": [
    {
     "name": "stdout",
     "output_type": "stream",
     "text": [
      "<class 'pandas.core.frame.DataFrame'>\n",
      "RangeIndex: 10 entries, 0 to 9\n",
      "Data columns (total 12 columns):\n",
      " #   Column               Non-Null Count  Dtype  \n",
      "---  ------               --------------  -----  \n",
      " 0   YearQuarter          10 non-null     object \n",
      " 1   PricePerUnit         10 non-null     float64\n",
      " 2   LeaseContractLength  10 non-null     float64\n",
      " 3   PurchaseOption       10 non-null     object \n",
      " 4   vCPU                 10 non-null     float64\n",
      " 5   DiskType             10 non-null     object \n",
      " 6   operatingSystem      10 non-null     object \n",
      " 7   Memory               10 non-null     float64\n",
      " 8   networkPerformance   10 non-null     float64\n",
      " 9   StorageSize          10 non-null     float64\n",
      " 10  Quarter              10 non-null     float64\n",
      " 11  year                 10 non-null     int64  \n",
      "dtypes: float64(7), int64(1), object(4)\n",
      "memory usage: 1.1+ KB\n"
     ]
    }
   ],
   "source": [
    "# Import data for prediction\n",
    "\n",
    "data = pd.read_csv(\n",
    "    f'./data/{instance_type}_{operating_system}_{purchase_option}.csv')\n",
    "\n",
    "data.info()"
   ]
  },
  {
   "cell_type": "code",
   "execution_count": 199,
   "metadata": {},
   "outputs": [],
   "source": [
    "data_actual = data[data['year'] != 2023]\n",
    "\n",
    "actual_prices = data_actual.set_index('YearQuarter')['PricePerUnit']\n",
    "\n",
    "data = data.set_index('YearQuarter')[['LeaseContractLength', 'PurchaseOption',\n",
    "                                      'vCPU', 'Memory', 'operatingSystem',\n",
    "                                      'networkPerformance', 'StorageSize',\n",
    "                                      'DiskType', 'Quarter', 'year']]\n",
    "\n",
    "data_pred = data[data['year'] > 2022]"
   ]
  },
  {
   "attachments": {},
   "cell_type": "markdown",
   "metadata": {},
   "source": [
    "## Prepare the Data"
   ]
  },
  {
   "cell_type": "code",
   "execution_count": 200,
   "metadata": {},
   "outputs": [],
   "source": [
    "# %%  =========== Prepare the Data for regression============\n",
    "\n",
    "# Map binary categorical columns to numerical\n",
    "categorical_binary = ['PurchaseOption']\n",
    "data[categorical_binary] = data[categorical_binary].apply(\n",
    "    mf.binary_map)\n",
    "\n",
    "# Write the categorical values as a list\n",
    "categorical = ['operatingSystem', 'DiskType']\n",
    "categorical2numeric = pd.get_dummies(\n",
    "    data[categorical], drop_first=False)\n",
    "\n",
    "categorical2numeric_pred = pd.get_dummies(\n",
    "    data[categorical], drop_first=False)\n",
    "\n",
    "# Add the above results to the original dataframe df\n",
    "data = pd.concat([data, categorical2numeric], axis=1)\n",
    "data.drop(columns=categorical, axis=1, inplace=True)"
   ]
  },
  {
   "cell_type": "code",
   "execution_count": 201,
   "metadata": {},
   "outputs": [],
   "source": [
    "# Add missing categorical feature if necessary\n",
    "if 'DiskType_NVMe SSD' not in data.columns:\n",
    "    data['DiskType_NVMe SSD'] = 0\n",
    "\n",
    "operatingSystem_RHEL_HA = 0\n",
    "operatingSystem_Windows = 0\n",
    "operatingSystem_Linux = 0\n",
    "\n",
    "if 'operatingSystem_RHEL_HA' not in data.columns:\n",
    "    data.insert(9, 'operatingSystem_RHEL_HA', operatingSystem_RHEL_HA)\n",
    "\n",
    "if 'operatingSystem_Windows' not in data.columns:\n",
    "    data.insert(10, 'operatingSystem_Windows',\n",
    "                operatingSystem_Windows)\n",
    "\n",
    "if 'operatingSystem_Linux' not in data.columns:\n",
    "    data.insert(8, 'operatingSystem_Linux',\n",
    "                operatingSystem_Linux)"
   ]
  },
  {
   "cell_type": "code",
   "execution_count": 202,
   "metadata": {},
   "outputs": [],
   "source": [
    "# RUN_ID = input(\"Enter the model RUN ID you want to use: \")\n",
    "path1 = \"file:///media/gfragi/data/BarraCuda/mlruns/mlruns\"\n",
    "path2 = \"artifacts/catboost_model\"\n",
    "# g4dn.12xlarge_Windows_Partial Upfront.csv\n",
    "logged_model = f\"{path1}/977346654452183974/9fa9c1ec775a46bcb670cb8aac6d321b/{path2}\"\n",
    "\n",
    "# Load model as a PyFuncModel.\n",
    "loaded_model = mlflow.pyfunc.load_model(logged_model)"
   ]
  },
  {
   "cell_type": "code",
   "execution_count": 203,
   "metadata": {},
   "outputs": [],
   "source": [
    "\n",
    "# Predict on a Pandas DataFrame.\n",
    "predictions = loaded_model.predict(pd.DataFrame(data))\n",
    "\n",
    "# Create a DataFrame with the predictions and set the index to match the actual prices\n",
    "predictions_df = pd.DataFrame(\n",
    "    predictions, columns=['Predictions'], index=data.index)\n",
    "\n",
    "\n",
    "# # Save the predictions to a CSV file\n",
    "# predictions_df.to_csv(\n",
    "#     f'predResults/{instance_type}_predictions.csv', index=False)"
   ]
  },
  {
   "cell_type": "code",
   "execution_count": 204,
   "metadata": {
    "tags": []
   },
   "outputs": [
    {
     "name": "stdout",
     "output_type": "stream",
     "text": [
      "Opening in existing browser session.\n"
     ]
    },
    {
     "name": "stderr",
     "output_type": "stream",
     "text": [
      "/snap/core20/current/lib/x86_64-linux-gnu/libstdc++.so.6: version `GLIBCXX_3.4.29' not found (required by /lib/x86_64-linux-gnu/libproxy.so.1)\n",
      "Failed to load module: /home/gfragi/snap/code/common/.cache/gio-modules/libgiolibproxy.so\n",
      "Gtk-Message: 06:46:11.678: Failed to load module \"canberra-gtk-module\"\n",
      "Gtk-Message: 06:46:11.678: Failed to load module \"canberra-gtk-module\"\n"
     ]
    }
   ],
   "source": [
    "import plotly.io as pio\n",
    "\n",
    "pio.renderers.default = \"browser\"\n",
    "\n",
    "# Create a line plot using Plotly\n",
    "fig = go.Figure()\n",
    "fig.add_trace(go.Scatter(x=actual_prices.index,\n",
    "              y=actual_prices, mode='lines+markers', name='Actual'))\n",
    "fig.add_trace(go.Scatter(x=predictions_df.index,\n",
    "              y=predictions, mode='lines+markers', name='Predicted'))\n",
    "\n",
    "fig.update_layout(\n",
    "    title=f'Forecast for the quarters of 2023 for {instance_type}',\n",
    "    xaxis=dict(title='Year Quarter'),\n",
    "    yaxis=dict(title='Price ($) per hour'),\n",
    "    template='presentation'\n",
    ")\n",
    "\n",
    "fig.show()\n",
    "\n",
    "# Save the Plotly figure as an HTML file\n",
    "# html_path = \"temp/actual_predicted.html\"\n",
    "# pio.write_html(fig, html_path)\n",
    "\n",
    "# # Log the HTML file as an artifact in MLflow\n",
    "# mlflow.log_artifact(html_path)"
   ]
  },
  {
   "cell_type": "code",
   "execution_count": 205,
   "metadata": {},
   "outputs": [
    {
     "ename": "ValueError",
     "evalue": "Found input variables with inconsistent numbers of samples: [6, 10]",
     "output_type": "error",
     "traceback": [
      "\u001b[0;31m---------------------------------------------------------------------------\u001b[0m",
      "\u001b[0;31mValueError\u001b[0m                                Traceback (most recent call last)",
      "Cell \u001b[0;32mIn[205], line 4\u001b[0m\n\u001b[1;32m      1\u001b[0m \u001b[39mfrom\u001b[39;00m \u001b[39msklearn\u001b[39;00m\u001b[39m.\u001b[39;00m\u001b[39mmetrics\u001b[39;00m \u001b[39mimport\u001b[39;00m mean_squared_error, mean_absolute_error, r2_score, mean_absolute_percentage_error\n\u001b[0;32m----> 4\u001b[0m mse \u001b[39m=\u001b[39m mean_squared_error(actual_prices, predictions)\n\u001b[1;32m      5\u001b[0m rmse \u001b[39m=\u001b[39m mean_squared_error(actual_prices, predictions, squared\u001b[39m=\u001b[39m\u001b[39mFalse\u001b[39;00m)\n\u001b[1;32m      6\u001b[0m mae \u001b[39m=\u001b[39m mean_absolute_error(actual_prices, predictions)\n",
      "File \u001b[0;32m~/Phd_projects/PriceIndex/price39_env/lib/python3.9/site-packages/sklearn/metrics/_regression.py:442\u001b[0m, in \u001b[0;36mmean_squared_error\u001b[0;34m(y_true, y_pred, sample_weight, multioutput, squared)\u001b[0m\n\u001b[1;32m    382\u001b[0m \u001b[39mdef\u001b[39;00m \u001b[39mmean_squared_error\u001b[39m(\n\u001b[1;32m    383\u001b[0m     y_true, y_pred, \u001b[39m*\u001b[39m, sample_weight\u001b[39m=\u001b[39m\u001b[39mNone\u001b[39;00m, multioutput\u001b[39m=\u001b[39m\u001b[39m\"\u001b[39m\u001b[39muniform_average\u001b[39m\u001b[39m\"\u001b[39m, squared\u001b[39m=\u001b[39m\u001b[39mTrue\u001b[39;00m\n\u001b[1;32m    384\u001b[0m ):\n\u001b[1;32m    385\u001b[0m \u001b[39m    \u001b[39m\u001b[39m\"\"\"Mean squared error regression loss.\u001b[39;00m\n\u001b[1;32m    386\u001b[0m \n\u001b[1;32m    387\u001b[0m \u001b[39m    Read more in the :ref:`User Guide <mean_squared_error>`.\u001b[39;00m\n\u001b[0;32m   (...)\u001b[0m\n\u001b[1;32m    440\u001b[0m \u001b[39m    0.825...\u001b[39;00m\n\u001b[1;32m    441\u001b[0m \u001b[39m    \"\"\"\u001b[39;00m\n\u001b[0;32m--> 442\u001b[0m     y_type, y_true, y_pred, multioutput \u001b[39m=\u001b[39m _check_reg_targets(\n\u001b[1;32m    443\u001b[0m         y_true, y_pred, multioutput\n\u001b[1;32m    444\u001b[0m     )\n\u001b[1;32m    445\u001b[0m     check_consistent_length(y_true, y_pred, sample_weight)\n\u001b[1;32m    446\u001b[0m     output_errors \u001b[39m=\u001b[39m np\u001b[39m.\u001b[39maverage((y_true \u001b[39m-\u001b[39m y_pred) \u001b[39m*\u001b[39m\u001b[39m*\u001b[39m \u001b[39m2\u001b[39m, axis\u001b[39m=\u001b[39m\u001b[39m0\u001b[39m, weights\u001b[39m=\u001b[39msample_weight)\n",
      "File \u001b[0;32m~/Phd_projects/PriceIndex/price39_env/lib/python3.9/site-packages/sklearn/metrics/_regression.py:100\u001b[0m, in \u001b[0;36m_check_reg_targets\u001b[0;34m(y_true, y_pred, multioutput, dtype)\u001b[0m\n\u001b[1;32m     66\u001b[0m \u001b[39mdef\u001b[39;00m \u001b[39m_check_reg_targets\u001b[39m(y_true, y_pred, multioutput, dtype\u001b[39m=\u001b[39m\u001b[39m\"\u001b[39m\u001b[39mnumeric\u001b[39m\u001b[39m\"\u001b[39m):\n\u001b[1;32m     67\u001b[0m \u001b[39m    \u001b[39m\u001b[39m\"\"\"Check that y_true and y_pred belong to the same regression task.\u001b[39;00m\n\u001b[1;32m     68\u001b[0m \n\u001b[1;32m     69\u001b[0m \u001b[39m    Parameters\u001b[39;00m\n\u001b[0;32m   (...)\u001b[0m\n\u001b[1;32m     98\u001b[0m \u001b[39m        correct keyword.\u001b[39;00m\n\u001b[1;32m     99\u001b[0m \u001b[39m    \"\"\"\u001b[39;00m\n\u001b[0;32m--> 100\u001b[0m     check_consistent_length(y_true, y_pred)\n\u001b[1;32m    101\u001b[0m     y_true \u001b[39m=\u001b[39m check_array(y_true, ensure_2d\u001b[39m=\u001b[39m\u001b[39mFalse\u001b[39;00m, dtype\u001b[39m=\u001b[39mdtype)\n\u001b[1;32m    102\u001b[0m     y_pred \u001b[39m=\u001b[39m check_array(y_pred, ensure_2d\u001b[39m=\u001b[39m\u001b[39mFalse\u001b[39;00m, dtype\u001b[39m=\u001b[39mdtype)\n",
      "File \u001b[0;32m~/Phd_projects/PriceIndex/price39_env/lib/python3.9/site-packages/sklearn/utils/validation.py:397\u001b[0m, in \u001b[0;36mcheck_consistent_length\u001b[0;34m(*arrays)\u001b[0m\n\u001b[1;32m    395\u001b[0m uniques \u001b[39m=\u001b[39m np\u001b[39m.\u001b[39munique(lengths)\n\u001b[1;32m    396\u001b[0m \u001b[39mif\u001b[39;00m \u001b[39mlen\u001b[39m(uniques) \u001b[39m>\u001b[39m \u001b[39m1\u001b[39m:\n\u001b[0;32m--> 397\u001b[0m     \u001b[39mraise\u001b[39;00m \u001b[39mValueError\u001b[39;00m(\n\u001b[1;32m    398\u001b[0m         \u001b[39m\"\u001b[39m\u001b[39mFound input variables with inconsistent numbers of samples: \u001b[39m\u001b[39m%r\u001b[39;00m\u001b[39m\"\u001b[39m\n\u001b[1;32m    399\u001b[0m         \u001b[39m%\u001b[39m [\u001b[39mint\u001b[39m(l) \u001b[39mfor\u001b[39;00m l \u001b[39min\u001b[39;00m lengths]\n\u001b[1;32m    400\u001b[0m     )\n",
      "\u001b[0;31mValueError\u001b[0m: Found input variables with inconsistent numbers of samples: [6, 10]"
     ]
    }
   ],
   "source": [
    "from sklearn.metrics import mean_squared_error, mean_absolute_error, r2_score, mean_absolute_percentage_error\n",
    "\n",
    "\n",
    "mse = mean_squared_error(actual_prices, predictions)\n",
    "rmse = mean_squared_error(actual_prices, predictions, squared=False)\n",
    "mae = mean_absolute_error(actual_prices, predictions)\n",
    "r2 = r2_score(actual_prices, predictions)\n",
    "mape = mean_absolute_percentage_error(actual_prices, predictions)"
   ]
  },
  {
   "cell_type": "code",
   "execution_count": null,
   "metadata": {},
   "outputs": [
    {
     "name": "stdout",
     "output_type": "stream",
     "text": [
      "MSE: 34.64502444447058\n",
      "RMSE: 5.886002416281409\n",
      "MAE: 5.880372817441975\n",
      "MAPE: 0.6569875914834162\n",
      "R-squared: -410.89957652977847\n"
     ]
    }
   ],
   "source": [
    "print('MSE:', mse)\n",
    "print('RMSE:', rmse)\n",
    "print('MAE:', mae)\n",
    "print('MAPE:', mape)\n",
    "print('R-squared:', r2)"
   ]
  }
 ],
 "metadata": {
  "kernelspec": {
   "display_name": "price39_env",
   "language": "python",
   "name": "price39_env"
  },
  "language_info": {
   "codemirror_mode": {
    "name": "ipython",
    "version": 3
   },
   "file_extension": ".py",
   "mimetype": "text/x-python",
   "name": "python",
   "nbconvert_exporter": "python",
   "pygments_lexer": "ipython3",
   "version": "3.9.16"
  }
 },
 "nbformat": 4,
 "nbformat_minor": 4
}
