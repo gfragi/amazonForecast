{
 "cells": [
  {
   "cell_type": "code",
   "execution_count": 181,
   "metadata": {},
   "outputs": [],
   "source": [
    "# Importing other packages\n",
    "import timeit\n",
    "import pandas as pd\n",
    "import numpy as np\n",
    "import neptune\n",
    "import tempfile\n",
    "import seaborn as sns\n",
    "import matplotlib.pyplot as plt\n",
    "\n",
    "import plotly.graph_objects as go\n",
    "import plotly.io as pio\n",
    "\n",
    "pio.renderers.default = \"browser\""
   ]
  },
  {
   "cell_type": "code",
   "execution_count": 182,
   "metadata": {},
   "outputs": [],
   "source": [
    "df = pd.read_csv(f'../data/amazon_22.csv', parse_dates=['EffectiveDate'])"
   ]
  },
  {
   "cell_type": "code",
   "execution_count": 183,
   "metadata": {},
   "outputs": [
    {
     "data": {
      "text/plain": [
       "Memory optimized                   213171\n",
       "Storage optimized                  131324\n",
       "General purpose                    115748\n",
       "Compute optimized                   84582\n",
       "GPU instance                        24350\n",
       "FPGA Instances                       1040\n",
       "Machine Learning ASIC Instances       128\n",
       "Name: Instance Family, dtype: int64"
      ]
     },
     "execution_count": 183,
     "metadata": {},
     "output_type": "execute_result"
    }
   ],
   "source": [
    "df['Instance Family'].value_counts()"
   ]
  },
  {
   "cell_type": "code",
   "execution_count": 184,
   "metadata": {},
   "outputs": [
    {
     "data": {
      "text/plain": [
       "Reserved    570343\n",
       "Name: TermType, dtype: int64"
      ]
     },
     "execution_count": 184,
     "metadata": {},
     "output_type": "execute_result"
    },
    {
     "name": "stderr",
     "output_type": "stream",
     "text": [
      "[101787:101787:0615/210150.536750:ERROR:shared_context_state.cc(898)] SharedContextState context lost via ARB/EXT_robustness. Reset status = GL_UNKNOWN_CONTEXT_RESET_KHR\n",
      "[101787:101787:0615/210150.541501:ERROR:gpu_service_impl.cc(1010)] Exiting GPU process because some drivers can't recover from errors. GPU process will restart shortly.\n",
      "[101735:101735:0615/210150.594058:ERROR:gpu_process_host.cc(953)] GPU process exited unexpectedly: exit_code=8704\n",
      "libva error: vaGetDriverNameByIndex() failed with unknown libva error, driver_name = (null)\n",
      "[0615/215525.751701:ERROR:ptracer.cc(567)] ptrace: Input/output error (5)\n",
      "[0615/215525.764602:ERROR:elf_dynamic_array_reader.h(64)] tag not found\n",
      "[0615/215525.778165:ERROR:directory_reader_posix.cc(42)] opendir /home/gfragi/snap/brave/244/.config/BraveSoftware/Brave-Browser/Crash Reports/attachments/c44933c0-081d-4278-b30b-395834dad43f: No such file or directory (2)\n",
      "[101735:101735:0615/215525.787378:ERROR:gpu_process_host.cc(953)] GPU process exited unexpectedly: exit_code=512\n",
      "libva error: vaGetDriverNameByIndex() failed with unknown libva error, driver_name = (null)\n",
      "[1133205:1:0615/215541.850686:ERROR:command_buffer_proxy_impl.cc(128)] ContextResult::kTransientFailure: Failed to send GpuControl.CreateCommandBuffer.\n"
     ]
    }
   ],
   "source": [
    "df['TermType'].value_counts()"
   ]
  },
  {
   "cell_type": "code",
   "execution_count": 148,
   "metadata": {},
   "outputs": [],
   "source": [
    "# exclude some instance families\n",
    "df = df[(df['Instance Family'] != \"FPGA Instances\") & (\n",
    "    df['Instance Family'] != \"Machine Learning ASIC Instances\")]"
   ]
  },
  {
   "cell_type": "code",
   "execution_count": 149,
   "metadata": {},
   "outputs": [
    {
     "data": {
      "text/plain": [
       "AsiaPacific     170419\n",
       "EU              136519\n",
       "USEast           75502\n",
       "USWest           56837\n",
       "AWSGovCloud      33972\n",
       "SouthAmerica     19694\n",
       "Canada           19568\n",
       "MiddleEast       16352\n",
       "Europe           15920\n",
       "Africa           12544\n",
       "Name: Location, dtype: int64"
      ]
     },
     "execution_count": 149,
     "metadata": {},
     "output_type": "execute_result"
    }
   ],
   "source": [
    "df['Location'].value_counts()"
   ]
  },
  {
   "cell_type": "code",
   "execution_count": 150,
   "metadata": {},
   "outputs": [],
   "source": [
    "# replace USEast and USWest to US and EU to Europe\n",
    "df = df.replace({'USEast': 'US', 'USWest': 'US', 'EU': 'Europe'})"
   ]
  },
  {
   "cell_type": "code",
   "execution_count": 151,
   "metadata": {},
   "outputs": [
    {
     "data": {
      "text/plain": [
       "AsiaPacific     170419\n",
       "Europe          152439\n",
       "US              132339\n",
       "AWSGovCloud      33972\n",
       "SouthAmerica     19694\n",
       "Canada           19568\n",
       "MiddleEast       16352\n",
       "Africa           12544\n",
       "Name: Location, dtype: int64"
      ]
     },
     "execution_count": 151,
     "metadata": {},
     "output_type": "execute_result"
    }
   ],
   "source": [
    "df['Location'].value_counts()"
   ]
  },
  {
   "cell_type": "code",
   "execution_count": 152,
   "metadata": {},
   "outputs": [],
   "source": [
    "# keep only the countries that have data in all years\n",
    "df = df[(df['Location'] != \"Africa\") & (df['Location'] != \"MiddleEast\") & (df['Location']\n",
    "                                                                           != \"Canada\") & (df['Location'] != \"SouthAmerica\") & (df['Location'] != \"AWSGovCloud\")]"
   ]
  },
  {
   "cell_type": "code",
   "execution_count": 153,
   "metadata": {},
   "outputs": [],
   "source": [
    "# Convert EffectiveDate column to datetime format\n",
    "df['EffectiveDate'] = pd.to_datetime(df['EffectiveDate'])\n",
    "\n",
    "# Extract the quarter component from the EffectiveDate column\n",
    "df['Quarter'] = df['EffectiveDate'].dt.quarter\n",
    "\n",
    "# Create a dictionary mapping quarter numbers to season labels\n",
    "seasons = {1: 'Q1', 2: 'Q2', 3: 'Q3', 4: 'Q4'}\n",
    "\n",
    "# Map the quarter numbers to season labels using the dictionary\n",
    "df['Seasonality'] = df['Quarter'].map(seasons)"
   ]
  },
  {
   "cell_type": "code",
   "execution_count": 154,
   "metadata": {},
   "outputs": [
    {
     "data": {
      "text/html": [
       "<div>\n",
       "<style scoped>\n",
       "    .dataframe tbody tr th:only-of-type {\n",
       "        vertical-align: middle;\n",
       "    }\n",
       "\n",
       "    .dataframe tbody tr th {\n",
       "        vertical-align: top;\n",
       "    }\n",
       "\n",
       "    .dataframe thead th {\n",
       "        text-align: right;\n",
       "    }\n",
       "</style>\n",
       "<table border=\"1\" class=\"dataframe\">\n",
       "  <thead>\n",
       "    <tr style=\"text-align: right;\">\n",
       "      <th></th>\n",
       "      <th>SKU</th>\n",
       "      <th>OfferTermCode</th>\n",
       "      <th>RateCode</th>\n",
       "      <th>PricePerUnit</th>\n",
       "      <th>Instance Type</th>\n",
       "      <th>Instance Family</th>\n",
       "      <th>LeaseContractLength</th>\n",
       "      <th>PurchaseOption</th>\n",
       "      <th>OfferingClass</th>\n",
       "      <th>Product Family</th>\n",
       "      <th>...</th>\n",
       "      <th>Tenancy</th>\n",
       "      <th>Operating System</th>\n",
       "      <th>License Model</th>\n",
       "      <th>year</th>\n",
       "      <th>Network Performance</th>\n",
       "      <th>EffectiveDate</th>\n",
       "      <th>DiskType</th>\n",
       "      <th>StorageSize</th>\n",
       "      <th>Quarter</th>\n",
       "      <th>Seasonality</th>\n",
       "    </tr>\n",
       "  </thead>\n",
       "  <tbody>\n",
       "    <tr>\n",
       "      <th>0</th>\n",
       "      <td>222AY99RA8W7WFR4</td>\n",
       "      <td>38NPMPTW36</td>\n",
       "      <td>222AY99RA8W7WFR4.38NPMPTW36.6YS6EN2CT7</td>\n",
       "      <td>0.0605</td>\n",
       "      <td>r6gd.medium</td>\n",
       "      <td>Memory optimized</td>\n",
       "      <td>3</td>\n",
       "      <td>Partial Upfront</td>\n",
       "      <td>standard</td>\n",
       "      <td>Compute Instance</td>\n",
       "      <td>...</td>\n",
       "      <td>Dedicated</td>\n",
       "      <td>Red Hat Enterprise Linux with HA</td>\n",
       "      <td>No License required</td>\n",
       "      <td>2021</td>\n",
       "      <td>10.0</td>\n",
       "      <td>2021-03-01</td>\n",
       "      <td>NVMe SSD</td>\n",
       "      <td>59</td>\n",
       "      <td>1</td>\n",
       "      <td>Q1</td>\n",
       "    </tr>\n",
       "    <tr>\n",
       "      <th>1</th>\n",
       "      <td>222AY99RA8W7WFR4</td>\n",
       "      <td>4NA7Y494T4</td>\n",
       "      <td>222AY99RA8W7WFR4.4NA7Y494T4.6YS6EN2CT7</td>\n",
       "      <td>0.1403</td>\n",
       "      <td>r6gd.medium</td>\n",
       "      <td>Memory optimized</td>\n",
       "      <td>1</td>\n",
       "      <td>No Upfront</td>\n",
       "      <td>standard</td>\n",
       "      <td>Compute Instance</td>\n",
       "      <td>...</td>\n",
       "      <td>Dedicated</td>\n",
       "      <td>Red Hat Enterprise Linux with HA</td>\n",
       "      <td>No License required</td>\n",
       "      <td>2021</td>\n",
       "      <td>10.0</td>\n",
       "      <td>2021-03-01</td>\n",
       "      <td>NVMe SSD</td>\n",
       "      <td>59</td>\n",
       "      <td>1</td>\n",
       "      <td>Q1</td>\n",
       "    </tr>\n",
       "    <tr>\n",
       "      <th>2</th>\n",
       "      <td>222AY99RA8W7WFR4</td>\n",
       "      <td>7NE97W5U4E</td>\n",
       "      <td>222AY99RA8W7WFR4.7NE97W5U4E.6YS6EN2CT7</td>\n",
       "      <td>0.1466</td>\n",
       "      <td>r6gd.medium</td>\n",
       "      <td>Memory optimized</td>\n",
       "      <td>1</td>\n",
       "      <td>No Upfront</td>\n",
       "      <td>convertible</td>\n",
       "      <td>Compute Instance</td>\n",
       "      <td>...</td>\n",
       "      <td>Dedicated</td>\n",
       "      <td>Red Hat Enterprise Linux with HA</td>\n",
       "      <td>No License required</td>\n",
       "      <td>2021</td>\n",
       "      <td>10.0</td>\n",
       "      <td>2021-03-01</td>\n",
       "      <td>NVMe SSD</td>\n",
       "      <td>59</td>\n",
       "      <td>1</td>\n",
       "      <td>Q1</td>\n",
       "    </tr>\n",
       "    <tr>\n",
       "      <th>3</th>\n",
       "      <td>222AY99RA8W7WFR4</td>\n",
       "      <td>BPH4J8HBKS</td>\n",
       "      <td>222AY99RA8W7WFR4.BPH4J8HBKS.6YS6EN2CT7</td>\n",
       "      <td>0.1231</td>\n",
       "      <td>r6gd.medium</td>\n",
       "      <td>Memory optimized</td>\n",
       "      <td>3</td>\n",
       "      <td>No Upfront</td>\n",
       "      <td>standard</td>\n",
       "      <td>Compute Instance</td>\n",
       "      <td>...</td>\n",
       "      <td>Dedicated</td>\n",
       "      <td>Red Hat Enterprise Linux with HA</td>\n",
       "      <td>No License required</td>\n",
       "      <td>2021</td>\n",
       "      <td>10.0</td>\n",
       "      <td>2021-03-01</td>\n",
       "      <td>NVMe SSD</td>\n",
       "      <td>59</td>\n",
       "      <td>1</td>\n",
       "      <td>Q1</td>\n",
       "    </tr>\n",
       "    <tr>\n",
       "      <th>4</th>\n",
       "      <td>222AY99RsA8W7WFR4</td>\n",
       "      <td>CUZHX8X6JH</td>\n",
       "      <td>222AY99RA8W7WFR4.CUZHX8X6JH.6YS6EN2CT7</td>\n",
       "      <td>0.0721</td>\n",
       "      <td>r6gd.medium</td>\n",
       "      <td>Memory optimized</td>\n",
       "      <td>1</td>\n",
       "      <td>Partial Upfront</td>\n",
       "      <td>convertible</td>\n",
       "      <td>Compute Instance</td>\n",
       "      <td>...</td>\n",
       "      <td>Dedicated</td>\n",
       "      <td>Red Hat Enterprise Linux with HA</td>\n",
       "      <td>No License required</td>\n",
       "      <td>2021</td>\n",
       "      <td>10.0</td>\n",
       "      <td>2021-03-01</td>\n",
       "      <td>NVMe SSD</td>\n",
       "      <td>59</td>\n",
       "      <td>1</td>\n",
       "      <td>Q1</td>\n",
       "    </tr>\n",
       "    <tr>\n",
       "      <th>...</th>\n",
       "      <td>...</td>\n",
       "      <td>...</td>\n",
       "      <td>...</td>\n",
       "      <td>...</td>\n",
       "      <td>...</td>\n",
       "      <td>...</td>\n",
       "      <td>...</td>\n",
       "      <td>...</td>\n",
       "      <td>...</td>\n",
       "      <td>...</td>\n",
       "      <td>...</td>\n",
       "      <td>...</td>\n",
       "      <td>...</td>\n",
       "      <td>...</td>\n",
       "      <td>...</td>\n",
       "      <td>...</td>\n",
       "      <td>...</td>\n",
       "      <td>...</td>\n",
       "      <td>...</td>\n",
       "      <td>...</td>\n",
       "      <td>...</td>\n",
       "    </tr>\n",
       "    <tr>\n",
       "      <th>558490</th>\n",
       "      <td>ZZZU9HQBJNWNW7AD</td>\n",
       "      <td>BPH4J8HBKS</td>\n",
       "      <td>ZZZU9HQBJNWNW7AD.BPH4J8HBKS.6YS6EN2CT7</td>\n",
       "      <td>0.1470</td>\n",
       "      <td>c5ad.xlarge</td>\n",
       "      <td>Compute optimized</td>\n",
       "      <td>3</td>\n",
       "      <td>No Upfront</td>\n",
       "      <td>standard</td>\n",
       "      <td>Compute Instance</td>\n",
       "      <td>...</td>\n",
       "      <td>Shared</td>\n",
       "      <td>RHEL</td>\n",
       "      <td>No License required</td>\n",
       "      <td>2020</td>\n",
       "      <td>10.0</td>\n",
       "      <td>2020-06-01</td>\n",
       "      <td>NVMe SSD</td>\n",
       "      <td>150</td>\n",
       "      <td>2</td>\n",
       "      <td>Q2</td>\n",
       "    </tr>\n",
       "    <tr>\n",
       "      <th>558491</th>\n",
       "      <td>ZZZU9HQBJNWNW7AD</td>\n",
       "      <td>CUZHX8X6JH</td>\n",
       "      <td>ZZZU9HQBJNWNW7AD.CUZHX8X6JH.6YS6EN2CT7</td>\n",
       "      <td>0.1340</td>\n",
       "      <td>c5ad.xlarge</td>\n",
       "      <td>Compute optimized</td>\n",
       "      <td>1</td>\n",
       "      <td>Partial Upfront</td>\n",
       "      <td>convertible</td>\n",
       "      <td>Compute Instance</td>\n",
       "      <td>...</td>\n",
       "      <td>Shared</td>\n",
       "      <td>RHEL</td>\n",
       "      <td>No License required</td>\n",
       "      <td>2020</td>\n",
       "      <td>10.0</td>\n",
       "      <td>2020-06-01</td>\n",
       "      <td>NVMe SSD</td>\n",
       "      <td>150</td>\n",
       "      <td>2</td>\n",
       "      <td>Q2</td>\n",
       "    </tr>\n",
       "    <tr>\n",
       "      <th>558492</th>\n",
       "      <td>ZZZU9HQBJNWNW7AD</td>\n",
       "      <td>HU7G6KETJZ</td>\n",
       "      <td>ZZZU9HQBJNWNW7AD.HU7G6KETJZ.6YS6EN2CT7</td>\n",
       "      <td>0.1210</td>\n",
       "      <td>c5ad.xlarge</td>\n",
       "      <td>Compute optimized</td>\n",
       "      <td>1</td>\n",
       "      <td>Partial Upfront</td>\n",
       "      <td>standard</td>\n",
       "      <td>Compute Instance</td>\n",
       "      <td>...</td>\n",
       "      <td>Shared</td>\n",
       "      <td>RHEL</td>\n",
       "      <td>No License required</td>\n",
       "      <td>2020</td>\n",
       "      <td>10.0</td>\n",
       "      <td>2020-06-01</td>\n",
       "      <td>NVMe SSD</td>\n",
       "      <td>150</td>\n",
       "      <td>2</td>\n",
       "      <td>Q2</td>\n",
       "    </tr>\n",
       "    <tr>\n",
       "      <th>558493</th>\n",
       "      <td>ZZZU9HQBJNWNW7AD</td>\n",
       "      <td>R5XV2EPZQZ</td>\n",
       "      <td>ZZZU9HQBJNWNW7AD.R5XV2EPZQZ.6YS6EN2CT7</td>\n",
       "      <td>0.1080</td>\n",
       "      <td>c5ad.xlarge</td>\n",
       "      <td>Compute optimized</td>\n",
       "      <td>3</td>\n",
       "      <td>Partial Upfront</td>\n",
       "      <td>convertible</td>\n",
       "      <td>Compute Instance</td>\n",
       "      <td>...</td>\n",
       "      <td>Shared</td>\n",
       "      <td>RHEL</td>\n",
       "      <td>No License required</td>\n",
       "      <td>2020</td>\n",
       "      <td>10.0</td>\n",
       "      <td>2020-06-01</td>\n",
       "      <td>NVMe SSD</td>\n",
       "      <td>150</td>\n",
       "      <td>2</td>\n",
       "      <td>Q2</td>\n",
       "    </tr>\n",
       "    <tr>\n",
       "      <th>558494</th>\n",
       "      <td>ZZZU9HQBJNWNW7AD</td>\n",
       "      <td>Z2E3P23VKM</td>\n",
       "      <td>ZZZU9HQBJNWNW7AD.Z2E3P23VKM.6YS6EN2CT7</td>\n",
       "      <td>0.1630</td>\n",
       "      <td>c5ad.xlarge</td>\n",
       "      <td>Compute optimized</td>\n",
       "      <td>3</td>\n",
       "      <td>No Upfront</td>\n",
       "      <td>convertible</td>\n",
       "      <td>Compute Instance</td>\n",
       "      <td>...</td>\n",
       "      <td>Shared</td>\n",
       "      <td>RHEL</td>\n",
       "      <td>No License required</td>\n",
       "      <td>2020</td>\n",
       "      <td>10.0</td>\n",
       "      <td>2020-06-01</td>\n",
       "      <td>NVMe SSD</td>\n",
       "      <td>150</td>\n",
       "      <td>2</td>\n",
       "      <td>Q2</td>\n",
       "    </tr>\n",
       "  </tbody>\n",
       "</table>\n",
       "<p>455197 rows × 24 columns</p>\n",
       "</div>"
      ],
      "text/plain": [
       "                      SKU OfferTermCode  \\\n",
       "0        222AY99RA8W7WFR4    38NPMPTW36   \n",
       "1        222AY99RA8W7WFR4    4NA7Y494T4   \n",
       "2        222AY99RA8W7WFR4    7NE97W5U4E   \n",
       "3        222AY99RA8W7WFR4    BPH4J8HBKS   \n",
       "4       222AY99RsA8W7WFR4    CUZHX8X6JH   \n",
       "...                   ...           ...   \n",
       "558490   ZZZU9HQBJNWNW7AD    BPH4J8HBKS   \n",
       "558491   ZZZU9HQBJNWNW7AD    CUZHX8X6JH   \n",
       "558492   ZZZU9HQBJNWNW7AD    HU7G6KETJZ   \n",
       "558493   ZZZU9HQBJNWNW7AD    R5XV2EPZQZ   \n",
       "558494   ZZZU9HQBJNWNW7AD    Z2E3P23VKM   \n",
       "\n",
       "                                      RateCode  PricePerUnit Instance Type  \\\n",
       "0       222AY99RA8W7WFR4.38NPMPTW36.6YS6EN2CT7        0.0605   r6gd.medium   \n",
       "1       222AY99RA8W7WFR4.4NA7Y494T4.6YS6EN2CT7        0.1403   r6gd.medium   \n",
       "2       222AY99RA8W7WFR4.7NE97W5U4E.6YS6EN2CT7        0.1466   r6gd.medium   \n",
       "3       222AY99RA8W7WFR4.BPH4J8HBKS.6YS6EN2CT7        0.1231   r6gd.medium   \n",
       "4       222AY99RA8W7WFR4.CUZHX8X6JH.6YS6EN2CT7        0.0721   r6gd.medium   \n",
       "...                                        ...           ...           ...   \n",
       "558490  ZZZU9HQBJNWNW7AD.BPH4J8HBKS.6YS6EN2CT7        0.1470   c5ad.xlarge   \n",
       "558491  ZZZU9HQBJNWNW7AD.CUZHX8X6JH.6YS6EN2CT7        0.1340   c5ad.xlarge   \n",
       "558492  ZZZU9HQBJNWNW7AD.HU7G6KETJZ.6YS6EN2CT7        0.1210   c5ad.xlarge   \n",
       "558493  ZZZU9HQBJNWNW7AD.R5XV2EPZQZ.6YS6EN2CT7        0.1080   c5ad.xlarge   \n",
       "558494  ZZZU9HQBJNWNW7AD.Z2E3P23VKM.6YS6EN2CT7        0.1630   c5ad.xlarge   \n",
       "\n",
       "          Instance Family  LeaseContractLength   PurchaseOption OfferingClass  \\\n",
       "0        Memory optimized                    3  Partial Upfront      standard   \n",
       "1        Memory optimized                    1       No Upfront      standard   \n",
       "2        Memory optimized                    1       No Upfront   convertible   \n",
       "3        Memory optimized                    3       No Upfront      standard   \n",
       "4        Memory optimized                    1  Partial Upfront   convertible   \n",
       "...                   ...                  ...              ...           ...   \n",
       "558490  Compute optimized                    3       No Upfront      standard   \n",
       "558491  Compute optimized                    1  Partial Upfront   convertible   \n",
       "558492  Compute optimized                    1  Partial Upfront      standard   \n",
       "558493  Compute optimized                    3  Partial Upfront   convertible   \n",
       "558494  Compute optimized                    3       No Upfront   convertible   \n",
       "\n",
       "          Product Family  ...    Tenancy                  Operating System  \\\n",
       "0       Compute Instance  ...  Dedicated  Red Hat Enterprise Linux with HA   \n",
       "1       Compute Instance  ...  Dedicated  Red Hat Enterprise Linux with HA   \n",
       "2       Compute Instance  ...  Dedicated  Red Hat Enterprise Linux with HA   \n",
       "3       Compute Instance  ...  Dedicated  Red Hat Enterprise Linux with HA   \n",
       "4       Compute Instance  ...  Dedicated  Red Hat Enterprise Linux with HA   \n",
       "...                  ...  ...        ...                               ...   \n",
       "558490  Compute Instance  ...     Shared                              RHEL   \n",
       "558491  Compute Instance  ...     Shared                              RHEL   \n",
       "558492  Compute Instance  ...     Shared                              RHEL   \n",
       "558493  Compute Instance  ...     Shared                              RHEL   \n",
       "558494  Compute Instance  ...     Shared                              RHEL   \n",
       "\n",
       "              License Model  year Network Performance EffectiveDate  DiskType  \\\n",
       "0       No License required  2021                10.0    2021-03-01  NVMe SSD   \n",
       "1       No License required  2021                10.0    2021-03-01  NVMe SSD   \n",
       "2       No License required  2021                10.0    2021-03-01  NVMe SSD   \n",
       "3       No License required  2021                10.0    2021-03-01  NVMe SSD   \n",
       "4       No License required  2021                10.0    2021-03-01  NVMe SSD   \n",
       "...                     ...   ...                 ...           ...       ...   \n",
       "558490  No License required  2020                10.0    2020-06-01  NVMe SSD   \n",
       "558491  No License required  2020                10.0    2020-06-01  NVMe SSD   \n",
       "558492  No License required  2020                10.0    2020-06-01  NVMe SSD   \n",
       "558493  No License required  2020                10.0    2020-06-01  NVMe SSD   \n",
       "558494  No License required  2020                10.0    2020-06-01  NVMe SSD   \n",
       "\n",
       "        StorageSize  Quarter Seasonality  \n",
       "0                59        1          Q1  \n",
       "1                59        1          Q1  \n",
       "2                59        1          Q1  \n",
       "3                59        1          Q1  \n",
       "4                59        1          Q1  \n",
       "...             ...      ...         ...  \n",
       "558490          150        2          Q2  \n",
       "558491          150        2          Q2  \n",
       "558492          150        2          Q2  \n",
       "558493          150        2          Q2  \n",
       "558494          150        2          Q2  \n",
       "\n",
       "[455197 rows x 24 columns]"
      ]
     },
     "execution_count": 154,
     "metadata": {},
     "output_type": "execute_result"
    }
   ],
   "source": [
    "df"
   ]
  },
  {
   "cell_type": "code",
   "execution_count": 155,
   "metadata": {},
   "outputs": [
    {
     "name": "stdout",
     "output_type": "stream",
     "text": [
      "<class 'pandas.core.frame.DataFrame'>\n",
      "Int64Index: 455197 entries, 0 to 558494\n",
      "Data columns (total 24 columns):\n",
      " #   Column               Non-Null Count   Dtype         \n",
      "---  ------               --------------   -----         \n",
      " 0   SKU                  455197 non-null  object        \n",
      " 1   OfferTermCode        455197 non-null  object        \n",
      " 2   RateCode             455197 non-null  object        \n",
      " 3   PricePerUnit         455197 non-null  float64       \n",
      " 4   Instance Type        455197 non-null  object        \n",
      " 5   Instance Family      455197 non-null  object        \n",
      " 6   LeaseContractLength  455197 non-null  int64         \n",
      " 7   PurchaseOption       455197 non-null  object        \n",
      " 8   OfferingClass        455197 non-null  object        \n",
      " 9   Product Family       455197 non-null  object        \n",
      " 10  Location             455197 non-null  object        \n",
      " 11  Current Generation   455197 non-null  object        \n",
      " 12  vCPU                 455197 non-null  int64         \n",
      " 13  Memory               455197 non-null  int64         \n",
      " 14  Tenancy              455197 non-null  object        \n",
      " 15  Operating System     455197 non-null  object        \n",
      " 16  License Model        455197 non-null  object        \n",
      " 17  year                 455197 non-null  int64         \n",
      " 18  Network Performance  455197 non-null  float64       \n",
      " 19  EffectiveDate        455197 non-null  datetime64[ns]\n",
      " 20  DiskType             455197 non-null  object        \n",
      " 21  StorageSize          455197 non-null  int64         \n",
      " 22  Quarter              455197 non-null  int64         \n",
      " 23  Seasonality          455197 non-null  object        \n",
      "dtypes: datetime64[ns](1), float64(2), int64(6), object(15)\n",
      "memory usage: 86.8+ MB\n"
     ]
    }
   ],
   "source": [
    "df.info()"
   ]
  },
  {
   "cell_type": "code",
   "execution_count": 168,
   "metadata": {},
   "outputs": [],
   "source": [
    "# Calculate statistic metricsby group\n",
    "stats = df.groupby(['year', 'Instance Family'])['PricePerUnit'].agg(\n",
    "    ['mean', 'std', 'median', 'max', 'min']).reset_index()\n",
    "stats.rename(columns={'mean': 'mean_price', 'std': 'std_deviation',\n",
    "             'max': 'maximum', 'min': 'minimum'}, inplace=True)"
   ]
  },
  {
   "cell_type": "code",
   "execution_count": 172,
   "metadata": {},
   "outputs": [
    {
     "name": "stdout",
     "output_type": "stream",
     "text": [
      "Opening in existing browser session.\n"
     ]
    },
    {
     "name": "stderr",
     "output_type": "stream",
     "text": [
      "/snap/core20/current/lib/x86_64-linux-gnu/libstdc++.so.6: version `GLIBCXX_3.4.29' not found (required by /lib/x86_64-linux-gnu/libproxy.so.1)\n",
      "Failed to load module: /home/gfragi/snap/code/common/.cache/gio-modules/libgiolibproxy.so\n",
      "Gtk-Message: 14:45:21.589: Failed to load module \"canberra-gtk-module\"\n",
      "Gtk-Message: 14:45:21.589: Failed to load module \"canberra-gtk-module\"\n"
     ]
    }
   ],
   "source": [
    "import plotly.express as px\n",
    "\n",
    "fig = px.line(stats, x='year', y=['median'],\n",
    "              color='Instance Family', template='plotly_dark',\n",
    "              title='Evolution of median price by Instance Family')\n",
    "\n",
    "fig.update_traces(mode='lines+markers')\n",
    "\n",
    "fig.update_yaxes(range=[0, 7])\n",
    "\n",
    "fig.update_layout(\n",
    "    xaxis=dict(title='Year', tickfont=dict(size=20, family='Arial')),\n",
    "    yaxis=dict(title='Price per Unit', tickfont=dict(size=20, family='Arial')),\n",
    "    legend=dict(orientation='h', yanchor='bottom',\n",
    "                y=1.02, xanchor='right', x=1),\n",
    "    title=dict(font=dict(size=24, family='Arial')),\n",
    "    font=dict(size=18, family='Arial')\n",
    ")\n",
    "\n",
    "fig.show()"
   ]
  },
  {
   "cell_type": "code",
   "execution_count": 158,
   "metadata": {},
   "outputs": [
    {
     "name": "stderr",
     "output_type": "stream",
     "text": [
      "libva error: vaGetDriverNameByIndex() failed with unknown libva error, driver_name = (null)\n",
      "/snap/core20/current/lib/x86_64-linux-gnu/libstdc++.so.6: version `GLIBCXX_3.4.29' not found (required by /lib/x86_64-linux-gnu/libproxy.so.1)\n",
      "Failed to load module: /home/gfragi/snap/code/common/.cache/gio-modules/libgiolibproxy.so\n"
     ]
    },
    {
     "name": "stdout",
     "output_type": "stream",
     "text": [
      "Opening in existing browser session.\n"
     ]
    },
    {
     "name": "stderr",
     "output_type": "stream",
     "text": [
      "Gtk-Message: 14:19:11.315: Failed to load module \"canberra-gtk-module\"\n",
      "Gtk-Message: 14:19:11.316: Failed to load module \"canberra-gtk-module\"\n"
     ]
    }
   ],
   "source": [
    "fig = px.scatter(df, x=df.index, y=df['PricePerUnit'], template='plotly_dark',\n",
    "                 labels=dict(x='Data points', y='Price per unit'),\n",
    "                 color='PricePerUnit', title='Density of Price per year', facet_col='year',\n",
    "                 category_orders={'year': [2016, 2017, 2018, 2019, 2020, 2021, 2022]})\n",
    "\n",
    "# fig.write_html(\"results/stats/density.html\")\n",
    "fig.show()"
   ]
  },
  {
   "cell_type": "code",
   "execution_count": 180,
   "metadata": {},
   "outputs": [
    {
     "name": "stderr",
     "output_type": "stream",
     "text": [
      "/snap/core20/current/lib/x86_64-linux-gnu/libstdc++.so.6: version `GLIBCXX_3.4.29' not found (required by /lib/x86_64-linux-gnu/libproxy.so.1)\n",
      "Failed to load module: /home/gfragi/snap/code/common/.cache/gio-modules/libgiolibproxy.so\n",
      "Gtk-Message: 14:59:36.219: Failed to load module \"canberra-gtk-module\"\n",
      "Gtk-Message: 14:59:36.220: Failed to load module \"canberra-gtk-module\"\n"
     ]
    },
    {
     "name": "stdout",
     "output_type": "stream",
     "text": [
      "Opening in existing browser session.\n"
     ]
    },
    {
     "name": "stderr",
     "output_type": "stream",
     "text": [
      "libva error: vaGetDriverNameByIndex() failed with unknown libva error, driver_name = (null)\n"
     ]
    }
   ],
   "source": [
    "import plotly.express as px\n",
    "\n",
    "fig = px.scatter_3d(df, x='year', y='Instance Family', z='PricePerUnit', template='plotly_dark',\n",
    "                    labels=dict(z='Price per Hour'),\n",
    "                    color='Instance Family', title='Density of Price per Year',\n",
    "                    category_orders={'year': [2016, 2017, 2018, 2019, 2020, 2021, 2022]})\n",
    "\n",
    "fig.update_layout(\n",
    "    legend=dict(orientation='h', yanchor='bottom',\n",
    "                y=-0.1, xanchor='left', x=0),\n",
    "    font=dict(size=16, family='Arial'),\n",
    "    scene=dict(\n",
    "        xaxis=dict(title_font=dict(size=20, family='Arial')),\n",
    "        yaxis=dict(title_font=dict(size=20, family='Arial')),\n",
    "        zaxis=dict(title_font=dict(size=20, family='Arial')),\n",
    "        xaxis_title='', yaxis_title='', zaxis_title='Price($) per Hour'\n",
    "    ),\n",
    "    title=dict(font=dict(size=24, family='Arial'))\n",
    ")\n",
    "\n",
    "fig.update_traces(marker=dict(size=8))\n",
    "\n",
    "fig.show()"
   ]
  },
  {
   "cell_type": "code",
   "execution_count": 162,
   "metadata": {},
   "outputs": [
    {
     "name": "stderr",
     "output_type": "stream",
     "text": [
      "/snap/core20/current/lib/x86_64-linux-gnu/libstdc++.so.6: version `GLIBCXX_3.4.29' not found (required by /lib/x86_64-linux-gnu/libproxy.so.1)\n",
      "Failed to load module: /home/gfragi/snap/code/common/.cache/gio-modules/libgiolibproxy.so\n",
      "Gtk-Message: 14:21:19.383: Failed to load module \"canberra-gtk-module\"\n",
      "Gtk-Message: 14:21:19.384: Failed to load module \"canberra-gtk-module\"\n"
     ]
    },
    {
     "name": "stdout",
     "output_type": "stream",
     "text": [
      "Opening in existing browser session.\n"
     ]
    },
    {
     "name": "stderr",
     "output_type": "stream",
     "text": [
      "libva error: vaGetDriverNameByIndex() failed with unknown libva error, driver_name = (null)\n"
     ]
    }
   ],
   "source": [
    "import plotly.express as px\n",
    "\n",
    "fig = px.scatter(df, x='year', y='Instance Family', color='PricePerUnit', template='plotly_dark',\n",
    "                 labels=dict(x='Year', y='Instance Family',\n",
    "                             color='Price per Hour'),\n",
    "                 color_continuous_scale='Viridis', title='Density of Price per Year')\n",
    "\n",
    "fig.update_layout(\n",
    "    legend=dict(orientation='v', yanchor='bottom',\n",
    "                y=0.5, xanchor='right', x=0),\n",
    "    font=dict(size=16, family='Arial'),\n",
    "    xaxis=dict(title_font=dict(size=20, family='Arial')),\n",
    "    yaxis=dict(title_font=dict(size=20, family='Arial')),\n",
    "    title=dict(font=dict(size=24, family='Arial'))\n",
    ")\n",
    "\n",
    "fig.update_traces(marker=dict(size=8))\n",
    "\n",
    "fig.show()"
   ]
  }
 ],
 "metadata": {
  "kernelspec": {
   "display_name": "price3.9_env",
   "language": "python",
   "name": "price3.9_env"
  },
  "language_info": {
   "codemirror_mode": {
    "name": "ipython",
    "version": 3
   },
   "file_extension": ".py",
   "mimetype": "text/x-python",
   "name": "python",
   "nbconvert_exporter": "python",
   "pygments_lexer": "ipython3",
   "version": "3.9.17"
  },
  "orig_nbformat": 4
 },
 "nbformat": 4,
 "nbformat_minor": 2
}
