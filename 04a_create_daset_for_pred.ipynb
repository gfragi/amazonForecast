{
 "cells": [
  {
   "cell_type": "code",
   "execution_count": 167,
   "metadata": {},
   "outputs": [],
   "source": [
    "import mlflow.sklearn\n",
    "import pandas as pd\n",
    "import plotly.graph_objects as go\n",
    "\n",
    "\n",
    "import my_functions as mf"
   ]
  },
  {
   "attachments": {},
   "cell_type": "markdown",
   "metadata": {},
   "source": []
  },
  {
   "cell_type": "code",
   "execution_count": 168,
   "metadata": {},
   "outputs": [
    {
     "name": "stdout",
     "output_type": "stream",
     "text": [
      "<class 'pandas.core.frame.DataFrame'>\n",
      "RangeIndex: 554079 entries, 0 to 554078\n",
      "Data columns (total 25 columns):\n",
      " #   Column               Non-Null Count   Dtype         \n",
      "---  ------               --------------   -----         \n",
      " 0   SKU                  554079 non-null  object        \n",
      " 1   OfferTermCode        554079 non-null  object        \n",
      " 2   RateCode             554079 non-null  object        \n",
      " 3   PricePerUnit         554079 non-null  float64       \n",
      " 4   instanceType         554079 non-null  object        \n",
      " 5   instanceFamily       554079 non-null  object        \n",
      " 6   LeaseContractLength  554079 non-null  int64         \n",
      " 7   PurchaseOption       554079 non-null  object        \n",
      " 8   OfferingClass        554079 non-null  object        \n",
      " 9   Product Family       554079 non-null  object        \n",
      " 10  Location             554079 non-null  object        \n",
      " 11  Current Generation   554079 non-null  object        \n",
      " 12  vCPU                 554079 non-null  int64         \n",
      " 13  Memory               554079 non-null  int64         \n",
      " 14  Tenancy              554079 non-null  object        \n",
      " 15  operatingSystem      554079 non-null  object        \n",
      " 16  License Model        554079 non-null  object        \n",
      " 17  year                 554079 non-null  int64         \n",
      " 18  TermType             554079 non-null  object        \n",
      " 19  networkPerformance   554079 non-null  float64       \n",
      " 20  EffectiveDate        554079 non-null  datetime64[ns]\n",
      " 21  DiskType             554079 non-null  object        \n",
      " 22  StorageSize          554079 non-null  int64         \n",
      " 23  Quarter              554079 non-null  int64         \n",
      " 24  YearQuarter          554079 non-null  object        \n",
      "dtypes: datetime64[ns](1), float64(2), int64(6), object(16)\n",
      "memory usage: 105.7+ MB\n"
     ]
    }
   ],
   "source": [
    "# Import data for prediction\n",
    "\n",
    "data = pd.read_csv(f'./data/amazon_22_quarters.csv',\n",
    "                   parse_dates=['EffectiveDate'])\n",
    "\n",
    "data.info()"
   ]
  },
  {
   "cell_type": "code",
   "execution_count": 169,
   "metadata": {},
   "outputs": [],
   "source": [
    "data = data[['PricePerUnit', 'LeaseContractLength', 'PurchaseOption', 'vCPU',\n",
    "             'Memory', 'operatingSystem', 'networkPerformance', 'StorageSize',\n",
    "             'DiskType', 'Quarter', 'instanceType', 'instanceFamily', 'YearQuarter', 'year']]"
   ]
  },
  {
   "cell_type": "code",
   "execution_count": 170,
   "metadata": {},
   "outputs": [],
   "source": [
    "count_instTypes = data['instanceType'].value_counts()"
   ]
  },
  {
   "cell_type": "code",
   "execution_count": 171,
   "metadata": {},
   "outputs": [
    {
     "name": "stderr",
     "output_type": "stream",
     "text": [
      "/tmp/ipykernel_873968/1787295621.py:3: FutureWarning: The default value of numeric_only in DataFrameGroupBy.mean is deprecated. In a future version, numeric_only will default to False. Either specify numeric_only or select only columns which should be valid for the function.\n",
      "  df_grouped = grouped_data.mean().reset_index()\n"
     ]
    }
   ],
   "source": [
    "grouped_data = data.groupby(['instanceType', 'instanceFamily'])\n",
    "\n",
    "df_grouped = grouped_data.mean().reset_index()"
   ]
  },
  {
   "cell_type": "code",
   "execution_count": 172,
   "metadata": {},
   "outputs": [],
   "source": [
    "# Take instanceType as input from the user\n",
    "\n",
    "# instance_type = \"g5.2xlarge\"\n",
    "# operating_system = 'Windows'\n",
    "# purchase_option = \"Partial Upfront\"\n",
    "\n",
    "instance_type = input(\"Enter the instance type: \")\n",
    "operating_system = input(\"Enter the operating system: \")\n",
    "purchase_option = input(\"Enter the purchase option: \")\n",
    "\n",
    "\n",
    "# filter by instance type data\n",
    "# filtered_data = data[(data['instanceType'] == instance_type)\n",
    "#                      & (data['year'] > 2021)]"
   ]
  },
  {
   "cell_type": "code",
   "execution_count": 173,
   "metadata": {},
   "outputs": [
    {
     "name": "stderr",
     "output_type": "stream",
     "text": [
      "/tmp/ipykernel_873968/4022339667.py:7: FutureWarning: Indexing with multiple keys (implicitly converted to a tuple of keys) will be deprecated, use a list instead.\n",
      "  grouped_data = filtered_data.groupby('YearQuarter')['PricePerUnit', 'LeaseContractLength', 'PurchaseOption',\n",
      "/tmp/ipykernel_873968/4022339667.py:7: FutureWarning: The default value of numeric_only in DataFrameGroupBy.mean is deprecated. In a future version, numeric_only will default to False. Either specify numeric_only or select only columns which should be valid for the function.\n",
      "  grouped_data = filtered_data.groupby('YearQuarter')['PricePerUnit', 'LeaseContractLength', 'PurchaseOption',\n"
     ]
    }
   ],
   "source": [
    "filtered_data = data[(data['instanceType'] == instance_type)\n",
    "                     & (data['operatingSystem'] == operating_system)\n",
    "                     & (data['PurchaseOption'] == purchase_option)\n",
    "                     & (data['year'] > 2016)]\n",
    "\n",
    "# Group the filtered data by YearQuarter and calculate the mean price\n",
    "grouped_data = filtered_data.groupby('YearQuarter')['PricePerUnit', 'LeaseContractLength', 'PurchaseOption',\n",
    "                                                    'vCPU', 'Memory', 'operatingSystem',\n",
    "                                                    'networkPerformance', 'StorageSize',\n",
    "                                                    'DiskType', 'Quarter', 'instanceType',\n",
    "                                                    'instanceFamily', 'YearQuarter', 'year'].mean()\n",
    "\n",
    "# Convert the grouped data to a DataFrame\n",
    "grouped_data = grouped_data.reset_index()\n",
    "\n",
    "\n",
    "grouped_data['year'] = grouped_data['year'].astype(int)"
   ]
  },
  {
   "cell_type": "code",
   "execution_count": 174,
   "metadata": {},
   "outputs": [],
   "source": [
    "if 'PurchaseOption' not in grouped_data.columns:\n",
    "    grouped_data.insert(3, 'PurchaseOption', purchase_option)\n",
    "\n",
    "if 'operatingSystem' not in grouped_data.columns:\n",
    "    grouped_data.insert(5, 'operatingSystem', operating_system)\n",
    "\n",
    "DiskType = \"SSD\"\n",
    "if 'DiskType' not in grouped_data.columns:\n",
    "    grouped_data.insert(5, 'DiskType', DiskType)"
   ]
  },
  {
   "cell_type": "code",
   "execution_count": 175,
   "metadata": {},
   "outputs": [],
   "source": [
    "# Create a new DataFrame with the same values as the previous row\n",
    "new_rows = pd.concat([grouped_data.iloc[[-1]]] * 4, ignore_index=True)\n",
    "\n",
    "# Set the YearQuarter values for the new rows\n",
    "last_year_quarter = pd.Period(grouped_data['YearQuarter'].iloc[-1])\n",
    "new_rows['YearQuarter'] = pd.period_range(\n",
    "    start=last_year_quarter + 1, periods=4, freq='Q')\n",
    "\n",
    "# Change the year in the new rows\n",
    "new_rows['year'] = new_rows['year'] + 1\n",
    "\n",
    "\n",
    "# Append the new rows to the original DataFrame\n",
    "grouped_data = pd.concat([grouped_data, new_rows], ignore_index=True)"
   ]
  },
  {
   "cell_type": "code",
   "execution_count": 176,
   "metadata": {},
   "outputs": [],
   "source": [
    "grouped_data.to_csv(\n",
    "    f'./data/{instance_type}_{operating_system}_{purchase_option}.csv', index=False)"
   ]
  }
 ],
 "metadata": {
  "kernelspec": {
   "display_name": "price39_env",
   "language": "python",
   "name": "price39_env"
  },
  "language_info": {
   "codemirror_mode": {
    "name": "ipython",
    "version": 3
   },
   "file_extension": ".py",
   "mimetype": "text/x-python",
   "name": "python",
   "nbconvert_exporter": "python",
   "pygments_lexer": "ipython3",
   "version": "3.9.16"
  },
  "orig_nbformat": 4
 },
 "nbformat": 4,
 "nbformat_minor": 2
}
