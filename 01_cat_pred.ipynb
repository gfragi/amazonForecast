{
 "cells": [
  {
   "attachments": {},
   "cell_type": "markdown",
   "metadata": {},
   "source": [
    "## Imports"
   ]
  },
  {
   "cell_type": "code",
   "execution_count": 5,
   "metadata": {
    "tags": []
   },
   "outputs": [],
   "source": [
    "# Importing machine learning algorithms\n",
    "import lightgbm as lgb\n",
    "import xgboost as xgb\n",
    "import catboost as cb\n",
    "\n",
    "# Importing other packages\n",
    "import timeit\n",
    "import pandas as pd\n",
    "import numpy as np\n",
    "import neptune\n",
    "import tempfile\n",
    "from scipy import stats\n",
    "import time\n",
    "\n",
    "\n",
    "import seaborn as sns\n",
    "import matplotlib.pyplot as plt\n",
    "from catboost import CatBoostRegressor\n",
    "import my_functions as mf\n",
    "\n",
    "import mlflow\n",
    "import mlflow.catboost\n",
    "import os\n",
    "\n",
    "\n",
    "# Importing packages for machine learning operations\n",
    "from sklearn.model_selection import train_test_split, GridSearchCV\n",
    "from sklearn.metrics import roc_auc_score\n",
    "\n",
    "\n",
    "import plotly.graph_objects as go\n",
    "import plotly.io as pio\n",
    "\n",
    "pio.renderers.default = \"browser\""
   ]
  },
  {
   "attachments": {},
   "cell_type": "markdown",
   "metadata": {},
   "source": [
    "## Start Experiment"
   ]
  },
  {
   "cell_type": "code",
   "execution_count": 6,
   "metadata": {},
   "outputs": [],
   "source": [
    "\n",
    "\n",
    "# Set the experiment name in MLflow\n",
    "instance_Family = 'ALL'\n",
    "# General_purpose\n",
    "# Memory_optimized\n",
    "# Storage_optimized\n",
    "# Compute_optimized\n",
    "# GPU instance\n",
    "\n",
    "outlier = 'zscore'\n",
    "\n",
    "# zscore\n",
    "# iqr\n",
    "# lof\n",
    "# isolation\n",
    "\n",
    "\n",
    "mlflow.set_experiment(instance_Family)\n",
    "mlflow.set_tracking_uri(\"file:///media/gfragi/data/BarraCuda/mlruns/mlruns/\")"
   ]
  },
  {
   "attachments": {},
   "cell_type": "markdown",
   "metadata": {},
   "source": [
    "### Add some experiment tags"
   ]
  },
  {
   "cell_type": "code",
   "execution_count": 7,
   "metadata": {},
   "outputs": [],
   "source": [
    "\n",
    "# Set tags for the run\n",
    "tags = {\n",
    "    \"experiment\": \"catboost_regression\",\n",
    "    \"model_type\": \"CatBoostRegressor\",\n",
    "    # \"task_type\": \"CPU\",\n",
    "    \"dataset\": \"Amazon\",\n",
    "    \"year to predict\": \"2022\",\n",
    "    \"all years for prediction\": \"no\",\n",
    "    \"outlier\": outlier\n",
    "}\n",
    "\n",
    "# Set the tags for the current run\n",
    "mlflow.set_tags(tags)"
   ]
  },
  {
   "cell_type": "code",
   "execution_count": 8,
   "metadata": {},
   "outputs": [],
   "source": [
    "# mlflow.end_run()"
   ]
  },
  {
   "attachments": {},
   "cell_type": "markdown",
   "metadata": {},
   "source": [
    "## Import data "
   ]
  },
  {
   "cell_type": "code",
   "execution_count": 9,
   "metadata": {
    "tags": []
   },
   "outputs": [],
   "source": [
    "\n",
    "data_all = pd.read_csv(\n",
    "    f'./data/amazon_22.csv', parse_dates=['EffectiveDate'])\n",
    "\n",
    "# data = data.drop(['OfferTermCode', 'instanceType', 'instanceFamily', 'OfferingClass'], axis=1)\n",
    "\n",
    "data_all = data_all.drop(['SKU', 'RateCode', 'OfferTermCode', 'Location',\n",
    "                          'License Model', 'TermType','year', 'Tenancy', 'OfferingClass',\n",
    "                          'instanceType', 'Product Family','Current Generation',\n",
    "                          'License Model'], axis=1)"
   ]
  },
  {
   "cell_type": "code",
   "execution_count": 10,
   "metadata": {
    "tags": []
   },
   "outputs": [
    {
     "name": "stdout",
     "output_type": "stream",
     "text": [
      "<class 'pandas.core.frame.DataFrame'>\n",
      "RangeIndex: 570343 entries, 0 to 570342\n",
      "Data columns (total 11 columns):\n",
      " #   Column               Non-Null Count   Dtype         \n",
      "---  ------               --------------   -----         \n",
      " 0   PricePerUnit         570343 non-null  float64       \n",
      " 1   instanceFamily       570343 non-null  object        \n",
      " 2   LeaseContractLength  570343 non-null  int64         \n",
      " 3   PurchaseOption       570343 non-null  object        \n",
      " 4   vCPU                 570343 non-null  int64         \n",
      " 5   Memory               570343 non-null  int64         \n",
      " 6   operatingSystem      570343 non-null  object        \n",
      " 7   Network Performance  570343 non-null  float64       \n",
      " 8   EffectiveDate        570343 non-null  datetime64[ns]\n",
      " 9   DiskType             570343 non-null  object        \n",
      " 10  StorageSize          570343 non-null  int64         \n",
      "dtypes: datetime64[ns](1), float64(2), int64(4), object(4)\n",
      "memory usage: 47.9+ MB\n"
     ]
    }
   ],
   "source": [
    "data_all.info()"
   ]
  },
  {
   "cell_type": "code",
   "execution_count": 11,
   "metadata": {},
   "outputs": [],
   "source": [
    "# Select regions"
   ]
  },
  {
   "cell_type": "code",
   "execution_count": 12,
   "metadata": {},
   "outputs": [],
   "source": [
    "# # # replace USEast and USWest to US and EU to Europe\n",
    "# data_all = data_all.replace({'USEast': 'US', 'USWest': 'US', 'EU': 'Europe'})\n",
    "# data_all = data_all[(data_all['Location'] != \"Africa\") & (data_all['Location'] != \"MiddleEast\") & (data_all['Location']\n",
    "#                                                                                                    != \"Canada\") & (data_all['Location'] != \"SouthAmerica\") & (data_all['Location'] != \"AWSGovCloud\")]"
   ]
  },
  {
   "cell_type": "code",
   "execution_count": 13,
   "metadata": {},
   "outputs": [],
   "source": [
    "# data_all = data_all.drop(['Location'], axis=1)"
   ]
  },
  {
   "cell_type": "code",
   "execution_count": 14,
   "metadata": {
    "tags": []
   },
   "outputs": [],
   "source": [
    "# # create several new date time features\n",
    "data_all['year'] = data_all['EffectiveDate'].dt.year\n",
    "# data['day_of_year'] = data['EffectiveDate'].dt.dayofyear\n",
    "# data['weekday'] = data['EffectiveDate'].dt.weekday\n",
    "# data['week_of_year'] = data['EffectiveDate'].dt.week\n",
    "# data['day_of_month'] = data['EffectiveDate'].dt.day\n",
    "# data['quarter'] = data['EffectiveDate'].dt.quarter\n",
    "\n",
    "# data.drop('EffectiveDate', axis=1, inplace=True)"
   ]
  },
  {
   "attachments": {},
   "cell_type": "markdown",
   "metadata": {},
   "source": [
    "### Sort "
   ]
  },
  {
   "cell_type": "code",
   "execution_count": 15,
   "metadata": {
    "tags": []
   },
   "outputs": [
    {
     "data": {
      "text/html": [
       "<div>\n",
       "<style scoped>\n",
       "    .dataframe tbody tr th:only-of-type {\n",
       "        vertical-align: middle;\n",
       "    }\n",
       "\n",
       "    .dataframe tbody tr th {\n",
       "        vertical-align: top;\n",
       "    }\n",
       "\n",
       "    .dataframe thead th {\n",
       "        text-align: right;\n",
       "    }\n",
       "</style>\n",
       "<table border=\"1\" class=\"dataframe\">\n",
       "  <thead>\n",
       "    <tr style=\"text-align: right;\">\n",
       "      <th></th>\n",
       "      <th>PricePerUnit</th>\n",
       "      <th>instanceFamily</th>\n",
       "      <th>LeaseContractLength</th>\n",
       "      <th>PurchaseOption</th>\n",
       "      <th>vCPU</th>\n",
       "      <th>Memory</th>\n",
       "      <th>operatingSystem</th>\n",
       "      <th>Network Performance</th>\n",
       "      <th>EffectiveDate</th>\n",
       "      <th>DiskType</th>\n",
       "      <th>StorageSize</th>\n",
       "      <th>year</th>\n",
       "    </tr>\n",
       "  </thead>\n",
       "  <tbody>\n",
       "    <tr>\n",
       "      <th>0</th>\n",
       "      <td>0.0605</td>\n",
       "      <td>Memory optimized</td>\n",
       "      <td>3</td>\n",
       "      <td>Partial Upfront</td>\n",
       "      <td>1</td>\n",
       "      <td>8</td>\n",
       "      <td>Red Hat Enterprise Linux with HA</td>\n",
       "      <td>10.0</td>\n",
       "      <td>2021-03-01</td>\n",
       "      <td>NVMe SSD</td>\n",
       "      <td>59</td>\n",
       "      <td>2021</td>\n",
       "    </tr>\n",
       "    <tr>\n",
       "      <th>1</th>\n",
       "      <td>0.1403</td>\n",
       "      <td>Memory optimized</td>\n",
       "      <td>1</td>\n",
       "      <td>No Upfront</td>\n",
       "      <td>1</td>\n",
       "      <td>8</td>\n",
       "      <td>Red Hat Enterprise Linux with HA</td>\n",
       "      <td>10.0</td>\n",
       "      <td>2021-03-01</td>\n",
       "      <td>NVMe SSD</td>\n",
       "      <td>59</td>\n",
       "      <td>2021</td>\n",
       "    </tr>\n",
       "    <tr>\n",
       "      <th>2</th>\n",
       "      <td>0.1466</td>\n",
       "      <td>Memory optimized</td>\n",
       "      <td>1</td>\n",
       "      <td>No Upfront</td>\n",
       "      <td>1</td>\n",
       "      <td>8</td>\n",
       "      <td>Red Hat Enterprise Linux with HA</td>\n",
       "      <td>10.0</td>\n",
       "      <td>2021-03-01</td>\n",
       "      <td>NVMe SSD</td>\n",
       "      <td>59</td>\n",
       "      <td>2021</td>\n",
       "    </tr>\n",
       "    <tr>\n",
       "      <th>3</th>\n",
       "      <td>0.1231</td>\n",
       "      <td>Memory optimized</td>\n",
       "      <td>3</td>\n",
       "      <td>No Upfront</td>\n",
       "      <td>1</td>\n",
       "      <td>8</td>\n",
       "      <td>Red Hat Enterprise Linux with HA</td>\n",
       "      <td>10.0</td>\n",
       "      <td>2021-03-01</td>\n",
       "      <td>NVMe SSD</td>\n",
       "      <td>59</td>\n",
       "      <td>2021</td>\n",
       "    </tr>\n",
       "    <tr>\n",
       "      <th>4</th>\n",
       "      <td>0.0721</td>\n",
       "      <td>Memory optimized</td>\n",
       "      <td>1</td>\n",
       "      <td>Partial Upfront</td>\n",
       "      <td>1</td>\n",
       "      <td>8</td>\n",
       "      <td>Red Hat Enterprise Linux with HA</td>\n",
       "      <td>10.0</td>\n",
       "      <td>2021-03-01</td>\n",
       "      <td>NVMe SSD</td>\n",
       "      <td>59</td>\n",
       "      <td>2021</td>\n",
       "    </tr>\n",
       "    <tr>\n",
       "      <th>...</th>\n",
       "      <td>...</td>\n",
       "      <td>...</td>\n",
       "      <td>...</td>\n",
       "      <td>...</td>\n",
       "      <td>...</td>\n",
       "      <td>...</td>\n",
       "      <td>...</td>\n",
       "      <td>...</td>\n",
       "      <td>...</td>\n",
       "      <td>...</td>\n",
       "      <td>...</td>\n",
       "      <td>...</td>\n",
       "    </tr>\n",
       "    <tr>\n",
       "      <th>570338</th>\n",
       "      <td>0.1470</td>\n",
       "      <td>Compute optimized</td>\n",
       "      <td>3</td>\n",
       "      <td>No Upfront</td>\n",
       "      <td>4</td>\n",
       "      <td>8</td>\n",
       "      <td>RHEL</td>\n",
       "      <td>10.0</td>\n",
       "      <td>2020-06-01</td>\n",
       "      <td>NVMe SSD</td>\n",
       "      <td>150</td>\n",
       "      <td>2020</td>\n",
       "    </tr>\n",
       "    <tr>\n",
       "      <th>570339</th>\n",
       "      <td>0.1340</td>\n",
       "      <td>Compute optimized</td>\n",
       "      <td>1</td>\n",
       "      <td>Partial Upfront</td>\n",
       "      <td>4</td>\n",
       "      <td>8</td>\n",
       "      <td>RHEL</td>\n",
       "      <td>10.0</td>\n",
       "      <td>2020-06-01</td>\n",
       "      <td>NVMe SSD</td>\n",
       "      <td>150</td>\n",
       "      <td>2020</td>\n",
       "    </tr>\n",
       "    <tr>\n",
       "      <th>570340</th>\n",
       "      <td>0.1210</td>\n",
       "      <td>Compute optimized</td>\n",
       "      <td>1</td>\n",
       "      <td>Partial Upfront</td>\n",
       "      <td>4</td>\n",
       "      <td>8</td>\n",
       "      <td>RHEL</td>\n",
       "      <td>10.0</td>\n",
       "      <td>2020-06-01</td>\n",
       "      <td>NVMe SSD</td>\n",
       "      <td>150</td>\n",
       "      <td>2020</td>\n",
       "    </tr>\n",
       "    <tr>\n",
       "      <th>570341</th>\n",
       "      <td>0.1080</td>\n",
       "      <td>Compute optimized</td>\n",
       "      <td>3</td>\n",
       "      <td>Partial Upfront</td>\n",
       "      <td>4</td>\n",
       "      <td>8</td>\n",
       "      <td>RHEL</td>\n",
       "      <td>10.0</td>\n",
       "      <td>2020-06-01</td>\n",
       "      <td>NVMe SSD</td>\n",
       "      <td>150</td>\n",
       "      <td>2020</td>\n",
       "    </tr>\n",
       "    <tr>\n",
       "      <th>570342</th>\n",
       "      <td>0.1630</td>\n",
       "      <td>Compute optimized</td>\n",
       "      <td>3</td>\n",
       "      <td>No Upfront</td>\n",
       "      <td>4</td>\n",
       "      <td>8</td>\n",
       "      <td>RHEL</td>\n",
       "      <td>10.0</td>\n",
       "      <td>2020-06-01</td>\n",
       "      <td>NVMe SSD</td>\n",
       "      <td>150</td>\n",
       "      <td>2020</td>\n",
       "    </tr>\n",
       "  </tbody>\n",
       "</table>\n",
       "<p>570343 rows × 12 columns</p>\n",
       "</div>"
      ],
      "text/plain": [
       "        PricePerUnit     instanceFamily  LeaseContractLength   PurchaseOption  \\\n",
       "0             0.0605   Memory optimized                    3  Partial Upfront   \n",
       "1             0.1403   Memory optimized                    1       No Upfront   \n",
       "2             0.1466   Memory optimized                    1       No Upfront   \n",
       "3             0.1231   Memory optimized                    3       No Upfront   \n",
       "4             0.0721   Memory optimized                    1  Partial Upfront   \n",
       "...              ...                ...                  ...              ...   \n",
       "570338        0.1470  Compute optimized                    3       No Upfront   \n",
       "570339        0.1340  Compute optimized                    1  Partial Upfront   \n",
       "570340        0.1210  Compute optimized                    1  Partial Upfront   \n",
       "570341        0.1080  Compute optimized                    3  Partial Upfront   \n",
       "570342        0.1630  Compute optimized                    3       No Upfront   \n",
       "\n",
       "        vCPU  Memory                   operatingSystem  Network Performance  \\\n",
       "0          1       8  Red Hat Enterprise Linux with HA                 10.0   \n",
       "1          1       8  Red Hat Enterprise Linux with HA                 10.0   \n",
       "2          1       8  Red Hat Enterprise Linux with HA                 10.0   \n",
       "3          1       8  Red Hat Enterprise Linux with HA                 10.0   \n",
       "4          1       8  Red Hat Enterprise Linux with HA                 10.0   \n",
       "...      ...     ...                               ...                  ...   \n",
       "570338     4       8                              RHEL                 10.0   \n",
       "570339     4       8                              RHEL                 10.0   \n",
       "570340     4       8                              RHEL                 10.0   \n",
       "570341     4       8                              RHEL                 10.0   \n",
       "570342     4       8                              RHEL                 10.0   \n",
       "\n",
       "       EffectiveDate  DiskType  StorageSize  year  \n",
       "0         2021-03-01  NVMe SSD           59  2021  \n",
       "1         2021-03-01  NVMe SSD           59  2021  \n",
       "2         2021-03-01  NVMe SSD           59  2021  \n",
       "3         2021-03-01  NVMe SSD           59  2021  \n",
       "4         2021-03-01  NVMe SSD           59  2021  \n",
       "...              ...       ...          ...   ...  \n",
       "570338    2020-06-01  NVMe SSD          150  2020  \n",
       "570339    2020-06-01  NVMe SSD          150  2020  \n",
       "570340    2020-06-01  NVMe SSD          150  2020  \n",
       "570341    2020-06-01  NVMe SSD          150  2020  \n",
       "570342    2020-06-01  NVMe SSD          150  2020  \n",
       "\n",
       "[570343 rows x 12 columns]"
      ]
     },
     "execution_count": 15,
     "metadata": {},
     "output_type": "execute_result"
    }
   ],
   "source": [
    "data_all.sort_values(by='EffectiveDate')\n",
    "data_all.reset_index(drop=True)"
   ]
  },
  {
   "cell_type": "code",
   "execution_count": 16,
   "metadata": {},
   "outputs": [
    {
     "data": {
      "text/plain": [
       "2022    184264\n",
       "2020    112164\n",
       "2021    104188\n",
       "2019     72528\n",
       "2018     43965\n",
       "2017     20336\n",
       "2016     17802\n",
       "2023     15096\n",
       "Name: year, dtype: int64"
      ]
     },
     "execution_count": 16,
     "metadata": {},
     "output_type": "execute_result"
    }
   ],
   "source": [
    "data_all['year'].value_counts()"
   ]
  },
  {
   "attachments": {},
   "cell_type": "markdown",
   "metadata": {},
   "source": [
    "# Outlier Methods"
   ]
  },
  {
   "attachments": {},
   "cell_type": "markdown",
   "metadata": {},
   "source": [
    "## IsolationForest"
   ]
  },
  {
   "cell_type": "code",
   "execution_count": 17,
   "metadata": {},
   "outputs": [],
   "source": [
    "from sklearn.ensemble import IsolationForest\n",
    "\n",
    "if outlier == 'isolation':\n",
    "\n",
    "    # Select the column(s) you want to detect outliers in\n",
    "    columns_to_check = ['PricePerUnit', 'vCPU', 'Memory']\n",
    "\n",
    "    # Create an Isolation Forest object\n",
    "    # Adjust the contamination parameter as needed\n",
    "    isolation_forest = IsolationForest(contamination=0.1)\n",
    "\n",
    "    # Fit the Isolation Forest model and predict outlier labels\n",
    "    outlier_labels = isolation_forest.fit_predict(data_all[columns_to_check])\n",
    "\n",
    "    # Identify outliers based on the predicted labels\n",
    "    outliers = data_all[outlier_labels == -1]\n",
    "\n",
    "    # Exclude outliers from the dataset\n",
    "    data_all = data_all[outlier_labels != -1]\n",
    "\n",
    "    # Print the outliers\n",
    "    print(\"Outliers:\")\n",
    "    print(outliers)\n",
    "\n",
    "    # Print the cleaned dataset\n",
    "    print(\"Cleaned Data:\")\n",
    "    print(data_all)"
   ]
  },
  {
   "attachments": {},
   "cell_type": "markdown",
   "metadata": {},
   "source": [
    "## LOF"
   ]
  },
  {
   "cell_type": "code",
   "execution_count": 18,
   "metadata": {},
   "outputs": [],
   "source": [
    "from sklearn.neighbors import LocalOutlierFactor\n",
    "\n",
    "\n",
    "if outlier == 'lof':\n",
    "\n",
    "    # Select the column(s) you want to detect outliers in\n",
    "    columns_to_check = ['PricePerUnit']\n",
    "\n",
    "    # Create a LOF object\n",
    "    # Adjust parameters as needed\n",
    "    lof = LocalOutlierFactor(n_neighbors=20, contamination=0.1)\n",
    "\n",
    "    # Fit the LOF model and predict outlier scores\n",
    "    outlier_scores = lof.fit_predict(data_all[columns_to_check])\n",
    "\n",
    "    # Identify outliers based on the predicted scores\n",
    "    outliers = data_all[outlier_scores == -1]\n",
    "\n",
    "    # Exclude outliers from the dataset\n",
    "    data_all = data_all[outlier_scores != -1]\n",
    "\n",
    "    # Print the outliers\n",
    "    print(\"Outliers:\")\n",
    "    print(outliers)\n",
    "\n",
    "    # Print the cleaned dataset\n",
    "    print(\"Cleaned Data:\")\n",
    "    print(data_all)\n",
    "else:\n",
    "    pass"
   ]
  },
  {
   "attachments": {},
   "cell_type": "markdown",
   "metadata": {},
   "source": [
    "## Interquartile Range (IQR)\n",
    "\n"
   ]
  },
  {
   "cell_type": "code",
   "execution_count": 19,
   "metadata": {},
   "outputs": [],
   "source": [
    "\n",
    "if outlier == 'iqr':\n",
    "    # Select the column(s) you want to detect outliers in\n",
    "    columns_to_check = ['PricePerUnit']\n",
    "\n",
    "    # Calculate the IQR for each column\n",
    "    Q1 = data_all[columns_to_check].quantile(0.25)\n",
    "    Q3 = data_all[columns_to_check].quantile(0.75)\n",
    "    IQR = Q3 - Q1\n",
    "\n",
    "    # Define a threshold for identifying outliers\n",
    "    threshold = 2\n",
    "\n",
    "    # Determine the lower and upper bounds for outlier detection\n",
    "    lower_bound = Q1 - threshold * IQR\n",
    "    upper_bound = Q3 + threshold * IQR\n",
    "\n",
    "    # Identify outliers by filtering the dataset\n",
    "    outliers = data_all[~((data_all[columns_to_check] >= lower_bound) & (\n",
    "        data_all[columns_to_check] <= upper_bound)).all(axis=1)]\n",
    "\n",
    "    # Exclude outliers from the dataset\n",
    "    data_all = data_all[((data_all[columns_to_check] >= lower_bound) & (\n",
    "        data_all[columns_to_check] <= upper_bound)).all(axis=1)]\n",
    "\n",
    "    # Print the outliers\n",
    "    print(\"Outliers:\")\n",
    "    print(outliers)\n",
    "\n",
    "    # Print the cleaned dataset\n",
    "    print(\"Cleaned Data:\")\n",
    "    print(data_all)\n",
    "else:\n",
    "    pass"
   ]
  },
  {
   "cell_type": "code",
   "execution_count": null,
   "metadata": {},
   "outputs": [],
   "source": []
  },
  {
   "attachments": {},
   "cell_type": "markdown",
   "metadata": {},
   "source": [
    "## Z-score"
   ]
  },
  {
   "cell_type": "code",
   "execution_count": 20,
   "metadata": {},
   "outputs": [
    {
     "name": "stdout",
     "output_type": "stream",
     "text": [
      "        PricePerUnit     instanceFamily  LeaseContractLength   PurchaseOption  \\\n",
      "32            13.487  Storage optimized                    3  Partial Upfront   \n",
      "33            28.485  Storage optimized                    1       No Upfront   \n",
      "34            29.158  Storage optimized                    1       No Upfront   \n",
      "35            27.213  Storage optimized                    3       No Upfront   \n",
      "36            14.456  Storage optimized                    1  Partial Upfront   \n",
      "...              ...                ...                  ...              ...   \n",
      "570293        25.886  Storage optimized                    1       No Upfront   \n",
      "570294        21.422  Storage optimized                    3       No Upfront   \n",
      "570295        12.706  Storage optimized                    1  Partial Upfront   \n",
      "570296        12.078  Storage optimized                    1  Partial Upfront   \n",
      "570298        22.294  Storage optimized                    3       No Upfront   \n",
      "\n",
      "        vCPU  Memory operatingSystem  Network Performance EffectiveDate  \\\n",
      "32        72      12           Linux                 25.0    2021-02-01   \n",
      "33        72      12           Linux                 25.0    2021-02-01   \n",
      "34        72      12           Linux                 25.0    2021-02-01   \n",
      "35        72      12           Linux                 25.0    2021-02-01   \n",
      "36        72      12           Linux                 25.0    2021-02-01   \n",
      "...      ...     ...             ...                  ...           ...   \n",
      "570293    96     768         Windows                100.0    2019-04-01   \n",
      "570294    96     768         Windows                100.0    2019-04-01   \n",
      "570295    96     768         Windows                100.0    2019-04-01   \n",
      "570296    96     768         Windows                100.0    2019-04-01   \n",
      "570298    96     768         Windows                100.0    2019-04-01   \n",
      "\n",
      "        DiskType  StorageSize  year  \n",
      "32      NVMe SSD        15200  2021  \n",
      "33      NVMe SSD        15200  2021  \n",
      "34      NVMe SSD        15200  2021  \n",
      "35      NVMe SSD        15200  2021  \n",
      "36      NVMe SSD        15200  2021  \n",
      "...          ...          ...   ...  \n",
      "570293  NVMe SSD        60000  2019  \n",
      "570294  NVMe SSD        60000  2019  \n",
      "570295  NVMe SSD        60000  2019  \n",
      "570296  NVMe SSD        60000  2019  \n",
      "570298  NVMe SSD        60000  2019  \n",
      "\n",
      "[67291 rows x 12 columns]\n"
     ]
    }
   ],
   "source": [
    "if outlier == 'zscore':\n",
    "\n",
    "    # Select the column(s) you want to detect outliers in\n",
    "    columns_to_check = ['PricePerUnit']\n",
    "\n",
    "    # Compute the Z-scores for each data point\n",
    "    z_scores = np.abs(stats.zscore(data_all[columns_to_check]))\n",
    "\n",
    "    # Define a threshold for identifying outliers\n",
    "    threshold = 0.75\n",
    "\n",
    "    # Find the indices of outliers\n",
    "    outlier_indices = np.where(z_scores > threshold)\n",
    "\n",
    "    # Get the rows containing outliers\n",
    "    outliers = data_all.iloc[outlier_indices[0]]\n",
    "\n",
    "    # Exclude outliers from the dataset\n",
    "    data_all = data_all.drop(data_all.index[outlier_indices[0]])\n",
    "\n",
    "    # Print the outliers\n",
    "    print(outliers)\n",
    "\n",
    "    mlflow.log_param(\"z-threshold\", threshold)\n",
    "\n",
    "else:\n",
    "    pass"
   ]
  },
  {
   "attachments": {},
   "cell_type": "markdown",
   "metadata": {},
   "source": [
    "##  Create a quarterly seasonality column\n"
   ]
  },
  {
   "cell_type": "code",
   "execution_count": 21,
   "metadata": {},
   "outputs": [],
   "source": [
    "# Convert EffectiveDate column to datetime format\n",
    "data_all['EffectiveDate'] = pd.to_datetime(data_all['EffectiveDate'])\n",
    "\n",
    "# Extract the quarter component from the EffectiveDate column\n",
    "data_all['Quarter'] = data_all['EffectiveDate'].dt.quarter\n",
    "\n",
    "# Create a dictionary mapping quarter numbers to season labels\n",
    "seasons = {1: 'Q1', 2: 'Q2', 3: 'Q3', 4: 'Q4'}\n",
    "\n",
    "# Map the quarter numbers to season labels using the dictionary\n",
    "data_all['Seasonality'] = data_all['Quarter'].map(seasons)"
   ]
  },
  {
   "cell_type": "code",
   "execution_count": 22,
   "metadata": {},
   "outputs": [],
   "source": [
    "data_all\n",
    "\n",
    "data_all = data_all.drop(['Seasonality'], axis=1)"
   ]
  },
  {
   "cell_type": "code",
   "execution_count": 23,
   "metadata": {},
   "outputs": [
    {
     "data": {
      "text/html": [
       "<div>\n",
       "<style scoped>\n",
       "    .dataframe tbody tr th:only-of-type {\n",
       "        vertical-align: middle;\n",
       "    }\n",
       "\n",
       "    .dataframe tbody tr th {\n",
       "        vertical-align: top;\n",
       "    }\n",
       "\n",
       "    .dataframe thead th {\n",
       "        text-align: right;\n",
       "    }\n",
       "</style>\n",
       "<table border=\"1\" class=\"dataframe\">\n",
       "  <thead>\n",
       "    <tr style=\"text-align: right;\">\n",
       "      <th></th>\n",
       "      <th>PricePerUnit</th>\n",
       "      <th>instanceFamily</th>\n",
       "      <th>LeaseContractLength</th>\n",
       "      <th>PurchaseOption</th>\n",
       "      <th>vCPU</th>\n",
       "      <th>Memory</th>\n",
       "      <th>operatingSystem</th>\n",
       "      <th>Network Performance</th>\n",
       "      <th>EffectiveDate</th>\n",
       "      <th>DiskType</th>\n",
       "      <th>StorageSize</th>\n",
       "      <th>year</th>\n",
       "      <th>Quarter</th>\n",
       "    </tr>\n",
       "  </thead>\n",
       "  <tbody>\n",
       "    <tr>\n",
       "      <th>0</th>\n",
       "      <td>0.0605</td>\n",
       "      <td>Memory optimized</td>\n",
       "      <td>3</td>\n",
       "      <td>Partial Upfront</td>\n",
       "      <td>1</td>\n",
       "      <td>8</td>\n",
       "      <td>Red Hat Enterprise Linux with HA</td>\n",
       "      <td>10.0</td>\n",
       "      <td>2021-03-01</td>\n",
       "      <td>NVMe SSD</td>\n",
       "      <td>59</td>\n",
       "      <td>2021</td>\n",
       "      <td>1</td>\n",
       "    </tr>\n",
       "    <tr>\n",
       "      <th>1</th>\n",
       "      <td>0.1403</td>\n",
       "      <td>Memory optimized</td>\n",
       "      <td>1</td>\n",
       "      <td>No Upfront</td>\n",
       "      <td>1</td>\n",
       "      <td>8</td>\n",
       "      <td>Red Hat Enterprise Linux with HA</td>\n",
       "      <td>10.0</td>\n",
       "      <td>2021-03-01</td>\n",
       "      <td>NVMe SSD</td>\n",
       "      <td>59</td>\n",
       "      <td>2021</td>\n",
       "      <td>1</td>\n",
       "    </tr>\n",
       "    <tr>\n",
       "      <th>2</th>\n",
       "      <td>0.1466</td>\n",
       "      <td>Memory optimized</td>\n",
       "      <td>1</td>\n",
       "      <td>No Upfront</td>\n",
       "      <td>1</td>\n",
       "      <td>8</td>\n",
       "      <td>Red Hat Enterprise Linux with HA</td>\n",
       "      <td>10.0</td>\n",
       "      <td>2021-03-01</td>\n",
       "      <td>NVMe SSD</td>\n",
       "      <td>59</td>\n",
       "      <td>2021</td>\n",
       "      <td>1</td>\n",
       "    </tr>\n",
       "    <tr>\n",
       "      <th>3</th>\n",
       "      <td>0.1231</td>\n",
       "      <td>Memory optimized</td>\n",
       "      <td>3</td>\n",
       "      <td>No Upfront</td>\n",
       "      <td>1</td>\n",
       "      <td>8</td>\n",
       "      <td>Red Hat Enterprise Linux with HA</td>\n",
       "      <td>10.0</td>\n",
       "      <td>2021-03-01</td>\n",
       "      <td>NVMe SSD</td>\n",
       "      <td>59</td>\n",
       "      <td>2021</td>\n",
       "      <td>1</td>\n",
       "    </tr>\n",
       "    <tr>\n",
       "      <th>4</th>\n",
       "      <td>0.0721</td>\n",
       "      <td>Memory optimized</td>\n",
       "      <td>1</td>\n",
       "      <td>Partial Upfront</td>\n",
       "      <td>1</td>\n",
       "      <td>8</td>\n",
       "      <td>Red Hat Enterprise Linux with HA</td>\n",
       "      <td>10.0</td>\n",
       "      <td>2021-03-01</td>\n",
       "      <td>NVMe SSD</td>\n",
       "      <td>59</td>\n",
       "      <td>2021</td>\n",
       "      <td>1</td>\n",
       "    </tr>\n",
       "  </tbody>\n",
       "</table>\n",
       "</div>"
      ],
      "text/plain": [
       "   PricePerUnit    instanceFamily  LeaseContractLength   PurchaseOption  vCPU  \\\n",
       "0        0.0605  Memory optimized                    3  Partial Upfront     1   \n",
       "1        0.1403  Memory optimized                    1       No Upfront     1   \n",
       "2        0.1466  Memory optimized                    1       No Upfront     1   \n",
       "3        0.1231  Memory optimized                    3       No Upfront     1   \n",
       "4        0.0721  Memory optimized                    1  Partial Upfront     1   \n",
       "\n",
       "   Memory                   operatingSystem  Network Performance  \\\n",
       "0       8  Red Hat Enterprise Linux with HA                 10.0   \n",
       "1       8  Red Hat Enterprise Linux with HA                 10.0   \n",
       "2       8  Red Hat Enterprise Linux with HA                 10.0   \n",
       "3       8  Red Hat Enterprise Linux with HA                 10.0   \n",
       "4       8  Red Hat Enterprise Linux with HA                 10.0   \n",
       "\n",
       "  EffectiveDate  DiskType  StorageSize  year  Quarter  \n",
       "0    2021-03-01  NVMe SSD           59  2021        1  \n",
       "1    2021-03-01  NVMe SSD           59  2021        1  \n",
       "2    2021-03-01  NVMe SSD           59  2021        1  \n",
       "3    2021-03-01  NVMe SSD           59  2021        1  \n",
       "4    2021-03-01  NVMe SSD           59  2021        1  "
      ]
     },
     "execution_count": 23,
     "metadata": {},
     "output_type": "execute_result"
    }
   ],
   "source": [
    "data_all.head()"
   ]
  },
  {
   "cell_type": "code",
   "execution_count": 24,
   "metadata": {
    "tags": []
   },
   "outputs": [],
   "source": [
    "# categorical = ['PurchaseOption','OfferingClass', 'Location', 'Tenancy', 'operatingSystem', 'DiskType']"
   ]
  },
  {
   "attachments": {},
   "cell_type": "markdown",
   "metadata": {},
   "source": [
    "# Prepare the Data"
   ]
  },
  {
   "cell_type": "code",
   "execution_count": 25,
   "metadata": {},
   "outputs": [],
   "source": [
    "# %%  =========== Prepare the Data for regression============\n",
    "\n",
    "# Map binary categorical columns to numerical\n",
    "\n",
    "categorical_binary = ['PurchaseOption']\n",
    "data_all[categorical_binary] = data_all[categorical_binary].apply(mf.binary_map)"
   ]
  },
  {
   "cell_type": "code",
   "execution_count": 26,
   "metadata": {},
   "outputs": [],
   "source": [
    "# Write the categorical values as a list\n",
    "# categorical = ['operatingSystem', 'DiskType', 'Location']\n",
    "categorical = ['operatingSystem', 'DiskType', 'instanceFamily']\n",
    "categorical2numeric = pd.get_dummies(data_all[categorical], drop_first=False)\n",
    "\n",
    "categorical2numeric_pred = pd.get_dummies(\n",
    "    data_all[categorical], drop_first=False)\n",
    "\n",
    "# Add the above results to the original dataframe df\n",
    "data_all= pd.concat([data_all, categorical2numeric], axis=1)\n",
    "data_all.drop(columns=categorical, axis=1, inplace=True)\n"
   ]
  },
  {
   "attachments": {},
   "cell_type": "markdown",
   "metadata": {},
   "source": [
    "# Years"
   ]
  },
  {
   "cell_type": "code",
   "execution_count": 27,
   "metadata": {
    "tags": []
   },
   "outputs": [
    {
     "data": {
      "text/plain": [
       "array([2021, 2020, 2018, 2022, 2019, 2016, 2017, 2023])"
      ]
     },
     "execution_count": 27,
     "metadata": {},
     "output_type": "execute_result"
    }
   ],
   "source": [
    "data_all.year.unique()"
   ]
  },
  {
   "cell_type": "code",
   "execution_count": 28,
   "metadata": {},
   "outputs": [
    {
     "data": {
      "text/plain": [
       "array([2022, 2023])"
      ]
     },
     "execution_count": 28,
     "metadata": {},
     "output_type": "execute_result"
    }
   ],
   "source": [
    "data_pred = data_all[data_all['year'] > 2021]\n",
    "data_pred = data_pred.sort_values(by='EffectiveDate')\n",
    "data_pred = data_pred.reset_index(drop=True)\n",
    "data_pred.year.unique()"
   ]
  },
  {
   "cell_type": "code",
   "execution_count": 29,
   "metadata": {},
   "outputs": [
    {
     "data": {
      "text/plain": [
       "array([2018, 2019, 2020, 2021])"
      ]
     },
     "execution_count": 29,
     "metadata": {},
     "output_type": "execute_result"
    }
   ],
   "source": [
    "data = data_all[(data_all['year'] > 2017) & (data_all['year'] < 2022)]\n",
    "data = data.sort_values(by='EffectiveDate')\n",
    "data = data.reset_index(drop=True)\n",
    "data.year.unique()\n",
    "\n",
    "\n",
    "mlflow.log_param(\"Years used to predict\", data.year.unique())"
   ]
  },
  {
   "attachments": {},
   "cell_type": "markdown",
   "metadata": {},
   "source": [
    "## Assign target value"
   ]
  },
  {
   "cell_type": "code",
   "execution_count": 30,
   "metadata": {
    "tags": []
   },
   "outputs": [],
   "source": [
    "X = data.drop(['PricePerUnit', 'EffectiveDate', 'year'], axis=1)\n",
    "y = data.PricePerUnit"
   ]
  },
  {
   "cell_type": "code",
   "execution_count": 31,
   "metadata": {
    "tags": []
   },
   "outputs": [],
   "source": [
    "# # identify categorical features indices\n",
    "# def column_index(data, query_cols):\n",
    "#     cols = data.columns.values\n",
    "#     sidx = np.argsort(cols)\n",
    "#     return sidx[np.searchsorted(cols, query_cols, sorter=sidx)]\n",
    "\n",
    "# categorical_features_indices = column_index(X, categorical)"
   ]
  },
  {
   "attachments": {},
   "cell_type": "markdown",
   "metadata": {},
   "source": [
    "# CatBoost Model Training"
   ]
  },
  {
   "cell_type": "code",
   "execution_count": 32,
   "metadata": {
    "tags": []
   },
   "outputs": [],
   "source": [
    "# CatBoost Model Training\n",
    "X_train, X_valid, y_train, y_valid = train_test_split(\n",
    "    X, y, test_size=0.25, random_state=42)"
   ]
  },
  {
   "cell_type": "code",
   "execution_count": 33,
   "metadata": {
    "tags": []
   },
   "outputs": [
    {
     "data": {
      "application/vnd.jupyter.widget-view+json": {
       "model_id": "ef5f4c9aa14e43129572e82ce6bd0d99",
       "version_major": 2,
       "version_minor": 0
      },
      "text/plain": [
       "MetricVisualizer(layout=Layout(align_self='stretch', height='500px'))"
      ]
     },
     "metadata": {},
     "output_type": "display_data"
    },
    {
     "name": "stdout",
     "output_type": "stream",
     "text": [
      "0:\tlearn: 2.3945498\ttest: 2.3874993\tbest: 2.3874993 (0)\ttotal: 50.8ms\tremaining: 2.49s\n",
      "1:\tlearn: 2.3033683\ttest: 2.2967288\tbest: 2.2967288 (1)\ttotal: 54.6ms\tremaining: 1.31s\n",
      "2:\tlearn: 2.2247566\ttest: 2.2185418\tbest: 2.2185418 (2)\ttotal: 58.1ms\tremaining: 910ms\n",
      "3:\tlearn: 2.1532908\ttest: 2.1473406\tbest: 2.1473406 (3)\ttotal: 61.3ms\tremaining: 705ms\n",
      "4:\tlearn: 2.0916831\ttest: 2.0859080\tbest: 2.0859080 (4)\ttotal: 64.2ms\tremaining: 578ms\n",
      "5:\tlearn: 2.0364151\ttest: 2.0305396\tbest: 2.0305396 (5)\ttotal: 67.3ms\tremaining: 493ms\n",
      "6:\tlearn: 1.9901870\ttest: 1.9846605\tbest: 1.9846605 (6)\ttotal: 70.2ms\tremaining: 431ms\n",
      "7:\tlearn: 1.9476949\ttest: 1.9421501\tbest: 1.9421501 (7)\ttotal: 73ms\tremaining: 383ms\n",
      "8:\tlearn: 1.9127733\ttest: 1.9073156\tbest: 1.9073156 (8)\ttotal: 75.5ms\tremaining: 344ms\n",
      "9:\tlearn: 1.8794152\ttest: 1.8742761\tbest: 1.8742761 (9)\ttotal: 78.2ms\tremaining: 313ms\n",
      "10:\tlearn: 1.8489374\ttest: 1.8441281\tbest: 1.8441281 (10)\ttotal: 80.6ms\tremaining: 286ms\n",
      "11:\tlearn: 1.8225889\ttest: 1.8176029\tbest: 1.8176029 (11)\ttotal: 82.9ms\tremaining: 263ms\n",
      "12:\tlearn: 1.7989144\ttest: 1.7939408\tbest: 1.7939408 (12)\ttotal: 85.4ms\tremaining: 243ms\n",
      "13:\tlearn: 1.7782967\ttest: 1.7734718\tbest: 1.7734718 (13)\ttotal: 87.6ms\tremaining: 225ms\n",
      "14:\tlearn: 1.7607753\ttest: 1.7561240\tbest: 1.7561240 (14)\ttotal: 90.2ms\tremaining: 210ms\n",
      "15:\tlearn: 1.7458181\ttest: 1.7414159\tbest: 1.7414159 (15)\ttotal: 92.2ms\tremaining: 196ms\n",
      "16:\tlearn: 1.7300988\ttest: 1.7255519\tbest: 1.7255519 (16)\ttotal: 94.1ms\tremaining: 183ms\n",
      "17:\tlearn: 1.7162325\ttest: 1.7116462\tbest: 1.7116462 (17)\ttotal: 96.3ms\tremaining: 171ms\n",
      "18:\tlearn: 1.7010731\ttest: 1.6968169\tbest: 1.6968169 (18)\ttotal: 98.4ms\tremaining: 161ms\n",
      "19:\tlearn: 1.6901085\ttest: 1.6860709\tbest: 1.6860709 (19)\ttotal: 100ms\tremaining: 151ms\n",
      "20:\tlearn: 1.6808960\ttest: 1.6768724\tbest: 1.6768724 (20)\ttotal: 103ms\tremaining: 142ms\n",
      "21:\tlearn: 1.6713680\ttest: 1.6673066\tbest: 1.6673066 (21)\ttotal: 105ms\tremaining: 133ms\n",
      "22:\tlearn: 1.6628163\ttest: 1.6589564\tbest: 1.6589564 (22)\ttotal: 107ms\tremaining: 126ms\n",
      "23:\tlearn: 1.6560146\ttest: 1.6521522\tbest: 1.6521522 (23)\ttotal: 109ms\tremaining: 119ms\n",
      "24:\tlearn: 1.6494657\ttest: 1.6458481\tbest: 1.6458481 (24)\ttotal: 111ms\tremaining: 111ms\n",
      "25:\tlearn: 1.6411299\ttest: 1.6377711\tbest: 1.6377711 (25)\ttotal: 113ms\tremaining: 105ms\n",
      "26:\tlearn: 1.6345319\ttest: 1.6313490\tbest: 1.6313490 (26)\ttotal: 115ms\tremaining: 98.3ms\n",
      "27:\tlearn: 1.6287280\ttest: 1.6253728\tbest: 1.6253728 (27)\ttotal: 117ms\tremaining: 92.2ms\n",
      "28:\tlearn: 1.6236202\ttest: 1.6203209\tbest: 1.6203209 (28)\ttotal: 120ms\tremaining: 86.6ms\n",
      "29:\tlearn: 1.6172273\ttest: 1.6136845\tbest: 1.6136845 (29)\ttotal: 121ms\tremaining: 81ms\n",
      "30:\tlearn: 1.6087575\ttest: 1.6054550\tbest: 1.6054550 (30)\ttotal: 124ms\tremaining: 75.8ms\n",
      "31:\tlearn: 1.6033666\ttest: 1.5999346\tbest: 1.5999346 (31)\ttotal: 126ms\tremaining: 70.6ms\n",
      "32:\tlearn: 1.5954204\ttest: 1.5922012\tbest: 1.5922012 (32)\ttotal: 128ms\tremaining: 65.8ms\n",
      "33:\tlearn: 1.5912178\ttest: 1.5880462\tbest: 1.5880462 (33)\ttotal: 130ms\tremaining: 61ms\n",
      "34:\tlearn: 1.5875771\ttest: 1.5843912\tbest: 1.5843912 (34)\ttotal: 131ms\tremaining: 56.3ms\n",
      "35:\tlearn: 1.5843714\ttest: 1.5813022\tbest: 1.5813022 (35)\ttotal: 133ms\tremaining: 51.9ms\n",
      "36:\tlearn: 1.5804415\ttest: 1.5771447\tbest: 1.5771447 (36)\ttotal: 136ms\tremaining: 47.6ms\n",
      "37:\tlearn: 1.5755472\ttest: 1.5724823\tbest: 1.5724823 (37)\ttotal: 138ms\tremaining: 43.5ms\n",
      "38:\tlearn: 1.5726381\ttest: 1.5696005\tbest: 1.5696005 (38)\ttotal: 140ms\tremaining: 39.5ms\n",
      "39:\tlearn: 1.5702274\ttest: 1.5671061\tbest: 1.5671061 (39)\ttotal: 142ms\tremaining: 35.5ms\n",
      "40:\tlearn: 1.5654346\ttest: 1.5624899\tbest: 1.5624899 (40)\ttotal: 144ms\tremaining: 31.6ms\n",
      "41:\tlearn: 1.5623056\ttest: 1.5592995\tbest: 1.5592995 (41)\ttotal: 146ms\tremaining: 27.8ms\n",
      "42:\tlearn: 1.5598103\ttest: 1.5569665\tbest: 1.5569665 (42)\ttotal: 148ms\tremaining: 24ms\n",
      "43:\tlearn: 1.5571907\ttest: 1.5543012\tbest: 1.5543012 (43)\ttotal: 150ms\tremaining: 20.4ms\n",
      "44:\tlearn: 1.5530882\ttest: 1.5503543\tbest: 1.5503543 (44)\ttotal: 152ms\tremaining: 16.9ms\n",
      "45:\tlearn: 1.5511144\ttest: 1.5483017\tbest: 1.5483017 (45)\ttotal: 154ms\tremaining: 13.4ms\n",
      "46:\tlearn: 1.5491050\ttest: 1.5464366\tbest: 1.5464366 (46)\ttotal: 156ms\tremaining: 9.95ms\n",
      "47:\tlearn: 1.5475894\ttest: 1.5449087\tbest: 1.5449087 (47)\ttotal: 158ms\tremaining: 6.57ms\n",
      "48:\tlearn: 1.5457117\ttest: 1.5430887\tbest: 1.5430887 (48)\ttotal: 160ms\tremaining: 3.26ms\n",
      "49:\tlearn: 1.5436162\ttest: 1.5408909\tbest: 1.5408909 (49)\ttotal: 162ms\tremaining: 0us\n",
      "\n",
      "bestTest = 1.540890912\n",
      "bestIteration = 49\n",
      "\n"
     ]
    },
    {
     "data": {
      "text/plain": [
       "<catboost.core.CatBoostRegressor at 0x7f6d924c1c10>"
      ]
     },
     "execution_count": 33,
     "metadata": {},
     "output_type": "execute_result"
    }
   ],
   "source": [
    "model = CatBoostRegressor(iterations=50, depth=3,\n",
    "                          learning_rate=0.1, loss_function='RMSE')\n",
    "\n",
    "# cat_features=categorical_features_indices\n",
    "model.fit(X_train, y_train,\n",
    "          eval_set=(X_valid, y_valid), plot=True)"
   ]
  },
  {
   "attachments": {},
   "cell_type": "markdown",
   "metadata": {},
   "source": [
    "# Catboost Model"
   ]
  },
  {
   "attachments": {},
   "cell_type": "markdown",
   "metadata": {},
   "source": [
    "### Catboost Regressor parameters"
   ]
  },
  {
   "cell_type": "code",
   "execution_count": 34,
   "metadata": {},
   "outputs": [],
   "source": [
    "start = time.time()\n",
    "\n",
    "model = CatBoostRegressor(iterations=15000,\n",
    "                          loss_function='RMSE',\n",
    "                          # 0.001 - 0.1 A lower learning rate results in slower but more precise convergence\n",
    "                          learning_rate=0.001,\n",
    "                          # 4 - 10  Higher values allow the model to capture more complex interactions but can increase the risk of overfitting.\n",
    "                          depth=16,\n",
    "                          custom_metric=['MAPE', 'RMSE', 'MAE', 'R2'],\n",
    "                          random_seed=42,\n",
    "                          bagging_temperature=0.2,  # 0 - 1\n",
    "                          # Can be 'Iter' or 'IncToDec'. 'Iter' stops training when the evaluation metric stops improving, and 'IncToDec' stops when the evaluation metric starts to worsen.\n",
    "                          od_type='Iter',\n",
    "                          metric_period=75,  # how frequently the evaluation metric is calculated during training\n",
    "                          task_type='GPU',  # Enable GPU training\n",
    "                          # number of iterations to wait for the evaluation metric to improve before stopping training.\n",
    "                          od_wait=100,\n",
    "                          )\n",
    "\n",
    "# Log specific parameters of the CatBoost model\n",
    "params_to_track = ['iterations', 'learning_rate', 'depth', 'loss_function', 'bagging_temperature',\n",
    "                   'random_seed', 'metric_period', 'od_wait', 'task_type']\n",
    "for param in params_to_track:\n",
    "    param_value = model.get_params().get(param)\n",
    "    mlflow.log_param(param, str(param_value))"
   ]
  },
  {
   "cell_type": "code",
   "execution_count": 35,
   "metadata": {},
   "outputs": [],
   "source": [
    "# mlflow.end_run()"
   ]
  },
  {
   "cell_type": "code",
   "execution_count": 36,
   "metadata": {
    "tags": []
   },
   "outputs": [
    {
     "data": {
      "application/vnd.jupyter.widget-view+json": {
       "model_id": "39c9895f92cc488586af5f8a92c3dabf",
       "version_major": 2,
       "version_minor": 0
      },
      "text/plain": [
       "MetricVisualizer(layout=Layout(align_self='stretch', height='500px'))"
      ]
     },
     "metadata": {},
     "output_type": "display_data"
    },
    {
     "name": "stderr",
     "output_type": "stream",
     "text": [
      "Metric R2 is not implemented on GPU. Will use CPU for metric computation, this could significantly affect learning time\n"
     ]
    },
    {
     "name": "stdout",
     "output_type": "stream",
     "text": [
      "0:\tlearn: 2.5004065\ttest: 2.4931000\tbest: 2.4931000 (0)\ttotal: 177ms\tremaining: 44m 16s\n",
      "75:\tlearn: 2.3820903\ttest: 2.3750271\tbest: 2.3750271 (75)\ttotal: 10.6s\tremaining: 34m 37s\n",
      "150:\tlearn: 2.2747992\ttest: 2.2679797\tbest: 2.2679797 (150)\ttotal: 21.1s\tremaining: 34m 38s\n",
      "225:\tlearn: 2.1780433\ttest: 2.1714927\tbest: 2.1714927 (225)\ttotal: 31.2s\tremaining: 34m 1s\n",
      "300:\tlearn: 2.0906529\ttest: 2.0843972\tbest: 2.0843972 (300)\ttotal: 41.8s\tremaining: 34m 2s\n",
      "375:\tlearn: 2.0121518\ttest: 2.0062031\tbest: 2.0062031 (375)\ttotal: 52.2s\tremaining: 33m 51s\n",
      "450:\tlearn: 1.9417086\ttest: 1.9360953\tbest: 1.9360953 (450)\ttotal: 1m 2s\tremaining: 33m 45s\n",
      "525:\tlearn: 1.8786471\ttest: 1.8733604\tbest: 1.8733604 (525)\ttotal: 1m 13s\tremaining: 33m 40s\n",
      "600:\tlearn: 1.8223725\ttest: 1.8174274\tbest: 1.8174274 (600)\ttotal: 1m 24s\tremaining: 33m 37s\n",
      "675:\tlearn: 1.7723326\ttest: 1.7677365\tbest: 1.7677365 (675)\ttotal: 1m 34s\tremaining: 33m 19s\n",
      "750:\tlearn: 1.7278259\ttest: 1.7235917\tbest: 1.7235917 (750)\ttotal: 1m 44s\tremaining: 33m 5s\n",
      "825:\tlearn: 1.6883999\ttest: 1.6845493\tbest: 1.6845493 (825)\ttotal: 1m 55s\tremaining: 32m 56s\n",
      "900:\tlearn: 1.6534720\ttest: 1.6500161\tbest: 1.6500161 (900)\ttotal: 2m 5s\tremaining: 32m 45s\n",
      "975:\tlearn: 1.6225985\ttest: 1.6195375\tbest: 1.6195375 (975)\ttotal: 2m 16s\tremaining: 32m 37s\n",
      "1050:\tlearn: 1.5953175\ttest: 1.5926520\tbest: 1.5926520 (1050)\ttotal: 2m 27s\tremaining: 32m 34s\n",
      "1125:\tlearn: 1.5712302\ttest: 1.5689550\tbest: 1.5689550 (1125)\ttotal: 2m 38s\tremaining: 32m 31s\n",
      "1200:\tlearn: 1.5500544\ttest: 1.5481669\tbest: 1.5481669 (1200)\ttotal: 2m 49s\tremaining: 32m 23s\n",
      "1275:\tlearn: 1.5314444\ttest: 1.5299302\tbest: 1.5299302 (1275)\ttotal: 2m 59s\tremaining: 32m 15s\n",
      "1350:\tlearn: 1.5151055\ttest: 1.5139471\tbest: 1.5139471 (1350)\ttotal: 3m 10s\tremaining: 32m 4s\n",
      "1425:\tlearn: 1.5007845\ttest: 1.5000248\tbest: 1.5000248 (1425)\ttotal: 3m 21s\tremaining: 31m 54s\n",
      "1500:\tlearn: 1.4881890\ttest: 1.4878096\tbest: 1.4878096 (1500)\ttotal: 3m 31s\tremaining: 31m 43s\n",
      "1575:\tlearn: 1.4771215\ttest: 1.4770824\tbest: 1.4770824 (1575)\ttotal: 3m 42s\tremaining: 31m 34s\n",
      "1650:\tlearn: 1.4673829\ttest: 1.4676872\tbest: 1.4676872 (1650)\ttotal: 3m 53s\tremaining: 31m 24s\n",
      "1725:\tlearn: 1.4588900\ttest: 1.4595342\tbest: 1.4595342 (1725)\ttotal: 4m 3s\tremaining: 31m 11s\n",
      "1800:\tlearn: 1.4514159\ttest: 1.4523712\tbest: 1.4523712 (1800)\ttotal: 4m 13s\tremaining: 30m 57s\n",
      "1875:\tlearn: 1.4448501\ttest: 1.4461265\tbest: 1.4461265 (1875)\ttotal: 4m 23s\tremaining: 30m 44s\n",
      "1950:\tlearn: 1.4391093\ttest: 1.4407001\tbest: 1.4407001 (1950)\ttotal: 4m 33s\tremaining: 30m 29s\n",
      "2025:\tlearn: 1.4340457\ttest: 1.4359287\tbest: 1.4359287 (2025)\ttotal: 4m 44s\tremaining: 30m 19s\n",
      "2100:\tlearn: 1.4295835\ttest: 1.4317761\tbest: 1.4317761 (2100)\ttotal: 4m 55s\tremaining: 30m 11s\n",
      "2175:\tlearn: 1.4256419\ttest: 1.4281068\tbest: 1.4281068 (2175)\ttotal: 5m 5s\tremaining: 30m 2s\n",
      "2250:\tlearn: 1.4221577\ttest: 1.4249059\tbest: 1.4249059 (2250)\ttotal: 5m 16s\tremaining: 29m 51s\n",
      "2325:\tlearn: 1.4191053\ttest: 1.4221121\tbest: 1.4221121 (2325)\ttotal: 5m 26s\tremaining: 29m 40s\n",
      "2400:\tlearn: 1.4164208\ttest: 1.4196766\tbest: 1.4196766 (2400)\ttotal: 5m 37s\tremaining: 29m 28s\n",
      "2475:\tlearn: 1.4140270\ttest: 1.4175506\tbest: 1.4175506 (2475)\ttotal: 5m 47s\tremaining: 29m 16s\n",
      "2550:\tlearn: 1.4119198\ttest: 1.4156947\tbest: 1.4156947 (2550)\ttotal: 5m 57s\tremaining: 29m 3s\n",
      "2625:\tlearn: 1.4100341\ttest: 1.4140836\tbest: 1.4140836 (2625)\ttotal: 6m 7s\tremaining: 28m 52s\n",
      "2700:\tlearn: 1.4083878\ttest: 1.4126773\tbest: 1.4126773 (2700)\ttotal: 6m 17s\tremaining: 28m 39s\n",
      "2775:\tlearn: 1.4069055\ttest: 1.4114543\tbest: 1.4114543 (2775)\ttotal: 6m 27s\tremaining: 28m 26s\n",
      "2850:\tlearn: 1.4056119\ttest: 1.4103850\tbest: 1.4103850 (2850)\ttotal: 6m 37s\tremaining: 28m 13s\n",
      "2925:\tlearn: 1.4044252\ttest: 1.4094500\tbest: 1.4094500 (2925)\ttotal: 6m 47s\tremaining: 27m 59s\n",
      "3000:\tlearn: 1.4033709\ttest: 1.4086105\tbest: 1.4086105 (3000)\ttotal: 6m 57s\tremaining: 27m 49s\n",
      "3075:\tlearn: 1.4024290\ttest: 1.4079013\tbest: 1.4079013 (3075)\ttotal: 7m 7s\tremaining: 27m 38s\n",
      "3150:\tlearn: 1.4015831\ttest: 1.4072585\tbest: 1.4072585 (3150)\ttotal: 7m 18s\tremaining: 27m 27s\n",
      "3225:\tlearn: 1.4008145\ttest: 1.4067134\tbest: 1.4067134 (3225)\ttotal: 7m 28s\tremaining: 27m 16s\n",
      "3300:\tlearn: 1.4001315\ttest: 1.4062341\tbest: 1.4062341 (3300)\ttotal: 7m 38s\tremaining: 27m 4s\n",
      "3375:\tlearn: 1.3995020\ttest: 1.4058132\tbest: 1.4058132 (3375)\ttotal: 7m 48s\tremaining: 26m 53s\n",
      "3450:\tlearn: 1.3989367\ttest: 1.4054326\tbest: 1.4054326 (3450)\ttotal: 7m 59s\tremaining: 26m 43s\n",
      "3525:\tlearn: 1.3984236\ttest: 1.4051010\tbest: 1.4051010 (3525)\ttotal: 8m 9s\tremaining: 26m 33s\n",
      "3600:\tlearn: 1.3979681\ttest: 1.4047894\tbest: 1.4047894 (3600)\ttotal: 8m 20s\tremaining: 26m 22s\n",
      "3675:\tlearn: 1.3975476\ttest: 1.4045341\tbest: 1.4045341 (3675)\ttotal: 8m 30s\tremaining: 26m 11s\n",
      "3750:\tlearn: 1.3971711\ttest: 1.4043041\tbest: 1.4043041 (3750)\ttotal: 8m 40s\tremaining: 26m\n",
      "3825:\tlearn: 1.3968238\ttest: 1.4040981\tbest: 1.4040981 (3825)\ttotal: 8m 50s\tremaining: 25m 49s\n",
      "3900:\tlearn: 1.3964953\ttest: 1.4039155\tbest: 1.4039155 (3900)\ttotal: 9m\tremaining: 25m 38s\n",
      "3975:\tlearn: 1.3961877\ttest: 1.4037605\tbest: 1.4037605 (3975)\ttotal: 9m 10s\tremaining: 25m 27s\n",
      "4050:\tlearn: 1.3959090\ttest: 1.4036236\tbest: 1.4036236 (4050)\ttotal: 9m 21s\tremaining: 25m 16s\n",
      "4125:\tlearn: 1.3956527\ttest: 1.4035018\tbest: 1.4035018 (4125)\ttotal: 9m 31s\tremaining: 25m 6s\n",
      "4200:\tlearn: 1.3954116\ttest: 1.4033956\tbest: 1.4033951 (4199)\ttotal: 9m 41s\tremaining: 24m 55s\n",
      "4275:\tlearn: 1.3951860\ttest: 1.4033092\tbest: 1.4033092 (4275)\ttotal: 9m 51s\tremaining: 24m 43s\n",
      "4350:\tlearn: 1.3949803\ttest: 1.4032129\tbest: 1.4032121 (4349)\ttotal: 10m 1s\tremaining: 24m 32s\n",
      "4425:\tlearn: 1.3947761\ttest: 1.4031418\tbest: 1.4031411 (4420)\ttotal: 10m 12s\tremaining: 24m 22s\n",
      "4500:\tlearn: 1.3945890\ttest: 1.4030770\tbest: 1.4030770 (4500)\ttotal: 10m 22s\tremaining: 24m 11s\n",
      "4575:\tlearn: 1.3944197\ttest: 1.4030265\tbest: 1.4030265 (4575)\ttotal: 10m 31s\tremaining: 23m 58s\n",
      "4650:\tlearn: 1.3942587\ttest: 1.4029735\tbest: 1.4029733 (4649)\ttotal: 10m 41s\tremaining: 23m 46s\n",
      "4725:\tlearn: 1.3941010\ttest: 1.4029433\tbest: 1.4029433 (4725)\ttotal: 10m 51s\tremaining: 23m 36s\n",
      "4800:\tlearn: 1.3939540\ttest: 1.4029103\tbest: 1.4029103 (4800)\ttotal: 11m 1s\tremaining: 23m 26s\n",
      "4875:\tlearn: 1.3938269\ttest: 1.4028805\tbest: 1.4028796 (4874)\ttotal: 11m 10s\tremaining: 23m 13s\n",
      "4950:\tlearn: 1.3936924\ttest: 1.4028631\tbest: 1.4028628 (4949)\ttotal: 11m 21s\tremaining: 23m 2s\n",
      "5025:\tlearn: 1.3935612\ttest: 1.4028365\tbest: 1.4028360 (5021)\ttotal: 11m 31s\tremaining: 22m 51s\n",
      "5100:\tlearn: 1.3934366\ttest: 1.4028181\tbest: 1.4028161 (5070)\ttotal: 11m 41s\tremaining: 22m 41s\n",
      "5175:\tlearn: 1.3933249\ttest: 1.4027960\tbest: 1.4027955 (5174)\ttotal: 11m 51s\tremaining: 22m 30s\n",
      "5250:\tlearn: 1.3932222\ttest: 1.4027768\tbest: 1.4027768 (5250)\ttotal: 12m 1s\tremaining: 22m 18s\n",
      "5325:\tlearn: 1.3931218\ttest: 1.4027641\tbest: 1.4027635 (5322)\ttotal: 12m 10s\tremaining: 22m 7s\n",
      "5400:\tlearn: 1.3930280\ttest: 1.4027458\tbest: 1.4027458 (5399)\ttotal: 12m 20s\tremaining: 21m 55s\n",
      "5475:\tlearn: 1.3929414\ttest: 1.4027498\tbest: 1.4027390 (5427)\ttotal: 12m 29s\tremaining: 21m 43s\n",
      "bestTest = 1.402738952\n",
      "bestIteration = 5427\n",
      "Shrink model to first 5428 iterations.\n"
     ]
    },
    {
     "data": {
      "text/plain": [
       "<catboost.core.CatBoostRegressor at 0x7f6d9e955160>"
      ]
     },
     "execution_count": 36,
     "metadata": {},
     "output_type": "execute_result"
    }
   ],
   "source": [
    "model.fit(X_train, y_train,\n",
    "          eval_set=(X_valid, y_valid),\n",
    "          use_best_model=True, plot=True)"
   ]
  },
  {
   "cell_type": "code",
   "execution_count": 1,
   "metadata": {},
   "outputs": [
    {
     "ename": "NameError",
     "evalue": "name 'mlflow' is not defined",
     "output_type": "error",
     "traceback": [
      "\u001b[0;31m---------------------------------------------------------------------------\u001b[0m",
      "\u001b[0;31mNameError\u001b[0m                                 Traceback (most recent call last)",
      "Cell \u001b[0;32mIn[1], line 1\u001b[0m\n\u001b[0;32m----> 1\u001b[0m mlflow\u001b[39m.\u001b[39mcatboost\u001b[39m.\u001b[39mlog_model(model, \u001b[39m\"\u001b[39m\u001b[39mcatboost_model\u001b[39m\u001b[39m\"\u001b[39m)\n\u001b[1;32m      3\u001b[0m best_iteration \u001b[39m=\u001b[39m model\u001b[39m.\u001b[39mget_best_iteration()\n\u001b[1;32m      5\u001b[0m mlflow\u001b[39m.\u001b[39mlog_metric(\u001b[39m'\u001b[39m\u001b[39mbest_iteration\u001b[39m\u001b[39m'\u001b[39m, best_iteration)\n",
      "\u001b[0;31mNameError\u001b[0m: name 'mlflow' is not defined"
     ]
    }
   ],
   "source": [
    "mlflow.catboost.log_model(model, \"catboost_model\")\n",
    "\n",
    "best_iteration = model.get_best_iteration()\n",
    "\n",
    "mlflow.log_metric('best_iteration', best_iteration)"
   ]
  },
  {
   "attachments": {},
   "cell_type": "markdown",
   "metadata": {},
   "source": [
    "## Plot the Feature Importance"
   ]
  },
  {
   "cell_type": "code",
   "execution_count": null,
   "metadata": {},
   "outputs": [],
   "source": [
    "\n",
    "fea_imp = pd.DataFrame({'imp': model.feature_importances_, 'col': X.columns})\n",
    "fea_imp = fea_imp.sort_values(['imp', 'col'], ascending=[\n",
    "                              True, False]).iloc[-30:]\n",
    "\n",
    "fig = go.Figure(data=[go.Bar(\n",
    "    x=fea_imp['imp'],\n",
    "    y=fea_imp['col'],\n",
    "    orientation='h',\n",
    "    marker=dict(color=fea_imp['imp'], colorbar=dict(title='Importance'))\n",
    "\n",
    ")])\n",
    "\n",
    "fig.update_layout(\n",
    "    title='CatBoost - Feature Importance - All',\n",
    "    yaxis=dict(title='Features'),\n",
    "    xaxis=dict(title='Importance'),\n",
    "    height=600,\n",
    "    width=800\n",
    ")\n",
    "\n",
    "# fig.show()\n",
    "\n",
    "\n",
    "# Save the Plotly figure as an HTML file\n",
    "html_path = \"temp/feature_importance_all.html\"\n",
    "pio.write_html(fig, html_path)\n",
    "\n",
    "# Log the HTML file as an artifact in MLflow\n",
    "mlflow.log_artifact(html_path)"
   ]
  },
  {
   "attachments": {},
   "cell_type": "markdown",
   "metadata": {},
   "source": [
    "### Log feature importance - mlflow"
   ]
  },
  {
   "cell_type": "code",
   "execution_count": null,
   "metadata": {},
   "outputs": [],
   "source": [
    "# Get the feature importance values and feature names from your CatBoost model\n",
    "feature_importance = model.get_feature_importance()\n",
    "feature_names = X.columns\n",
    "\n",
    "# Create a DataFrame to store the feature importance values and feature names\n",
    "feature_importance_df = pd.DataFrame(\n",
    "    {'Feature': feature_names, 'Importance': feature_importance})\n",
    "\n",
    "# Create a temporary file to save the feature importance DataFrame\n",
    "with tempfile.NamedTemporaryFile(mode='w', delete=False, suffix='.csv') as temp_file:\n",
    "    # Save the feature importance DataFrame as a CSV file\n",
    "    feature_importance_df.to_csv(temp_file, index=False)\n",
    "\n",
    "# Log the feature importance CSV file as an artifact in MLflow\n",
    "mlflow.log_artifact(temp_file.name, \"feature_importance.csv\")"
   ]
  },
  {
   "cell_type": "code",
   "execution_count": null,
   "metadata": {},
   "outputs": [],
   "source": [
    "# import pandas as pd\n",
    "# import tempfile\n",
    "\n",
    "# # Define the years sets\n",
    "# years_sets = [\n",
    "#     [2020, 2021],\n",
    "#     [2019, 2020, 2021],\n",
    "#     [2018, 2019, 2020, 2021],\n",
    "#     [2021]\n",
    "# ]\n",
    "\n",
    "# # Create a DataFrame to store the feature importance values and feature names\n",
    "# feature_importance_df = pd.DataFrame({'Feature': feature_names, 'Importance': feature_importance})\n",
    "\n",
    "# # Insert the year sets as the first column in the DataFrame\n",
    "# feature_importance_df.insert(0, 'Year Sets', years_sets)\n",
    "\n",
    "# # Create a temporary file to save the feature importance DataFrame\n",
    "# with tempfile.NamedTemporaryFile(mode='w', delete=False, suffix='.csv') as temp_file:\n",
    "#     # Save the feature importance DataFrame as a CSV file\n",
    "#     feature_importance_df.to_csv(temp_file, index=False)\n",
    "\n",
    "# # Log the feature importance CSV file as an artifact in MLflow\n",
    "# mlflow.log_artifact(temp_file.name, \"feature_importance.csv\")"
   ]
  },
  {
   "attachments": {},
   "cell_type": "markdown",
   "metadata": {},
   "source": [
    "### Evalute Model"
   ]
  },
  {
   "cell_type": "code",
   "execution_count": null,
   "metadata": {},
   "outputs": [],
   "source": [
    "# model evaluation\n",
    "from sklearn.metrics import mean_squared_error\n",
    "print('Model evaluation:')\n",
    "print(model.get_params())\n",
    "print('RMSE:', np.sqrt(mean_squared_error(y_valid, model.predict(X_valid))))"
   ]
  },
  {
   "cell_type": "code",
   "execution_count": null,
   "metadata": {},
   "outputs": [],
   "source": [
    "print(model.get_best_score())\n",
    "\n",
    "# Flatten and log the best scores as parameters in MLflow\n",
    "best_scores = model.get_best_score()\n",
    "for stage, metrics in best_scores.items():\n",
    "    for metric, value in metrics.items():\n",
    "        mlflow.log_metric(f'{stage}_{metric}', value)"
   ]
  },
  {
   "cell_type": "code",
   "execution_count": null,
   "metadata": {},
   "outputs": [],
   "source": [
    "# End the MLflow run\n",
    "# mlflow.end_run()"
   ]
  },
  {
   "attachments": {},
   "cell_type": "markdown",
   "metadata": {},
   "source": [
    "### Finish without shap"
   ]
  },
  {
   "attachments": {},
   "cell_type": "markdown",
   "metadata": {},
   "source": [
    "## SHAP"
   ]
  },
  {
   "cell_type": "code",
   "execution_count": null,
   "metadata": {},
   "outputs": [],
   "source": [
    "# import shap\n",
    "\n",
    "# pool = cb.Pool(X_valid, y_valid)\n",
    "\n",
    "\n",
    "# # Compute SHAP values\n",
    "# shap_values = model.get_feature_importance(pool, type='ShapValues')\n",
    "\n",
    "# # Convert SHAP values to a DataFrame\n",
    "# shap_df = pd.DataFrame(shap_values[:, :-1], columns=X_valid.columns)\n",
    "\n",
    "# # Log the SHAP values as an artifact in MLflow\n",
    "# shap_df.to_csv(\"shap_values.csv\", index=False)\n",
    "# mlflow.log_artifact(\"shap_values.csv\")"
   ]
  },
  {
   "cell_type": "code",
   "execution_count": null,
   "metadata": {},
   "outputs": [],
   "source": [
    "# # Exclude the constant offset column from shap_values\n",
    "# shap_values = shap_values[:, :-1]\n",
    "\n",
    "# # Create a SHAP summary plot\n",
    "# shap.summary_plot(shap_values, X_valid)\n",
    "\n",
    "# # Save the plot as an artifact in MLflow\n",
    "# shap_plot_path = 'shap_summary_plot.png'\n",
    "# shap.summary_plot(shap_values, X_valid, show=False)\n",
    "# plt.savefig(shap_plot_path)\n",
    "# mlflow.log_artifact(shap_plot_path)"
   ]
  },
  {
   "attachments": {},
   "cell_type": "markdown",
   "metadata": {},
   "source": [
    "# Evaluation\n"
   ]
  },
  {
   "attachments": {},
   "cell_type": "markdown",
   "metadata": {},
   "source": [
    "## Predictions vs Actual Prices"
   ]
  },
  {
   "cell_type": "code",
   "execution_count": null,
   "metadata": {
    "tags": []
   },
   "outputs": [],
   "source": [
    "# data_pred_tmp = data_pred.drop(['PricePerUnit'], axis=1)\n",
    "predictions = model.predict(data_pred)\n",
    "\n",
    "# Create a DataFrame with the predictions\n",
    "predictions_df = pd.DataFrame(predictions, columns=['Predictions'])\n",
    "\n",
    "# Save the predictions to a CSV file\n",
    "predictions_df.to_csv('temp/predictions.csv', index=False)\n",
    "\n",
    "# Log the predictions CSV file as an artifact in MLflow\n",
    "mlflow.log_artifact('temp/predictions.csv', 'predictions')"
   ]
  },
  {
   "cell_type": "code",
   "execution_count": null,
   "metadata": {},
   "outputs": [],
   "source": [
    "predictions"
   ]
  },
  {
   "cell_type": "code",
   "execution_count": null,
   "metadata": {},
   "outputs": [],
   "source": [
    "actual_prices = data_pred.PricePerUnit"
   ]
  },
  {
   "cell_type": "code",
   "execution_count": null,
   "metadata": {},
   "outputs": [],
   "source": [
    "\n",
    "import plotly.graph_objects as go\n",
    "\n",
    "# Create a line plot using Plotly\n",
    "fig = go.Figure()\n",
    "fig.add_trace(go.Scatter(x=list(range(len(actual_prices))),\n",
    "              y=actual_prices, mode='lines', name='Actual'))\n",
    "fig.add_trace(go.Scatter(x=list(range(len(predictions))),\n",
    "              y=predictions, mode='lines', name='Predicted'))\n",
    "\n",
    "fig.update_layout(\n",
    "    title='Actual vs. Predicted Prices for 2022',\n",
    "    xaxis=dict(title='Time'),\n",
    "    yaxis=dict(title='Price')\n",
    ")\n",
    "\n",
    "# fig.show()\n",
    "\n",
    "# Save the Plotly figure as an HTML file\n",
    "html_path = \"temp/actual_predicted.html\"\n",
    "pio.write_html(fig, html_path)\n",
    "\n",
    "# Log the HTML file as an artifact in MLflow\n",
    "mlflow.log_artifact(html_path)"
   ]
  },
  {
   "cell_type": "code",
   "execution_count": null,
   "metadata": {},
   "outputs": [],
   "source": [
    "rmse = mean_squared_error(actual_prices, predictions, squared=False)"
   ]
  },
  {
   "cell_type": "code",
   "execution_count": null,
   "metadata": {},
   "outputs": [],
   "source": [
    "rmse"
   ]
  },
  {
   "cell_type": "code",
   "execution_count": null,
   "metadata": {},
   "outputs": [],
   "source": [
    "error = actual_prices - predictions"
   ]
  },
  {
   "cell_type": "code",
   "execution_count": null,
   "metadata": {},
   "outputs": [],
   "source": [
    "plt.scatter(actual_prices, predictions, c=error, cmap='coolwarm')\n",
    "plt.plot(np.linspace(min(actual_prices), max(actual_prices), 100), np.linspace(\n",
    "    min(actual_prices), max(actual_prices), 100), color='black', linestyle='--')\n",
    "plt.xlabel('Actual Prices')\n",
    "plt.ylabel('Predicted Prices')\n",
    "plt.colorbar()\n",
    "plt.show()"
   ]
  },
  {
   "cell_type": "code",
   "execution_count": null,
   "metadata": {
    "tags": []
   },
   "outputs": [],
   "source": [
    "# Create a scatter plot using Plotly\n",
    "fig = go.Figure(data=go.Scatter(\n",
    "    x=actual_prices,\n",
    "    y=predictions,\n",
    "    mode='markers',\n",
    "    marker=dict(\n",
    "        size=8,\n",
    "        color=error,\n",
    "        colorscale='Viridis',\n",
    "        showscale=True,\n",
    "        colorbar=dict(title='Error')\n",
    "    )\n",
    "))\n",
    "\n",
    "fig.update_layout(\n",
    "    title='Actual vs. Predicted Prices',\n",
    "    xaxis=dict(title='Actual Prices'),\n",
    "    yaxis=dict(title='Predicted Prices')\n",
    ")\n",
    "\n",
    "# fig.show()\n",
    "\n",
    "# Save the Plotly figure as an HTML file\n",
    "html_path = \"temp/actual_predicted_errors.html\"\n",
    "pio.write_html(fig, html_path)\n",
    "\n",
    "# Log the HTML file as an artifact in MLflow\n",
    "mlflow.log_artifact(html_path)"
   ]
  },
  {
   "cell_type": "code",
   "execution_count": null,
   "metadata": {},
   "outputs": [],
   "source": [
    "from sklearn.metrics import mean_squared_error, mean_absolute_error, r2_score, mean_absolute_percentage_error\n",
    "\n",
    "\n",
    "mse = mean_squared_error(actual_prices, predictions)\n",
    "rmse = mean_squared_error(actual_prices, predictions, squared=False)\n",
    "mae = mean_absolute_error(actual_prices, predictions)\n",
    "r2 = r2_score(actual_prices, predictions)\n",
    "mape = mean_absolute_percentage_error(actual_prices, predictions)"
   ]
  },
  {
   "cell_type": "code",
   "execution_count": null,
   "metadata": {},
   "outputs": [],
   "source": [
    "mlflow.log_metric(\"MSE\", mse)\n",
    "mlflow.log_metric(\"RMSE\", rmse)\n",
    "mlflow.log_metric(\"MAE\", mae)\n",
    "mlflow.log_metric(\"MAPE\", mape)\n",
    "mlflow.log_metric(\"R-squared\", r2)\n",
    "\n",
    "# mlflow.log_metric()"
   ]
  },
  {
   "cell_type": "code",
   "execution_count": null,
   "metadata": {},
   "outputs": [],
   "source": [
    "print('MSE:', mse)\n",
    "print('RMSE:', rmse)\n",
    "print('MAE:', mae)\n",
    "print('MAPE:', mape)\n",
    "print('R-squared:', r2)"
   ]
  },
  {
   "attachments": {},
   "cell_type": "markdown",
   "metadata": {},
   "source": [
    "https://towardsdatascience.com/ad-demand-forecast-with-catboost-lightgbm-819e5073cd3e\n",
    "\n",
    "https://towardsdatascience.com/understanding-feature-importance-and-how-to-implement-it-in-python-ff0287b20285"
   ]
  },
  {
   "cell_type": "code",
   "execution_count": null,
   "metadata": {
    "tags": []
   },
   "outputs": [],
   "source": [
    "# End the MLflow run\n",
    "mlflow.end_run()"
   ]
  },
  {
   "cell_type": "code",
   "execution_count": null,
   "metadata": {},
   "outputs": [],
   "source": []
  }
 ],
 "metadata": {
  "kernelspec": {
   "display_name": "price39_env",
   "language": "python",
   "name": "price39_env"
  },
  "language_info": {
   "codemirror_mode": {
    "name": "ipython",
    "version": 3
   },
   "file_extension": ".py",
   "mimetype": "text/x-python",
   "name": "python",
   "nbconvert_exporter": "python",
   "pygments_lexer": "ipython3",
   "version": "3.9.16"
  }
 },
 "nbformat": 4,
 "nbformat_minor": 4
}
