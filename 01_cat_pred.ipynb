{
 "cells": [
  {
   "attachments": {},
   "cell_type": "markdown",
   "metadata": {},
   "source": [
    "## Imports"
   ]
  },
  {
   "cell_type": "code",
   "execution_count": 57,
   "metadata": {
    "tags": []
   },
   "outputs": [],
   "source": [
    "# Importing machine learning algorithms\n",
    "import lightgbm as lgb\n",
    "import xgboost as xgb\n",
    "import catboost as cb\n",
    "\n",
    "# Importing other packages\n",
    "import timeit\n",
    "import pandas as pd\n",
    "import numpy as np\n",
    "import neptune\n",
    "import tempfile\n",
    "from scipy import stats\n",
    "import time\n",
    "\n",
    "\n",
    "import seaborn as sns\n",
    "import matplotlib.pyplot as plt\n",
    "from catboost import CatBoostRegressor\n",
    "import my_functions as mf\n",
    "\n",
    "import mlflow\n",
    "import mlflow.catboost\n",
    "import os\n",
    "\n",
    "\n",
    "# Importing packages for machine learning operations\n",
    "from sklearn.model_selection import train_test_split, GridSearchCV\n",
    "from sklearn.metrics import roc_auc_score\n",
    "\n",
    "\n",
    "import plotly.graph_objects as go\n",
    "import plotly.io as pio\n",
    "\n",
    "pio.renderers.default = \"browser\""
   ]
  },
  {
   "attachments": {},
   "cell_type": "markdown",
   "metadata": {},
   "source": [
    "## Start Experiment"
   ]
  },
  {
   "cell_type": "code",
   "execution_count": 58,
   "metadata": {},
   "outputs": [],
   "source": [
    "\n",
    "\n",
    "# Set the experiment name in MLflow\n",
    "instance_Family = 'General_purpose'\n",
    "# General_purpose\n",
    "# Memory_optimized\n",
    "# Storage_optimized\n",
    "# Compute_optimized\n",
    "# GPU_instance\n",
    "\n",
    "outlier = 'zscore'\n",
    "\n",
    "# zscore\n",
    "# iqr\n",
    "# lof\n",
    "# isolation\n",
    "\n",
    "\n",
    "mlflow.set_experiment(instance_Family)\n",
    "mlflow.set_tracking_uri(\"file:///media/gfragi/data/BarraCuda/mlruns/mlruns/\")"
   ]
  },
  {
   "attachments": {},
   "cell_type": "markdown",
   "metadata": {},
   "source": [
    "### Add some experiment tags"
   ]
  },
  {
   "cell_type": "code",
   "execution_count": 59,
   "metadata": {},
   "outputs": [],
   "source": [
    "\n",
    "# Set tags for the run\n",
    "tags = {\n",
    "    \"experiment\": \"catboost_regression\",\n",
    "    \"model_type\": \"CatBoostRegressor\",\n",
    "    # \"task_type\": \"CPU\",\n",
    "    \"dataset\": \"Amazon\",\n",
    "    \"year to predict\": \"2023\",\n",
    "    \"all years for prediction\": \"no\",\n",
    "    \"outlier\": outlier\n",
    "}\n",
    "\n",
    "# Set the tags for the current run\n",
    "mlflow.set_tags(tags)"
   ]
  },
  {
   "cell_type": "code",
   "execution_count": 60,
   "metadata": {},
   "outputs": [],
   "source": [
    "# mlflow.end_run()"
   ]
  },
  {
   "attachments": {},
   "cell_type": "markdown",
   "metadata": {},
   "source": [
    "## Import data "
   ]
  },
  {
   "cell_type": "code",
   "execution_count": 61,
   "metadata": {
    "tags": []
   },
   "outputs": [],
   "source": [
    "\n",
    "data_all = pd.read_csv(\n",
    "    f'./data/amazon_22_quarters.csv', parse_dates=['EffectiveDate'])\n",
    "\n",
    "\n",
    "data_all = data_all[(data_all['instanceFamily'] == instance_Family)]\n",
    "\n",
    "# data = data.drop(['OfferTermCode', 'instanceType', 'instanceFamily', 'OfferingClass'], axis=1)\n",
    "\n",
    "data_all = data_all.drop(['SKU', 'RateCode', 'OfferTermCode', 'instanceFamily',\n",
    "                          'License Model', 'TermType', 'year', 'Tenancy', 'OfferingClass',\n",
    "                          'instanceType', 'Product Family', 'Current Generation',\n",
    "                          'License Model'], axis=1)"
   ]
  },
  {
   "cell_type": "code",
   "execution_count": 62,
   "metadata": {
    "tags": []
   },
   "outputs": [
    {
     "name": "stdout",
     "output_type": "stream",
     "text": [
      "<class 'pandas.core.frame.DataFrame'>\n",
      "Int64Index: 111740 entries, 12 to 554076\n",
      "Data columns (total 13 columns):\n",
      " #   Column               Non-Null Count   Dtype         \n",
      "---  ------               --------------   -----         \n",
      " 0   PricePerUnit         111740 non-null  float64       \n",
      " 1   LeaseContractLength  111740 non-null  int64         \n",
      " 2   PurchaseOption       111740 non-null  object        \n",
      " 3   Location             111740 non-null  object        \n",
      " 4   vCPU                 111740 non-null  int64         \n",
      " 5   Memory               111740 non-null  int64         \n",
      " 6   operatingSystem      111740 non-null  object        \n",
      " 7   networkPerformance   111740 non-null  float64       \n",
      " 8   EffectiveDate        111740 non-null  datetime64[ns]\n",
      " 9   DiskType             111740 non-null  object        \n",
      " 10  StorageSize          111740 non-null  int64         \n",
      " 11  Quarter              111740 non-null  int64         \n",
      " 12  YearQuarter          111740 non-null  object        \n",
      "dtypes: datetime64[ns](1), float64(2), int64(5), object(5)\n",
      "memory usage: 11.9+ MB\n"
     ]
    }
   ],
   "source": [
    "data_all.info()"
   ]
  },
  {
   "cell_type": "code",
   "execution_count": 63,
   "metadata": {},
   "outputs": [],
   "source": [
    "# Select regions"
   ]
  },
  {
   "cell_type": "code",
   "execution_count": 64,
   "metadata": {},
   "outputs": [],
   "source": [
    "# # # replace USEast and USWest to US and EU to Europe\n",
    "# data_all = data_all.replace({'USEast': 'US', 'USWest': 'US', 'EU': 'Europe'})\n",
    "data_all = data_all[(data_all['Location'] != \"Africa\") & (data_all['Location'] != \"MiddleEast\") & (data_all['Location']\n",
    "                                                                                                   != \"Canada\") & (data_all['Location'] != \"SouthAmerica\") & (data_all['Location'] != \"AWSGovCloud\")]"
   ]
  },
  {
   "cell_type": "code",
   "execution_count": 65,
   "metadata": {},
   "outputs": [],
   "source": [
    "# data_all = data_all.drop(['Location'], axis=1)"
   ]
  },
  {
   "cell_type": "code",
   "execution_count": 66,
   "metadata": {
    "tags": []
   },
   "outputs": [],
   "source": [
    "# # create several new date time features\n",
    "data_all['year'] = data_all['EffectiveDate'].dt.year\n",
    "# data['day_of_year'] = data['EffectiveDate'].dt.dayofyear\n",
    "# data['weekday'] = data['EffectiveDate'].dt.weekday\n",
    "# data['week_of_year'] = data['EffectiveDate'].dt.week\n",
    "# data['day_of_month'] = data['EffectiveDate'].dt.day\n",
    "# data['quarter'] = data['EffectiveDate'].dt.quarter\n",
    "\n",
    "# data.drop('EffectiveDate', axis=1, inplace=True)"
   ]
  },
  {
   "attachments": {},
   "cell_type": "markdown",
   "metadata": {},
   "source": [
    "### Sort "
   ]
  },
  {
   "cell_type": "code",
   "execution_count": 67,
   "metadata": {
    "tags": []
   },
   "outputs": [
    {
     "data": {
      "text/html": [
       "<div>\n",
       "<style scoped>\n",
       "    .dataframe tbody tr th:only-of-type {\n",
       "        vertical-align: middle;\n",
       "    }\n",
       "\n",
       "    .dataframe tbody tr th {\n",
       "        vertical-align: top;\n",
       "    }\n",
       "\n",
       "    .dataframe thead th {\n",
       "        text-align: right;\n",
       "    }\n",
       "</style>\n",
       "<table border=\"1\" class=\"dataframe\">\n",
       "  <thead>\n",
       "    <tr style=\"text-align: right;\">\n",
       "      <th></th>\n",
       "      <th>PricePerUnit</th>\n",
       "      <th>LeaseContractLength</th>\n",
       "      <th>PurchaseOption</th>\n",
       "      <th>Location</th>\n",
       "      <th>vCPU</th>\n",
       "      <th>Memory</th>\n",
       "      <th>operatingSystem</th>\n",
       "      <th>networkPerformance</th>\n",
       "      <th>EffectiveDate</th>\n",
       "      <th>DiskType</th>\n",
       "      <th>StorageSize</th>\n",
       "      <th>Quarter</th>\n",
       "      <th>YearQuarter</th>\n",
       "      <th>year</th>\n",
       "    </tr>\n",
       "  </thead>\n",
       "  <tbody>\n",
       "    <tr>\n",
       "      <th>0</th>\n",
       "      <td>0.11400</td>\n",
       "      <td>3</td>\n",
       "      <td>No Upfront</td>\n",
       "      <td>AsiaPacific</td>\n",
       "      <td>2</td>\n",
       "      <td>7</td>\n",
       "      <td>Linux</td>\n",
       "      <td>0.3</td>\n",
       "      <td>2016-09-30</td>\n",
       "      <td>SSD</td>\n",
       "      <td>32</td>\n",
       "      <td>3</td>\n",
       "      <td>2016Q3</td>\n",
       "      <td>2016</td>\n",
       "    </tr>\n",
       "    <tr>\n",
       "      <th>1</th>\n",
       "      <td>0.05800</td>\n",
       "      <td>1</td>\n",
       "      <td>Partial Upfront</td>\n",
       "      <td>AsiaPacific</td>\n",
       "      <td>2</td>\n",
       "      <td>7</td>\n",
       "      <td>Linux</td>\n",
       "      <td>0.3</td>\n",
       "      <td>2016-09-30</td>\n",
       "      <td>SSD</td>\n",
       "      <td>32</td>\n",
       "      <td>3</td>\n",
       "      <td>2016Q3</td>\n",
       "      <td>2016</td>\n",
       "    </tr>\n",
       "    <tr>\n",
       "      <th>2</th>\n",
       "      <td>0.12700</td>\n",
       "      <td>1</td>\n",
       "      <td>No Upfront</td>\n",
       "      <td>AsiaPacific</td>\n",
       "      <td>2</td>\n",
       "      <td>7</td>\n",
       "      <td>Linux</td>\n",
       "      <td>0.3</td>\n",
       "      <td>2016-08-31</td>\n",
       "      <td>SSD</td>\n",
       "      <td>32</td>\n",
       "      <td>3</td>\n",
       "      <td>2016Q3</td>\n",
       "      <td>2016</td>\n",
       "    </tr>\n",
       "    <tr>\n",
       "      <th>3</th>\n",
       "      <td>0.04700</td>\n",
       "      <td>3</td>\n",
       "      <td>Partial Upfront</td>\n",
       "      <td>US</td>\n",
       "      <td>2</td>\n",
       "      <td>7</td>\n",
       "      <td>Linux</td>\n",
       "      <td>0.3</td>\n",
       "      <td>2016-09-30</td>\n",
       "      <td>SSD</td>\n",
       "      <td>32</td>\n",
       "      <td>3</td>\n",
       "      <td>2016Q3</td>\n",
       "      <td>2016</td>\n",
       "    </tr>\n",
       "    <tr>\n",
       "      <th>4</th>\n",
       "      <td>0.05300</td>\n",
       "      <td>1</td>\n",
       "      <td>Partial Upfront</td>\n",
       "      <td>US</td>\n",
       "      <td>2</td>\n",
       "      <td>7</td>\n",
       "      <td>Linux</td>\n",
       "      <td>0.3</td>\n",
       "      <td>2016-09-30</td>\n",
       "      <td>SSD</td>\n",
       "      <td>32</td>\n",
       "      <td>3</td>\n",
       "      <td>2016Q3</td>\n",
       "      <td>2016</td>\n",
       "    </tr>\n",
       "    <tr>\n",
       "      <th>...</th>\n",
       "      <td>...</td>\n",
       "      <td>...</td>\n",
       "      <td>...</td>\n",
       "      <td>...</td>\n",
       "      <td>...</td>\n",
       "      <td>...</td>\n",
       "      <td>...</td>\n",
       "      <td>...</td>\n",
       "      <td>...</td>\n",
       "      <td>...</td>\n",
       "      <td>...</td>\n",
       "      <td>...</td>\n",
       "      <td>...</td>\n",
       "      <td>...</td>\n",
       "    </tr>\n",
       "    <tr>\n",
       "      <th>91921</th>\n",
       "      <td>1.90853</td>\n",
       "      <td>1</td>\n",
       "      <td>Partial Upfront</td>\n",
       "      <td>AsiaPacific</td>\n",
       "      <td>8</td>\n",
       "      <td>32</td>\n",
       "      <td>Windows</td>\n",
       "      <td>12500.0</td>\n",
       "      <td>2022-10-01</td>\n",
       "      <td>SSD</td>\n",
       "      <td>474</td>\n",
       "      <td>4</td>\n",
       "      <td>2022Q4</td>\n",
       "      <td>2022</td>\n",
       "    </tr>\n",
       "    <tr>\n",
       "      <th>91922</th>\n",
       "      <td>3.62564</td>\n",
       "      <td>3</td>\n",
       "      <td>No Upfront</td>\n",
       "      <td>AsiaPacific</td>\n",
       "      <td>8</td>\n",
       "      <td>32</td>\n",
       "      <td>Windows</td>\n",
       "      <td>12500.0</td>\n",
       "      <td>2022-10-01</td>\n",
       "      <td>SSD</td>\n",
       "      <td>474</td>\n",
       "      <td>4</td>\n",
       "      <td>2022Q4</td>\n",
       "      <td>2022</td>\n",
       "    </tr>\n",
       "    <tr>\n",
       "      <th>91923</th>\n",
       "      <td>3.83952</td>\n",
       "      <td>1</td>\n",
       "      <td>No Upfront</td>\n",
       "      <td>AsiaPacific</td>\n",
       "      <td>8</td>\n",
       "      <td>32</td>\n",
       "      <td>Windows</td>\n",
       "      <td>12500.0</td>\n",
       "      <td>2022-10-01</td>\n",
       "      <td>SSD</td>\n",
       "      <td>474</td>\n",
       "      <td>4</td>\n",
       "      <td>2022Q4</td>\n",
       "      <td>2022</td>\n",
       "    </tr>\n",
       "    <tr>\n",
       "      <th>91924</th>\n",
       "      <td>3.74373</td>\n",
       "      <td>1</td>\n",
       "      <td>No Upfront</td>\n",
       "      <td>AsiaPacific</td>\n",
       "      <td>8</td>\n",
       "      <td>32</td>\n",
       "      <td>Windows</td>\n",
       "      <td>12500.0</td>\n",
       "      <td>2022-10-01</td>\n",
       "      <td>SSD</td>\n",
       "      <td>474</td>\n",
       "      <td>4</td>\n",
       "      <td>2022Q4</td>\n",
       "      <td>2022</td>\n",
       "    </tr>\n",
       "    <tr>\n",
       "      <th>91925</th>\n",
       "      <td>1.80328</td>\n",
       "      <td>3</td>\n",
       "      <td>Partial Upfront</td>\n",
       "      <td>AsiaPacific</td>\n",
       "      <td>8</td>\n",
       "      <td>32</td>\n",
       "      <td>Windows</td>\n",
       "      <td>12500.0</td>\n",
       "      <td>2022-10-01</td>\n",
       "      <td>SSD</td>\n",
       "      <td>474</td>\n",
       "      <td>4</td>\n",
       "      <td>2022Q4</td>\n",
       "      <td>2022</td>\n",
       "    </tr>\n",
       "  </tbody>\n",
       "</table>\n",
       "<p>91926 rows × 14 columns</p>\n",
       "</div>"
      ],
      "text/plain": [
       "       PricePerUnit  LeaseContractLength   PurchaseOption     Location  vCPU  \\\n",
       "0           0.11400                    3       No Upfront  AsiaPacific     2   \n",
       "1           0.05800                    1  Partial Upfront  AsiaPacific     2   \n",
       "2           0.12700                    1       No Upfront  AsiaPacific     2   \n",
       "3           0.04700                    3  Partial Upfront           US     2   \n",
       "4           0.05300                    1  Partial Upfront           US     2   \n",
       "...             ...                  ...              ...          ...   ...   \n",
       "91921       1.90853                    1  Partial Upfront  AsiaPacific     8   \n",
       "91922       3.62564                    3       No Upfront  AsiaPacific     8   \n",
       "91923       3.83952                    1       No Upfront  AsiaPacific     8   \n",
       "91924       3.74373                    1       No Upfront  AsiaPacific     8   \n",
       "91925       1.80328                    3  Partial Upfront  AsiaPacific     8   \n",
       "\n",
       "       Memory operatingSystem  networkPerformance EffectiveDate DiskType  \\\n",
       "0           7           Linux                 0.3    2016-09-30      SSD   \n",
       "1           7           Linux                 0.3    2016-09-30      SSD   \n",
       "2           7           Linux                 0.3    2016-08-31      SSD   \n",
       "3           7           Linux                 0.3    2016-09-30      SSD   \n",
       "4           7           Linux                 0.3    2016-09-30      SSD   \n",
       "...       ...             ...                 ...           ...      ...   \n",
       "91921      32         Windows             12500.0    2022-10-01      SSD   \n",
       "91922      32         Windows             12500.0    2022-10-01      SSD   \n",
       "91923      32         Windows             12500.0    2022-10-01      SSD   \n",
       "91924      32         Windows             12500.0    2022-10-01      SSD   \n",
       "91925      32         Windows             12500.0    2022-10-01      SSD   \n",
       "\n",
       "       StorageSize  Quarter YearQuarter  year  \n",
       "0               32        3      2016Q3  2016  \n",
       "1               32        3      2016Q3  2016  \n",
       "2               32        3      2016Q3  2016  \n",
       "3               32        3      2016Q3  2016  \n",
       "4               32        3      2016Q3  2016  \n",
       "...            ...      ...         ...   ...  \n",
       "91921          474        4      2022Q4  2022  \n",
       "91922          474        4      2022Q4  2022  \n",
       "91923          474        4      2022Q4  2022  \n",
       "91924          474        4      2022Q4  2022  \n",
       "91925          474        4      2022Q4  2022  \n",
       "\n",
       "[91926 rows x 14 columns]"
      ]
     },
     "execution_count": 67,
     "metadata": {},
     "output_type": "execute_result"
    }
   ],
   "source": [
    "data_all.sort_values(by='EffectiveDate')\n",
    "data_all.reset_index(drop=True)"
   ]
  },
  {
   "cell_type": "code",
   "execution_count": 68,
   "metadata": {},
   "outputs": [
    {
     "data": {
      "text/plain": [
       "2022    28032\n",
       "2020    25260\n",
       "2021    15744\n",
       "2019    13376\n",
       "2018     6640\n",
       "2016     2050\n",
       "2017      824\n",
       "Name: year, dtype: int64"
      ]
     },
     "execution_count": 68,
     "metadata": {},
     "output_type": "execute_result"
    }
   ],
   "source": [
    "data_all['year'].value_counts()"
   ]
  },
  {
   "attachments": {},
   "cell_type": "markdown",
   "metadata": {},
   "source": [
    "# Outlier Methods"
   ]
  },
  {
   "attachments": {},
   "cell_type": "markdown",
   "metadata": {},
   "source": [
    "## IsolationForest"
   ]
  },
  {
   "cell_type": "code",
   "execution_count": 69,
   "metadata": {},
   "outputs": [],
   "source": [
    "from sklearn.ensemble import IsolationForest\n",
    "\n",
    "if outlier == 'isolation':\n",
    "\n",
    "    # Select the column(s) you want to detect outliers in\n",
    "    columns_to_check = ['PricePerUnit', 'vCPU', 'Memory']\n",
    "\n",
    "    # Create an Isolation Forest object\n",
    "    # Adjust the contamination parameter as needed\n",
    "    isolation_forest = IsolationForest(contamination=0.1)\n",
    "\n",
    "    # Fit the Isolation Forest model and predict outlier labels\n",
    "    outlier_labels = isolation_forest.fit_predict(data_all[columns_to_check])\n",
    "\n",
    "    # Identify outliers based on the predicted labels\n",
    "    outliers = data_all[outlier_labels == -1]\n",
    "\n",
    "    # Exclude outliers from the dataset\n",
    "    data_all = data_all[outlier_labels != -1]\n",
    "\n",
    "    # Print the outliers\n",
    "    print(\"Outliers:\")\n",
    "    print(outliers)\n",
    "\n",
    "    # Print the cleaned dataset\n",
    "    print(\"Cleaned Data:\")\n",
    "    print(data_all)"
   ]
  },
  {
   "attachments": {},
   "cell_type": "markdown",
   "metadata": {},
   "source": [
    "## LOF"
   ]
  },
  {
   "cell_type": "code",
   "execution_count": 70,
   "metadata": {},
   "outputs": [],
   "source": [
    "from sklearn.neighbors import LocalOutlierFactor\n",
    "\n",
    "\n",
    "if outlier == 'lof':\n",
    "\n",
    "    # Select the column(s) you want to detect outliers in\n",
    "    columns_to_check = ['PricePerUnit']\n",
    "\n",
    "    # Create a LOF object\n",
    "    # Adjust parameters as needed\n",
    "    lof = LocalOutlierFactor(n_neighbors=20, contamination=0.1)\n",
    "\n",
    "    # Fit the LOF model and predict outlier scores\n",
    "    outlier_scores = lof.fit_predict(data_all[columns_to_check])\n",
    "\n",
    "    # Identify outliers based on the predicted scores\n",
    "    outliers = data_all[outlier_scores == -1]\n",
    "\n",
    "    # Exclude outliers from the dataset\n",
    "    data_all = data_all[outlier_scores != -1]\n",
    "\n",
    "    # Print the outliers\n",
    "    print(\"Outliers:\")\n",
    "    print(outliers)\n",
    "\n",
    "    # Print the cleaned dataset\n",
    "    print(\"Cleaned Data:\")\n",
    "    print(data_all)\n",
    "else:\n",
    "    pass"
   ]
  },
  {
   "attachments": {},
   "cell_type": "markdown",
   "metadata": {},
   "source": [
    "## Interquartile Range (IQR)\n",
    "\n"
   ]
  },
  {
   "cell_type": "code",
   "execution_count": 71,
   "metadata": {},
   "outputs": [],
   "source": [
    "\n",
    "if outlier == 'iqr':\n",
    "    # Select the column(s) you want to detect outliers in\n",
    "    columns_to_check = ['PricePerUnit']\n",
    "\n",
    "    # Calculate the IQR for each column\n",
    "    Q1 = data_all[columns_to_check].quantile(0.25)\n",
    "    Q3 = data_all[columns_to_check].quantile(0.75)\n",
    "    IQR = Q3 - Q1\n",
    "\n",
    "    # Define a threshold for identifying outliers\n",
    "    threshold = 2\n",
    "\n",
    "    # Determine the lower and upper bounds for outlier detection\n",
    "    lower_bound = Q1 - threshold * IQR\n",
    "    upper_bound = Q3 + threshold * IQR\n",
    "\n",
    "    # Identify outliers by filtering the dataset\n",
    "    outliers = data_all[~((data_all[columns_to_check] >= lower_bound) & (\n",
    "        data_all[columns_to_check] <= upper_bound)).all(axis=1)]\n",
    "\n",
    "    # Exclude outliers from the dataset\n",
    "    data_all = data_all[((data_all[columns_to_check] >= lower_bound) & (\n",
    "        data_all[columns_to_check] <= upper_bound)).all(axis=1)]\n",
    "\n",
    "    # Print the outliers\n",
    "    print(\"Outliers:\")\n",
    "    print(outliers)\n",
    "\n",
    "    # Print the cleaned dataset\n",
    "    print(\"Cleaned Data:\")\n",
    "    print(data_all)\n",
    "else:\n",
    "    pass"
   ]
  },
  {
   "cell_type": "code",
   "execution_count": null,
   "metadata": {},
   "outputs": [],
   "source": []
  },
  {
   "attachments": {},
   "cell_type": "markdown",
   "metadata": {},
   "source": [
    "## Z-score"
   ]
  },
  {
   "cell_type": "code",
   "execution_count": 72,
   "metadata": {},
   "outputs": [
    {
     "name": "stdout",
     "output_type": "stream",
     "text": [
      "        PricePerUnit  LeaseContractLength   PurchaseOption Location  vCPU  \\\n",
      "52061       10.11800                    1       No Upfront       US    48   \n",
      "52104       22.35800                    1       No Upfront       US    48   \n",
      "52113       11.13200                    1  Partial Upfront       US    48   \n",
      "52143       21.73700                    3       No Upfront       US    48   \n",
      "52144       10.81800                    3  Partial Upfront       US    48   \n",
      "...              ...                  ...              ...      ...   ...   \n",
      "553696      14.84271                    3       No Upfront   Europe    32   \n",
      "553774       9.99768                    1       No Upfront       US    96   \n",
      "553997      14.45903                    3       No Upfront   Europe    32   \n",
      "553998      15.33933                    1       No Upfront   Europe    32   \n",
      "553999      14.91142                    1       No Upfront   Europe    32   \n",
      "\n",
      "        Memory operatingSystem  networkPerformance EffectiveDate  DiskType  \\\n",
      "52061      192         Windows                10.0    2018-05-31  NVMe SSD   \n",
      "52104      192         Windows                10.0    2018-05-31  NVMe SSD   \n",
      "52113      192         Windows                10.0    2018-05-31  NVMe SSD   \n",
      "52143      192         Windows                10.0    2018-05-31  NVMe SSD   \n",
      "52144      192         Windows                10.0    2018-05-31  NVMe SSD   \n",
      "...        ...             ...                 ...           ...       ...   \n",
      "553696     128         Windows             12500.0    2022-10-01       SSD   \n",
      "553774     384         Windows            150000.0    2022-12-01       SSD   \n",
      "553997     128         Windows             12500.0    2022-10-01       SSD   \n",
      "553998     128         Windows             12500.0    2022-10-01       SSD   \n",
      "553999     128         Windows             12500.0    2022-10-01       SSD   \n",
      "\n",
      "        StorageSize  Quarter YearQuarter  year  \n",
      "52061          1800        2      2018Q2  2018  \n",
      "52104          1800        2      2018Q2  2018  \n",
      "52113          1800        2      2018Q2  2018  \n",
      "52143          1800        2      2018Q2  2018  \n",
      "52144          1800        2      2018Q2  2018  \n",
      "...             ...      ...         ...   ...  \n",
      "553696         1900        4      2022Q4  2022  \n",
      "553774         5700        4      2022Q4  2022  \n",
      "553997         1900        4      2022Q4  2022  \n",
      "553998         1900        4      2022Q4  2022  \n",
      "553999         1900        4      2022Q4  2022  \n",
      "\n",
      "[10687 rows x 14 columns]\n"
     ]
    }
   ],
   "source": [
    "if outlier == 'zscore':\n",
    "\n",
    "    # Select the column(s) you want to detect outliers in\n",
    "    columns_to_check = ['PricePerUnit']\n",
    "\n",
    "    # Compute the Z-scores for each data point\n",
    "    z_scores = np.abs(stats.zscore(data_all[columns_to_check]))\n",
    "\n",
    "    # Define a threshold for identifying outliers\n",
    "    threshold = 0.75\n",
    "\n",
    "    # Find the indices of outliers\n",
    "    outlier_indices = np.where(z_scores > threshold)\n",
    "\n",
    "    # Get the rows containing outliers\n",
    "    outliers = data_all.iloc[outlier_indices[0]]\n",
    "\n",
    "    # Exclude outliers from the dataset\n",
    "    data_all = data_all.drop(data_all.index[outlier_indices[0]])\n",
    "\n",
    "    # Print the outliers\n",
    "    print(outliers)\n",
    "\n",
    "    mlflow.log_param(\"z-threshold\", threshold)\n",
    "\n",
    "else:\n",
    "    pass"
   ]
  },
  {
   "attachments": {},
   "cell_type": "markdown",
   "metadata": {},
   "source": [
    "##  Create a quarterly seasonality column\n"
   ]
  },
  {
   "cell_type": "code",
   "execution_count": 73,
   "metadata": {},
   "outputs": [],
   "source": [
    "# # Convert EffectiveDate column to datetime format\n",
    "# data_all['EffectiveDate'] = pd.to_datetime(data_all['EffectiveDate'])\n",
    "\n",
    "# # Extract the quarter component from the EffectiveDate column\n",
    "# data_all['Quarter'] = data_all['EffectiveDate'].dt.quarter\n",
    "\n",
    "\n",
    "# # Combine year and quarter into a single column\n",
    "# data_all['YearQuarter'] = data_all['year'].astype(\n",
    "#     str) + '-Q' + data_all['Quarter'].astype(str)"
   ]
  },
  {
   "cell_type": "code",
   "execution_count": 74,
   "metadata": {},
   "outputs": [],
   "source": [
    "# data_all\n",
    "\n",
    "# data_all = data_all.drop(['Seasonality'], axis=1)"
   ]
  },
  {
   "cell_type": "code",
   "execution_count": null,
   "metadata": {},
   "outputs": [],
   "source": []
  },
  {
   "attachments": {},
   "cell_type": "markdown",
   "metadata": {},
   "source": [
    "# Prepare the Data"
   ]
  },
  {
   "cell_type": "code",
   "execution_count": 75,
   "metadata": {},
   "outputs": [],
   "source": [
    "# %%  =========== Prepare the Data for regression============\n",
    "\n",
    "# Map binary categorical columns to numerical\n",
    "\n",
    "categorical_binary = ['PurchaseOption']\n",
    "data_all[categorical_binary] = data_all[categorical_binary].apply(\n",
    "    mf.binary_map)\n",
    "\n",
    "# Write the categorical values as a list\n",
    "# categorical = ['operatingSystem', 'DiskType', 'Location', 'instanceFamily']\n",
    "categorical = ['operatingSystem', 'DiskType']\n",
    "categorical2numeric = pd.get_dummies(data_all[categorical], drop_first=False)\n",
    "\n",
    "categorical2numeric_pred = pd.get_dummies(\n",
    "    data_all[categorical], drop_first=False)\n",
    "\n",
    "# Add the above results to the original dataframe df\n",
    "data_all = pd.concat([data_all, categorical2numeric], axis=1)\n",
    "data_all.drop(columns=categorical, axis=1, inplace=True)"
   ]
  },
  {
   "attachments": {},
   "cell_type": "markdown",
   "metadata": {},
   "source": [
    "# Years"
   ]
  },
  {
   "cell_type": "code",
   "execution_count": 76,
   "metadata": {
    "tags": []
   },
   "outputs": [
    {
     "data": {
      "text/plain": [
       "array([2016, 2017, 2018, 2019, 2020, 2021, 2022])"
      ]
     },
     "execution_count": 76,
     "metadata": {},
     "output_type": "execute_result"
    }
   ],
   "source": [
    "data_all.year.unique()"
   ]
  },
  {
   "cell_type": "code",
   "execution_count": 77,
   "metadata": {},
   "outputs": [
    {
     "data": {
      "text/plain": [
       "array([2022])"
      ]
     },
     "execution_count": 77,
     "metadata": {},
     "output_type": "execute_result"
    }
   ],
   "source": [
    "data_pred = data_all[data_all['year'] > 2021]\n",
    "data_pred = data_pred.sort_values(by='EffectiveDate')\n",
    "data_pred = data_pred.reset_index(drop=True)\n",
    "data_pred.year.unique()"
   ]
  },
  {
   "cell_type": "code",
   "execution_count": 78,
   "metadata": {},
   "outputs": [
    {
     "data": {
      "text/plain": [
       "array([2022])"
      ]
     },
     "execution_count": 78,
     "metadata": {},
     "output_type": "execute_result"
    }
   ],
   "source": [
    "data = data_all[(data_all['year'] > 2021)]\n",
    "data = data.sort_values(by='EffectiveDate')\n",
    "data = data.reset_index(drop=True)\n",
    "data.year.unique()\n",
    "\n",
    "\n",
    "mlflow.log_param(\"Years used to predict\", data.year.unique())"
   ]
  },
  {
   "attachments": {},
   "cell_type": "markdown",
   "metadata": {},
   "source": [
    "## Assign target value"
   ]
  },
  {
   "cell_type": "code",
   "execution_count": 79,
   "metadata": {
    "tags": []
   },
   "outputs": [],
   "source": [
    "X = data.drop(['PricePerUnit', 'EffectiveDate',\n",
    "              'YearQuarter', 'Location'], axis=1)\n",
    "y = data.PricePerUnit"
   ]
  },
  {
   "attachments": {},
   "cell_type": "markdown",
   "metadata": {},
   "source": [
    "# CatBoost Model Training"
   ]
  },
  {
   "cell_type": "code",
   "execution_count": 80,
   "metadata": {
    "tags": []
   },
   "outputs": [],
   "source": [
    "# CatBoost Model Training\n",
    "X_train, X_valid, y_train, y_valid = train_test_split(\n",
    "    X, y, test_size=0.25, random_state=42)"
   ]
  },
  {
   "cell_type": "code",
   "execution_count": 81,
   "metadata": {
    "tags": []
   },
   "outputs": [
    {
     "data": {
      "application/vnd.jupyter.widget-view+json": {
       "model_id": "033502361874423d9529d81bd9fe3f6a",
       "version_major": 2,
       "version_minor": 0
      },
      "text/plain": [
       "MetricVisualizer(layout=Layout(align_self='stretch', height='500px'))"
      ]
     },
     "metadata": {},
     "output_type": "display_data"
    },
    {
     "name": "stdout",
     "output_type": "stream",
     "text": [
      "0:\tlearn: 2.0921973\ttest: 2.0816921\tbest: 2.0816921 (0)\ttotal: 936us\tremaining: 45.9ms\n",
      "1:\tlearn: 2.0131240\ttest: 2.0017683\tbest: 2.0017683 (1)\ttotal: 1.83ms\tremaining: 43.9ms\n",
      "2:\tlearn: 1.9363709\ttest: 1.9227918\tbest: 1.9227918 (2)\ttotal: 2.87ms\tremaining: 45ms\n",
      "3:\tlearn: 1.8731942\ttest: 1.8595081\tbest: 1.8595081 (3)\ttotal: 3.42ms\tremaining: 39.4ms\n",
      "4:\tlearn: 1.8166320\ttest: 1.8008717\tbest: 1.8008717 (4)\ttotal: 3.94ms\tremaining: 35.4ms\n",
      "5:\tlearn: 1.7662619\ttest: 1.7493485\tbest: 1.7493485 (5)\ttotal: 4.43ms\tremaining: 32.5ms\n",
      "6:\tlearn: 1.7245461\ttest: 1.7064826\tbest: 1.7064826 (6)\ttotal: 5.1ms\tremaining: 31.4ms\n",
      "7:\tlearn: 1.6895235\ttest: 1.6695690\tbest: 1.6695690 (7)\ttotal: 5.67ms\tremaining: 29.7ms\n",
      "8:\tlearn: 1.6584599\ttest: 1.6377109\tbest: 1.6377109 (8)\ttotal: 6.14ms\tremaining: 28ms\n",
      "9:\tlearn: 1.6313246\ttest: 1.6097682\tbest: 1.6097682 (9)\ttotal: 6.66ms\tremaining: 26.6ms\n",
      "10:\tlearn: 1.6073445\ttest: 1.5851107\tbest: 1.5851107 (10)\ttotal: 7.2ms\tremaining: 25.5ms\n",
      "11:\tlearn: 1.5861376\ttest: 1.5631704\tbest: 1.5631704 (11)\ttotal: 7.85ms\tremaining: 24.9ms\n",
      "12:\tlearn: 1.5675804\ttest: 1.5430961\tbest: 1.5430961 (12)\ttotal: 8.42ms\tremaining: 24ms\n",
      "13:\tlearn: 1.5510434\ttest: 1.5259276\tbest: 1.5259276 (13)\ttotal: 8.93ms\tremaining: 23ms\n",
      "14:\tlearn: 1.5362507\ttest: 1.5108768\tbest: 1.5108768 (14)\ttotal: 9.48ms\tremaining: 22.1ms\n",
      "15:\tlearn: 1.5255528\ttest: 1.4997190\tbest: 1.4997190 (15)\ttotal: 10ms\tremaining: 21.3ms\n",
      "16:\tlearn: 1.5152400\ttest: 1.4890100\tbest: 1.4890100 (16)\ttotal: 10.6ms\tremaining: 20.5ms\n",
      "17:\tlearn: 1.5057255\ttest: 1.4789690\tbest: 1.4789690 (17)\ttotal: 11.2ms\tremaining: 19.8ms\n",
      "18:\tlearn: 1.4968987\ttest: 1.4693438\tbest: 1.4693438 (18)\ttotal: 11.7ms\tremaining: 19.1ms\n",
      "19:\tlearn: 1.4892688\ttest: 1.4616630\tbest: 1.4616630 (19)\ttotal: 12.4ms\tremaining: 18.6ms\n",
      "20:\tlearn: 1.4820259\ttest: 1.4532647\tbest: 1.4532647 (20)\ttotal: 12.9ms\tremaining: 17.8ms\n",
      "21:\tlearn: 1.4757385\ttest: 1.4462182\tbest: 1.4462182 (21)\ttotal: 13.6ms\tremaining: 17.3ms\n",
      "22:\tlearn: 1.4700334\ttest: 1.4395246\tbest: 1.4395246 (22)\ttotal: 14.1ms\tremaining: 16.5ms\n",
      "23:\tlearn: 1.4654727\ttest: 1.4344312\tbest: 1.4344312 (23)\ttotal: 14.7ms\tremaining: 16ms\n",
      "24:\tlearn: 1.4599946\ttest: 1.4282082\tbest: 1.4282082 (24)\ttotal: 15.4ms\tremaining: 15.4ms\n",
      "25:\tlearn: 1.4565814\ttest: 1.4240794\tbest: 1.4240794 (25)\ttotal: 15.9ms\tremaining: 14.7ms\n",
      "26:\tlearn: 1.4531957\ttest: 1.4199148\tbest: 1.4199148 (26)\ttotal: 16.4ms\tremaining: 14ms\n",
      "27:\tlearn: 1.4498010\ttest: 1.4163687\tbest: 1.4163687 (27)\ttotal: 16.9ms\tremaining: 13.3ms\n",
      "28:\tlearn: 1.4471708\ttest: 1.4133452\tbest: 1.4133452 (28)\ttotal: 17.4ms\tremaining: 12.6ms\n",
      "29:\tlearn: 1.4433965\ttest: 1.4085765\tbest: 1.4085765 (29)\ttotal: 18.3ms\tremaining: 12.2ms\n",
      "30:\tlearn: 1.4404160\ttest: 1.4051940\tbest: 1.4051940 (30)\ttotal: 18.8ms\tremaining: 11.5ms\n",
      "31:\tlearn: 1.4374289\ttest: 1.4017350\tbest: 1.4017350 (31)\ttotal: 19.2ms\tremaining: 10.8ms\n",
      "32:\tlearn: 1.4355048\ttest: 1.3995835\tbest: 1.3995835 (32)\ttotal: 19.7ms\tremaining: 10.2ms\n",
      "33:\tlearn: 1.4327572\ttest: 1.3966010\tbest: 1.3966010 (33)\ttotal: 20.2ms\tremaining: 9.51ms\n",
      "34:\tlearn: 1.4305461\ttest: 1.3941185\tbest: 1.3941185 (34)\ttotal: 20.7ms\tremaining: 8.86ms\n",
      "35:\tlearn: 1.4283389\ttest: 1.3914875\tbest: 1.3914875 (35)\ttotal: 21.1ms\tremaining: 8.22ms\n",
      "36:\tlearn: 1.4266777\ttest: 1.3897426\tbest: 1.3897426 (36)\ttotal: 21.6ms\tremaining: 7.58ms\n",
      "37:\tlearn: 1.4248611\ttest: 1.3876247\tbest: 1.3876247 (37)\ttotal: 22ms\tremaining: 6.95ms\n",
      "38:\tlearn: 1.4230891\ttest: 1.3856930\tbest: 1.3856930 (38)\ttotal: 22.4ms\tremaining: 6.32ms\n",
      "39:\tlearn: 1.4218866\ttest: 1.3841603\tbest: 1.3841603 (39)\ttotal: 22.8ms\tremaining: 5.71ms\n",
      "40:\tlearn: 1.4204839\ttest: 1.3825707\tbest: 1.3825707 (40)\ttotal: 23.3ms\tremaining: 5.11ms\n",
      "41:\tlearn: 1.4197208\ttest: 1.3815761\tbest: 1.3815761 (41)\ttotal: 23.7ms\tremaining: 4.51ms\n",
      "42:\tlearn: 1.4187852\ttest: 1.3806336\tbest: 1.3806336 (42)\ttotal: 24.1ms\tremaining: 3.92ms\n",
      "43:\tlearn: 1.4179211\ttest: 1.3795040\tbest: 1.3795040 (43)\ttotal: 24.5ms\tremaining: 3.35ms\n",
      "44:\tlearn: 1.4164187\ttest: 1.3776930\tbest: 1.3776930 (44)\ttotal: 25ms\tremaining: 2.77ms\n",
      "45:\tlearn: 1.4157366\ttest: 1.3769038\tbest: 1.3769038 (45)\ttotal: 25.5ms\tremaining: 2.22ms\n",
      "46:\tlearn: 1.4148254\ttest: 1.3759388\tbest: 1.3759388 (46)\ttotal: 25.9ms\tremaining: 1.65ms\n",
      "47:\tlearn: 1.4134310\ttest: 1.3742684\tbest: 1.3742684 (47)\ttotal: 26.4ms\tremaining: 1.1ms\n",
      "48:\tlearn: 1.4125576\ttest: 1.3732765\tbest: 1.3732765 (48)\ttotal: 26.8ms\tremaining: 546us\n",
      "49:\tlearn: 1.4121800\ttest: 1.3728650\tbest: 1.3728650 (49)\ttotal: 27.2ms\tremaining: 0us\n",
      "\n",
      "bestTest = 1.372865041\n",
      "bestIteration = 49\n",
      "\n"
     ]
    },
    {
     "data": {
      "text/plain": [
       "<catboost.core.CatBoostRegressor at 0x7fed2d7eb7c0>"
      ]
     },
     "execution_count": 81,
     "metadata": {},
     "output_type": "execute_result"
    }
   ],
   "source": [
    "model = CatBoostRegressor(iterations=50, depth=3,\n",
    "                          learning_rate=0.1, loss_function='RMSE')\n",
    "\n",
    "# cat_features=categorical_features_indices\n",
    "model.fit(X_train, y_train,\n",
    "          eval_set=(X_valid, y_valid), plot=True)"
   ]
  },
  {
   "attachments": {},
   "cell_type": "markdown",
   "metadata": {},
   "source": [
    "# Catboost Model"
   ]
  },
  {
   "attachments": {},
   "cell_type": "markdown",
   "metadata": {},
   "source": [
    "### Catboost Regressor parameters"
   ]
  },
  {
   "cell_type": "code",
   "execution_count": 82,
   "metadata": {},
   "outputs": [],
   "source": [
    "start = time.time()\n",
    "\n",
    "model = CatBoostRegressor(iterations=15000,\n",
    "                          loss_function='RMSE',\n",
    "                          # 0.001 - 0.1 A lower learning rate results in slower but more precise convergence\n",
    "                          learning_rate=0.001,\n",
    "                          # 4 - 10  Higher values allow the model to capture more complex interactions but can increase the risk of overfitting.\n",
    "                          depth=16,\n",
    "                          custom_metric=['MAPE', 'RMSE', 'MAE', 'R2'],\n",
    "                          random_seed=42,\n",
    "                          bagging_temperature=0.2,  # 0 - 1\n",
    "                          # Can be 'Iter' or 'IncToDec'. 'Iter' stops training when the evaluation metric stops improving, and 'IncToDec' stops when the evaluation metric starts to worsen.\n",
    "                          od_type='Iter',\n",
    "                          metric_period=75,  # how frequently the evaluation metric is calculated during training\n",
    "                          task_type='GPU',  # Enable GPU training\n",
    "                          # number of iterations to wait for the evaluation metric to improve before stopping training.\n",
    "                          od_wait=100,\n",
    "                          #   cat_features=['PurchaseOption', 'Location',\n",
    "                          #                 'operatingSystem', 'DiskType']\n",
    "                          )\n",
    "\n",
    "# Log specific parameters of the CatBoost model\n",
    "params_to_track = ['iterations', 'learning_rate', 'depth', 'loss_function', 'bagging_temperature',\n",
    "                   'random_seed', 'metric_period', 'od_wait', 'task_type']\n",
    "for param in params_to_track:\n",
    "    param_value = model.get_params().get(param)\n",
    "    mlflow.log_param(param, str(param_value))"
   ]
  },
  {
   "cell_type": "code",
   "execution_count": 83,
   "metadata": {},
   "outputs": [],
   "source": [
    "# mlflow.end_run()"
   ]
  },
  {
   "cell_type": "code",
   "execution_count": 84,
   "metadata": {
    "tags": []
   },
   "outputs": [
    {
     "data": {
      "application/vnd.jupyter.widget-view+json": {
       "model_id": "811265ecde4b4ecdbaabe1ec813a99a0",
       "version_major": 2,
       "version_minor": 0
      },
      "text/plain": [
       "MetricVisualizer(layout=Layout(align_self='stretch', height='500px'))"
      ]
     },
     "metadata": {},
     "output_type": "display_data"
    },
    {
     "name": "stderr",
     "output_type": "stream",
     "text": [
      "Metric R2 is not implemented on GPU. Will use CPU for metric computation, this could significantly affect learning time\n"
     ]
    },
    {
     "name": "stdout",
     "output_type": "stream",
     "text": [
      "0:\tlearn: 2.1885542\ttest: 2.1801873\tbest: 2.1801873 (0)\ttotal: 24.8ms\tremaining: 6m 12s\n",
      "75:\tlearn: 2.0981014\ttest: 2.0887536\tbest: 2.0887536 (75)\ttotal: 27.1s\tremaining: 1h 28m 46s\n",
      "150:\tlearn: 2.0168095\ttest: 2.0064330\tbest: 2.0064330 (150)\ttotal: 44.6s\tremaining: 1h 13m 7s\n",
      "225:\tlearn: 1.9435799\ttest: 1.9321705\tbest: 1.9321705 (225)\ttotal: 1m 1s\tremaining: 1h 6m 55s\n"
     ]
    },
    {
     "ename": "KeyboardInterrupt",
     "evalue": "",
     "output_type": "error",
     "traceback": [
      "\u001b[0;31m---------------------------------------------------------------------------\u001b[0m",
      "\u001b[0;31mKeyboardInterrupt\u001b[0m                         Traceback (most recent call last)",
      "Cell \u001b[0;32mIn[84], line 1\u001b[0m\n\u001b[0;32m----> 1\u001b[0m model\u001b[39m.\u001b[39;49mfit(X_train, y_train,\n\u001b[1;32m      2\u001b[0m           eval_set\u001b[39m=\u001b[39;49m(X_valid, y_valid),\n\u001b[1;32m      3\u001b[0m           use_best_model\u001b[39m=\u001b[39;49m\u001b[39mTrue\u001b[39;49;00m, plot\u001b[39m=\u001b[39;49m\u001b[39mTrue\u001b[39;49;00m)\n",
      "File \u001b[0;32m~/Phd_projects/PriceIndex/price39_env/lib/python3.9/site-packages/catboost/core.py:5734\u001b[0m, in \u001b[0;36mCatBoostRegressor.fit\u001b[0;34m(self, X, y, cat_features, text_features, embedding_features, sample_weight, baseline, use_best_model, eval_set, verbose, logging_level, plot, plot_file, column_description, verbose_eval, metric_period, silent, early_stopping_rounds, save_snapshot, snapshot_file, snapshot_interval, init_model, callbacks, log_cout, log_cerr)\u001b[0m\n\u001b[1;32m   5731\u001b[0m \u001b[39mif\u001b[39;00m \u001b[39m'\u001b[39m\u001b[39mloss_function\u001b[39m\u001b[39m'\u001b[39m \u001b[39min\u001b[39;00m params:\n\u001b[1;32m   5732\u001b[0m     CatBoostRegressor\u001b[39m.\u001b[39m_check_is_compatible_loss(params[\u001b[39m'\u001b[39m\u001b[39mloss_function\u001b[39m\u001b[39m'\u001b[39m])\n\u001b[0;32m-> 5734\u001b[0m \u001b[39mreturn\u001b[39;00m \u001b[39mself\u001b[39;49m\u001b[39m.\u001b[39;49m_fit(X, y, cat_features, text_features, embedding_features, \u001b[39mNone\u001b[39;49;00m, sample_weight, \u001b[39mNone\u001b[39;49;00m, \u001b[39mNone\u001b[39;49;00m, \u001b[39mNone\u001b[39;49;00m, \u001b[39mNone\u001b[39;49;00m, baseline,\n\u001b[1;32m   5735\u001b[0m                  use_best_model, eval_set, verbose, logging_level, plot, plot_file, column_description,\n\u001b[1;32m   5736\u001b[0m                  verbose_eval, metric_period, silent, early_stopping_rounds,\n\u001b[1;32m   5737\u001b[0m                  save_snapshot, snapshot_file, snapshot_interval, init_model, callbacks, log_cout, log_cerr)\n",
      "File \u001b[0;32m~/Phd_projects/PriceIndex/price39_env/lib/python3.9/site-packages/catboost/core.py:2357\u001b[0m, in \u001b[0;36mCatBoost._fit\u001b[0;34m(self, X, y, cat_features, text_features, embedding_features, pairs, sample_weight, group_id, group_weight, subgroup_id, pairs_weight, baseline, use_best_model, eval_set, verbose, logging_level, plot, plot_file, column_description, verbose_eval, metric_period, silent, early_stopping_rounds, save_snapshot, snapshot_file, snapshot_interval, init_model, callbacks, log_cout, log_cerr)\u001b[0m\n\u001b[1;32m   2353\u001b[0m allow_clear_pool \u001b[39m=\u001b[39m train_params[\u001b[39m\"\u001b[39m\u001b[39mallow_clear_pool\u001b[39m\u001b[39m\"\u001b[39m]\n\u001b[1;32m   2355\u001b[0m \u001b[39mwith\u001b[39;00m log_fixup(log_cout, log_cerr), \\\n\u001b[1;32m   2356\u001b[0m     plot_wrapper(plot, plot_file, \u001b[39m'\u001b[39m\u001b[39mTraining plots\u001b[39m\u001b[39m'\u001b[39m, [_get_train_dir(\u001b[39mself\u001b[39m\u001b[39m.\u001b[39mget_params())]):\n\u001b[0;32m-> 2357\u001b[0m     \u001b[39mself\u001b[39;49m\u001b[39m.\u001b[39;49m_train(\n\u001b[1;32m   2358\u001b[0m         train_pool,\n\u001b[1;32m   2359\u001b[0m         train_params[\u001b[39m\"\u001b[39;49m\u001b[39meval_sets\u001b[39;49m\u001b[39m\"\u001b[39;49m],\n\u001b[1;32m   2360\u001b[0m         params,\n\u001b[1;32m   2361\u001b[0m         allow_clear_pool,\n\u001b[1;32m   2362\u001b[0m         train_params[\u001b[39m\"\u001b[39;49m\u001b[39minit_model\u001b[39;49m\u001b[39m\"\u001b[39;49m]\n\u001b[1;32m   2363\u001b[0m     )\n\u001b[1;32m   2365\u001b[0m \u001b[39m# Have property feature_importance possibly set\u001b[39;00m\n\u001b[1;32m   2366\u001b[0m loss \u001b[39m=\u001b[39m \u001b[39mself\u001b[39m\u001b[39m.\u001b[39m_object\u001b[39m.\u001b[39m_get_loss_function_name()\n",
      "File \u001b[0;32m~/Phd_projects/PriceIndex/price39_env/lib/python3.9/site-packages/catboost/core.py:1761\u001b[0m, in \u001b[0;36m_CatBoostBase._train\u001b[0;34m(self, train_pool, test_pool, params, allow_clear_pool, init_model)\u001b[0m\n\u001b[1;32m   1760\u001b[0m \u001b[39mdef\u001b[39;00m \u001b[39m_train\u001b[39m(\u001b[39mself\u001b[39m, train_pool, test_pool, params, allow_clear_pool, init_model):\n\u001b[0;32m-> 1761\u001b[0m     \u001b[39mself\u001b[39;49m\u001b[39m.\u001b[39;49m_object\u001b[39m.\u001b[39;49m_train(train_pool, test_pool, params, allow_clear_pool, init_model\u001b[39m.\u001b[39;49m_object \u001b[39mif\u001b[39;49;00m init_model \u001b[39melse\u001b[39;49;00m \u001b[39mNone\u001b[39;49;00m)\n\u001b[1;32m   1762\u001b[0m     \u001b[39mself\u001b[39m\u001b[39m.\u001b[39m_set_trained_model_attributes()\n",
      "File \u001b[0;32m_catboost.pyx:4624\u001b[0m, in \u001b[0;36m_catboost._CatBoost._train\u001b[0;34m()\u001b[0m\n",
      "File \u001b[0;32m_catboost.pyx:4673\u001b[0m, in \u001b[0;36m_catboost._CatBoost._train\u001b[0;34m()\u001b[0m\n",
      "\u001b[0;31mKeyboardInterrupt\u001b[0m: "
     ]
    }
   ],
   "source": [
    "model.fit(X_train, y_train,\n",
    "          eval_set=(X_valid, y_valid),\n",
    "          use_best_model=True, plot=True)"
   ]
  },
  {
   "cell_type": "code",
   "execution_count": null,
   "metadata": {},
   "outputs": [
    {
     "name": "stderr",
     "output_type": "stream",
     "text": [
      "2023/07/03 05:58:00 WARNING mlflow.utils.requirements_utils: Found lz4 version (3.1.3+dfsg) contains a local version label (+dfsg). MLflow logged a pip requirement for this package as 'lz4==3.1.3' without the local version label to make it installable from PyPI. To specify pip requirements containing local version labels, please use `conda_env` or `pip_requirements`.\n"
     ]
    }
   ],
   "source": [
    "mlflow.catboost.log_model(model, \"catboost_model\")\n",
    "\n",
    "best_iteration = model.get_best_iteration()\n",
    "\n",
    "mlflow.log_metric('best_iteration', best_iteration)"
   ]
  },
  {
   "attachments": {},
   "cell_type": "markdown",
   "metadata": {},
   "source": [
    "## Plot the Feature Importance"
   ]
  },
  {
   "cell_type": "code",
   "execution_count": null,
   "metadata": {},
   "outputs": [],
   "source": [
    "\n",
    "fea_imp = pd.DataFrame({'imp': model.feature_importances_, 'col': X.columns})\n",
    "fea_imp = fea_imp.sort_values(['imp', 'col'], ascending=[\n",
    "                              True, False]).iloc[-30:]\n",
    "\n",
    "fig = go.Figure(data=[go.Bar(\n",
    "    x=fea_imp['imp'],\n",
    "    y=fea_imp['col'],\n",
    "    orientation='h',\n",
    "    marker=dict(color=fea_imp['imp'], colorbar=dict(title='Importance'))\n",
    "\n",
    ")])\n",
    "\n",
    "fig.update_layout(\n",
    "    title='CatBoost - Feature Importance - All',\n",
    "    yaxis=dict(title='Features'),\n",
    "    xaxis=dict(title='Importance'),\n",
    "    height=600,\n",
    "    width=800\n",
    ")\n",
    "\n",
    "# fig.show()\n",
    "\n",
    "\n",
    "# Save the Plotly figure as an HTML file\n",
    "html_path = \"temp/feature_importance_all.html\"\n",
    "pio.write_html(fig, html_path)\n",
    "\n",
    "# Log the HTML file as an artifact in MLflow\n",
    "mlflow.log_artifact(html_path)"
   ]
  },
  {
   "attachments": {},
   "cell_type": "markdown",
   "metadata": {},
   "source": [
    "### Log feature importance - mlflow"
   ]
  },
  {
   "cell_type": "code",
   "execution_count": null,
   "metadata": {},
   "outputs": [],
   "source": [
    "# Get the feature importance values and feature names from your CatBoost model\n",
    "feature_importance = model.get_feature_importance()\n",
    "feature_names = X.columns\n",
    "\n",
    "# Create a DataFrame to store the feature importance values and feature names\n",
    "feature_importance_df = pd.DataFrame(\n",
    "    {'Feature': feature_names, 'Importance': feature_importance})\n",
    "\n",
    "# Create a temporary file to save the feature importance DataFrame\n",
    "with tempfile.NamedTemporaryFile(mode='w', delete=False, suffix='.csv') as temp_file:\n",
    "    # Save the feature importance DataFrame as a CSV file\n",
    "    feature_importance_df.to_csv(temp_file, index=False)\n",
    "\n",
    "# Log the feature importance CSV file as an artifact in MLflow\n",
    "mlflow.log_artifact(temp_file.name, \"feature_importance.csv\")"
   ]
  },
  {
   "cell_type": "code",
   "execution_count": null,
   "metadata": {},
   "outputs": [],
   "source": [
    "# import pandas as pd\n",
    "# import tempfile\n",
    "\n",
    "# # Define the years sets\n",
    "# years_sets = [\n",
    "#     [2020, 2021],\n",
    "#     [2019, 2020, 2021],\n",
    "#     [2018, 2019, 2020, 2021],\n",
    "#     [2021]\n",
    "# ]\n",
    "\n",
    "# # Create a DataFrame to store the feature importance values and feature names\n",
    "# feature_importance_df = pd.DataFrame({'Feature': feature_names, 'Importance': feature_importance})\n",
    "\n",
    "# # Insert the year sets as the first column in the DataFrame\n",
    "# feature_importance_df.insert(0, 'Year Sets', years_sets)\n",
    "\n",
    "# # Create a temporary file to save the feature importance DataFrame\n",
    "# with tempfile.NamedTemporaryFile(mode='w', delete=False, suffix='.csv') as temp_file:\n",
    "#     # Save the feature importance DataFrame as a CSV file\n",
    "#     feature_importance_df.to_csv(temp_file, index=False)\n",
    "\n",
    "# # Log the feature importance CSV file as an artifact in MLflow\n",
    "# mlflow.log_artifact(temp_file.name, \"feature_importance.csv\")"
   ]
  },
  {
   "attachments": {},
   "cell_type": "markdown",
   "metadata": {},
   "source": [
    "### Evalute Model"
   ]
  },
  {
   "cell_type": "code",
   "execution_count": null,
   "metadata": {},
   "outputs": [
    {
     "name": "stdout",
     "output_type": "stream",
     "text": [
      "Model evaluation:\n",
      "{'iterations': 15000, 'learning_rate': 0.001, 'depth': 16, 'loss_function': 'RMSE', 'od_wait': 100, 'od_type': 'Iter', 'random_seed': 42, 'metric_period': 75, 'custom_metric': ['MAPE', 'RMSE', 'MAE', 'R2'], 'bagging_temperature': 0.2, 'task_type': 'GPU'}\n",
      "RMSE: 1.320158463386118\n"
     ]
    }
   ],
   "source": [
    "# model evaluation\n",
    "from sklearn.metrics import mean_squared_error\n",
    "print('Model evaluation:')\n",
    "print(model.get_params())\n",
    "print('RMSE:', np.sqrt(mean_squared_error(y_valid, model.predict(X_valid))))"
   ]
  },
  {
   "cell_type": "code",
   "execution_count": null,
   "metadata": {},
   "outputs": [
    {
     "name": "stdout",
     "output_type": "stream",
     "text": [
      "{'learn': {'MAE': 0.8206012414383561, 'MAPE': 0.38625010702054796, 'R2': 0.62003720265815, 'RMSE': 1.3498255055924617}, 'validation': {'MAE': 0.8050593289006, 'MAPE': 0.380654439731776, 'R2': 0.6337478468025204, 'RMSE': 1.3201588086586005}}\n"
     ]
    }
   ],
   "source": [
    "print(model.get_best_score())\n",
    "\n",
    "# Flatten and log the best scores as parameters in MLflow\n",
    "best_scores = model.get_best_score()\n",
    "for stage, metrics in best_scores.items():\n",
    "    for metric, value in metrics.items():\n",
    "        mlflow.log_metric(f'{stage}_{metric}', value)"
   ]
  },
  {
   "cell_type": "code",
   "execution_count": null,
   "metadata": {},
   "outputs": [],
   "source": [
    "# End the MLflow run\n",
    "# mlflow.end_run()"
   ]
  },
  {
   "attachments": {},
   "cell_type": "markdown",
   "metadata": {},
   "source": [
    "### Finish without shap"
   ]
  },
  {
   "attachments": {},
   "cell_type": "markdown",
   "metadata": {},
   "source": [
    "## SHAP"
   ]
  },
  {
   "cell_type": "code",
   "execution_count": null,
   "metadata": {},
   "outputs": [],
   "source": [
    "# import shap\n",
    "\n",
    "# pool = cb.Pool(X_valid, y_valid)\n",
    "\n",
    "\n",
    "# # Compute SHAP values\n",
    "# shap_values = model.get_feature_importance(pool, type='ShapValues')\n",
    "\n",
    "# # Convert SHAP values to a DataFrame\n",
    "# shap_df = pd.DataFrame(shap_values[:, :-1], columns=X_valid.columns)\n",
    "\n",
    "# # Log the SHAP values as an artifact in MLflow\n",
    "# shap_df.to_csv(\"shap_values.csv\", index=False)\n",
    "# mlflow.log_artifact(\"shap_values.csv\")"
   ]
  },
  {
   "cell_type": "code",
   "execution_count": null,
   "metadata": {},
   "outputs": [],
   "source": [
    "# # Exclude the constant offset column from shap_values\n",
    "# shap_values = shap_values[:, :-1]\n",
    "\n",
    "# # Create a SHAP summary plot\n",
    "# shap.summary_plot(shap_values, X_valid)\n",
    "\n",
    "# # Save the plot as an artifact in MLflow\n",
    "# shap_plot_path = 'shap_summary_plot.png'\n",
    "# shap.summary_plot(shap_values, X_valid, show=False)\n",
    "# plt.savefig(shap_plot_path)\n",
    "# mlflow.log_artifact(shap_plot_path)"
   ]
  },
  {
   "attachments": {},
   "cell_type": "markdown",
   "metadata": {},
   "source": [
    "# Evaluation\n"
   ]
  },
  {
   "attachments": {},
   "cell_type": "markdown",
   "metadata": {},
   "source": [
    "## Predictions vs Actual Prices"
   ]
  },
  {
   "cell_type": "code",
   "execution_count": null,
   "metadata": {},
   "outputs": [],
   "source": [
    "# predict(data,\n",
    "#         prediction_type=None,\n",
    "#         ntree_start=0,\n",
    "#         ntree_end=0,\n",
    "#         thread_count=-1,\n",
    "#         verbose=None)"
   ]
  },
  {
   "cell_type": "code",
   "execution_count": null,
   "metadata": {
    "tags": []
   },
   "outputs": [],
   "source": [
    "# data_pred = data_pred.drop(['PricePerUnit'], axis=1)\n",
    "\n",
    "data_pred = data_pred.drop(['Location', 'YearQuarter'], axis=1)\n",
    "\n",
    "predictions = model.predict(data_pred)\n",
    "\n",
    "# Create a DataFrame with the predictions\n",
    "predictions_df = pd.DataFrame(predictions, columns=['Predictions'])\n",
    "\n",
    "# Save the predictions to a CSV file\n",
    "predictions_df.to_csv('temp/predictions.csv', index=False)\n",
    "\n",
    "# Log the predictions CSV file as an artifact in MLflow\n",
    "mlflow.log_artifact('temp/predictions.csv', 'predictions')"
   ]
  },
  {
   "cell_type": "code",
   "execution_count": null,
   "metadata": {},
   "outputs": [
    {
     "data": {
      "text/plain": [
       "array([4.74364251, 2.18662666, 2.08769825, ..., 0.44114844, 0.17910126,\n",
       "       0.32909526])"
      ]
     },
     "execution_count": 45,
     "metadata": {},
     "output_type": "execute_result"
    }
   ],
   "source": [
    "predictions"
   ]
  },
  {
   "cell_type": "code",
   "execution_count": null,
   "metadata": {},
   "outputs": [],
   "source": [
    "actual_prices = data_pred.PricePerUnit"
   ]
  },
  {
   "cell_type": "code",
   "execution_count": null,
   "metadata": {},
   "outputs": [],
   "source": [
    "\n",
    "import plotly.graph_objects as go\n",
    "\n",
    "# Create a line plot using Plotly\n",
    "fig = go.Figure()\n",
    "fig.add_trace(go.Scatter(x=list(range(len(actual_prices))),\n",
    "              y=actual_prices, mode='lines', name='Actual'))\n",
    "fig.add_trace(go.Scatter(x=list(range(len(predictions))),\n",
    "              y=predictions, mode='lines', name='Predicted'))\n",
    "\n",
    "fig.update_layout(\n",
    "    title='Actual vs. Predicted Prices for 2022',\n",
    "    xaxis=dict(title='Samples'),\n",
    "    yaxis=dict(title='Price ($) Per Hour')\n",
    ")\n",
    "\n",
    "# fig.show()\n",
    "\n",
    "# Save the Plotly figure as an HTML file\n",
    "html_path = \"temp/actual_predicted.html\"\n",
    "pio.write_html(fig, html_path)\n",
    "\n",
    "# Log the HTML file as an artifact in MLflow\n",
    "mlflow.log_artifact(html_path)"
   ]
  },
  {
   "cell_type": "code",
   "execution_count": null,
   "metadata": {},
   "outputs": [],
   "source": [
    "rmse = mean_squared_error(actual_prices, predictions, squared=False)"
   ]
  },
  {
   "cell_type": "code",
   "execution_count": null,
   "metadata": {},
   "outputs": [
    {
     "data": {
      "text/plain": [
       "1.3424706038997616"
      ]
     },
     "execution_count": 49,
     "metadata": {},
     "output_type": "execute_result"
    }
   ],
   "source": [
    "rmse"
   ]
  },
  {
   "cell_type": "code",
   "execution_count": null,
   "metadata": {},
   "outputs": [],
   "source": [
    "error = actual_prices - predictions"
   ]
  },
  {
   "cell_type": "code",
   "execution_count": null,
   "metadata": {},
   "outputs": [
    {
     "data": {
      "image/png": "[encoded data removed]",
      "text/plain": [
       "<Figure size 640x480 with 2 Axes>"
      ]
     },
     "metadata": {},
     "output_type": "display_data"
    }
   ],
   "source": [
    "plt.scatter(actual_prices, predictions, c=error, cmap='coolwarm')\n",
    "plt.plot(np.linspace(min(actual_prices), max(actual_prices), 100), np.linspace(\n",
    "    min(actual_prices), max(actual_prices), 100), color='black', linestyle='--')\n",
    "plt.xlabel('Actual Prices')\n",
    "plt.ylabel('Predicted Prices')\n",
    "plt.colorbar()\n",
    "plt.show()"
   ]
  },
  {
   "cell_type": "code",
   "execution_count": null,
   "metadata": {
    "tags": []
   },
   "outputs": [],
   "source": [
    "# Create a scatter plot using Plotly\n",
    "fig = go.Figure(data=go.Scatter(\n",
    "    x=actual_prices,\n",
    "    y=predictions,\n",
    "    mode='markers',\n",
    "    marker=dict(\n",
    "        size=8,\n",
    "        color=error,\n",
    "        colorscale='Viridis',\n",
    "        showscale=True,\n",
    "        colorbar=dict(title='Error')\n",
    "    )\n",
    "))\n",
    "\n",
    "fig.update_layout(\n",
    "    title='Actual vs. Predicted Prices',\n",
    "    xaxis=dict(title='Actual Prices'),\n",
    "    yaxis=dict(title='Predicted Prices')\n",
    ")\n",
    "\n",
    "# fig.show()\n",
    "\n",
    "# Save the Plotly figure as an HTML file\n",
    "html_path = \"temp/actual_predicted_errors.html\"\n",
    "pio.write_html(fig, html_path)\n",
    "\n",
    "# Log the HTML file as an artifact in MLflow\n",
    "mlflow.log_artifact(html_path)"
   ]
  },
  {
   "cell_type": "code",
   "execution_count": null,
   "metadata": {},
   "outputs": [],
   "source": [
    "from sklearn.metrics import mean_squared_error, mean_absolute_error, r2_score, mean_absolute_percentage_error\n",
    "\n",
    "\n",
    "mse = mean_squared_error(actual_prices, predictions)\n",
    "rmse = mean_squared_error(actual_prices, predictions, squared=False)\n",
    "mae = mean_absolute_error(actual_prices, predictions)\n",
    "r2 = r2_score(actual_prices, predictions)\n",
    "mape = mean_absolute_percentage_error(actual_prices, predictions)"
   ]
  },
  {
   "cell_type": "code",
   "execution_count": null,
   "metadata": {},
   "outputs": [],
   "source": [
    "mlflow.log_metric(\"MSE\", mse)\n",
    "mlflow.log_metric(\"RMSE\", rmse)\n",
    "mlflow.log_metric(\"MAE\", mae)\n",
    "mlflow.log_metric(\"MAPE\", mape)\n",
    "mlflow.log_metric(\"R-squared\", r2)\n",
    "\n",
    "# mlflow.log_metric()"
   ]
  },
  {
   "cell_type": "code",
   "execution_count": null,
   "metadata": {},
   "outputs": [
    {
     "name": "stdout",
     "output_type": "stream",
     "text": [
      "MSE: 1.8022273223349905\n",
      "RMSE: 1.3424706038997616\n",
      "MAE: 0.8167201283084465\n",
      "MAPE: 0.7105833920432344\n",
      "R-squared: 0.6234483313554313\n"
     ]
    }
   ],
   "source": [
    "print('MSE:', mse)\n",
    "print('RMSE:', rmse)\n",
    "print('MAE:', mae)\n",
    "print('MAPE:', mape)\n",
    "print('R-squared:', r2)"
   ]
  },
  {
   "attachments": {},
   "cell_type": "markdown",
   "metadata": {},
   "source": [
    "https://towardsdatascience.com/ad-demand-forecast-with-catboost-lightgbm-819e5073cd3e\n",
    "\n",
    "https://towardsdatascience.com/understanding-feature-importance-and-how-to-implement-it-in-python-ff0287b20285"
   ]
  },
  {
   "cell_type": "code",
   "execution_count": null,
   "metadata": {
    "tags": []
   },
   "outputs": [],
   "source": [
    "# End the MLflow run\n",
    "mlflow.end_run()"
   ]
  },
  {
   "cell_type": "code",
   "execution_count": null,
   "metadata": {},
   "outputs": [],
   "source": []
  }
 ],
 "metadata": {
  "kernelspec": {
   "display_name": "price39_env",
   "language": "python",
   "name": "price39_env"
  },
  "language_info": {
   "codemirror_mode": {
    "name": "ipython",
    "version": 3
   },
   "file_extension": ".py",
   "mimetype": "text/x-python",
   "name": "python",
   "nbconvert_exporter": "python",
   "pygments_lexer": "ipython3",
   "version": "3.9.16"
  }
 },
 "nbformat": 4,
 "nbformat_minor": 4
}
