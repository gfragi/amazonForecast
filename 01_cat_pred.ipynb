{
 "cells": [
  {
   "attachments": {},
   "cell_type": "markdown",
   "metadata": {},
   "source": [
    "## Imports"
   ]
  },
  {
   "cell_type": "code",
   "execution_count": 57,
   "metadata": {
    "tags": []
   },
   "outputs": [],
   "source": [
    "# Importing machine learning algorithms\n",
    "import lightgbm as lgb\n",
    "import xgboost as xgb\n",
    "import catboost as cb\n",
    "\n",
    "# Importing other packages\n",
    "import timeit\n",
    "import pandas as pd\n",
    "import numpy as np\n",
    "import neptune\n",
    "import tempfile\n",
    "from scipy import stats\n",
    "import time\n",
    "\n",
    "\n",
    "import seaborn as sns\n",
    "import matplotlib.pyplot as plt\n",
    "from catboost import CatBoostRegressor\n",
    "import my_functions as mf\n",
    "\n",
    "import mlflow\n",
    "import mlflow.catboost\n",
    "import os\n",
    "\n",
    "\n",
    "# Importing packages for machine learning operations\n",
    "from sklearn.model_selection import train_test_split, GridSearchCV\n",
    "from sklearn.metrics import roc_auc_score\n",
    "\n",
    "\n",
    "import plotly.graph_objects as go\n",
    "import plotly.io as pio\n",
    "\n",
    "pio.renderers.default = \"browser\""
   ]
  },
  {
   "attachments": {},
   "cell_type": "markdown",
   "metadata": {},
   "source": [
    "## Start Experiment"
   ]
  },
  {
   "cell_type": "code",
   "execution_count": 58,
   "metadata": {},
   "outputs": [],
   "source": [
    "\n",
    "\n",
    "# Set the experiment name in MLflow\n",
    "instance_Family = 'General_purpose'\n",
    "# General_purpose\n",
    "# Memory_optimized\n",
    "# Storage_optimized\n",
    "# Compute_optimized\n",
    "# GPU_instance\n",
    "\n",
    "outlier = 'zscore'\n",
    "\n",
    "# zscore\n",
    "# iqr\n",
    "# lof\n",
    "# isolation\n",
    "\n",
    "\n",
    "mlflow.set_experiment(instance_Family)\n",
    "mlflow.set_tracking_uri(\"file:///media/gfragi/data/BarraCuda/mlruns/mlruns/\")"
   ]
  },
  {
   "attachments": {},
   "cell_type": "markdown",
   "metadata": {},
   "source": [
    "### Add some experiment tags"
   ]
  },
  {
   "cell_type": "code",
   "execution_count": 59,
   "metadata": {},
   "outputs": [],
   "source": [
    "\n",
    "# Set tags for the run\n",
    "tags = {\n",
    "    \"experiment\": \"catboost_regression\",\n",
    "    \"model_type\": \"CatBoostRegressor\",\n",
    "    # \"task_type\": \"CPU\",\n",
    "    \"dataset\": \"Amazon\",\n",
    "    \"year to predict\": \"2022\",\n",
    "    \"all years for prediction\": \"no\",\n",
    "    \"outlier\": outlier\n",
    "}\n",
    "\n",
    "# Set the tags for the current run\n",
    "mlflow.set_tags(tags)"
   ]
  },
  {
   "cell_type": "code",
   "execution_count": 60,
   "metadata": {},
   "outputs": [],
   "source": [
    "# mlflow.end_run()"
   ]
  },
  {
   "attachments": {},
   "cell_type": "markdown",
   "metadata": {},
   "source": [
    "## Import data "
   ]
  },
  {
   "cell_type": "code",
   "execution_count": 61,
   "metadata": {
    "tags": []
   },
   "outputs": [],
   "source": [
    "\n",
    "data_all = pd.read_csv(\n",
    "    f'./data/amazon_22_quarters.csv', parse_dates=['EffectiveDate'])\n",
    "\n",
    "\n",
    "data_all = data_all[(data_all['instanceFamily'] == instance_Family)]\n",
    "\n",
    "# data = data.drop(['OfferTermCode', 'instanceType', 'instanceFamily', 'OfferingClass'], axis=1)\n",
    "\n",
    "data_all = data_all.drop(['SKU', 'RateCode', 'OfferTermCode', 'instanceFamily',\n",
    "                          'License Model', 'TermType', 'year', 'Tenancy', 'OfferingClass',\n",
    "                          'instanceType', 'Product Family', 'Current Generation',\n",
    "                          'License Model'], axis=1)"
   ]
  },
  {
   "cell_type": "code",
   "execution_count": 62,
   "metadata": {
    "tags": []
   },
   "outputs": [
    {
     "name": "stdout",
     "output_type": "stream",
     "text": [
      "<class 'pandas.core.frame.DataFrame'>\n",
      "Int64Index: 111740 entries, 12 to 554076\n",
      "Data columns (total 13 columns):\n",
      " #   Column               Non-Null Count   Dtype         \n",
      "---  ------               --------------   -----         \n",
      " 0   PricePerUnit         111740 non-null  float64       \n",
      " 1   LeaseContractLength  111740 non-null  int64         \n",
      " 2   PurchaseOption       111740 non-null  object        \n",
      " 3   Location             111740 non-null  object        \n",
      " 4   vCPU                 111740 non-null  int64         \n",
      " 5   Memory               111740 non-null  int64         \n",
      " 6   operatingSystem      111740 non-null  object        \n",
      " 7   networkPerformance   111740 non-null  float64       \n",
      " 8   EffectiveDate        111740 non-null  datetime64[ns]\n",
      " 9   DiskType             111740 non-null  object        \n",
      " 10  StorageSize          111740 non-null  int64         \n",
      " 11  Quarter              111740 non-null  int64         \n",
      " 12  YearQuarter          111740 non-null  object        \n",
      "dtypes: datetime64[ns](1), float64(2), int64(5), object(5)\n",
      "memory usage: 11.9+ MB\n"
     ]
    }
   ],
   "source": [
    "data_all.info()"
   ]
  },
  {
   "cell_type": "code",
   "execution_count": 63,
   "metadata": {},
   "outputs": [],
   "source": [
    "# Select regions"
   ]
  },
  {
   "cell_type": "code",
   "execution_count": 64,
   "metadata": {},
   "outputs": [],
   "source": [
    "# # # replace USEast and USWest to US and EU to Europe\n",
    "# data_all = data_all.replace({'USEast': 'US', 'USWest': 'US', 'EU': 'Europe'})\n",
    "data_all = data_all[(data_all['Location'] != \"Africa\") & (data_all['Location'] != \"MiddleEast\") & (data_all['Location']\n",
    "                                                                                                   != \"Canada\") & (data_all['Location'] != \"SouthAmerica\") & (data_all['Location'] != \"AWSGovCloud\")]"
   ]
  },
  {
   "cell_type": "code",
   "execution_count": 65,
   "metadata": {},
   "outputs": [],
   "source": [
    "# data_all = data_all.drop(['Location'], axis=1)"
   ]
  },
  {
   "cell_type": "code",
   "execution_count": 66,
   "metadata": {
    "tags": []
   },
   "outputs": [],
   "source": [
    "# # create several new date time features\n",
    "data_all['year'] = data_all['EffectiveDate'].dt.year\n",
    "# data['day_of_year'] = data['EffectiveDate'].dt.dayofyear\n",
    "# data['weekday'] = data['EffectiveDate'].dt.weekday\n",
    "# data['week_of_year'] = data['EffectiveDate'].dt.week\n",
    "# data['day_of_month'] = data['EffectiveDate'].dt.day\n",
    "# data['quarter'] = data['EffectiveDate'].dt.quarter\n",
    "\n",
    "# data.drop('EffectiveDate', axis=1, inplace=True)"
   ]
  },
  {
   "attachments": {},
   "cell_type": "markdown",
   "metadata": {},
   "source": [
    "### Sort "
   ]
  },
  {
   "cell_type": "code",
   "execution_count": 67,
   "metadata": {
    "tags": []
   },
   "outputs": [
    {
     "data": {
      "text/html": [
       "<div>\n",
       "<style scoped>\n",
       "    .dataframe tbody tr th:only-of-type {\n",
       "        vertical-align: middle;\n",
       "    }\n",
       "\n",
       "    .dataframe tbody tr th {\n",
       "        vertical-align: top;\n",
       "    }\n",
       "\n",
       "    .dataframe thead th {\n",
       "        text-align: right;\n",
       "    }\n",
       "</style>\n",
       "<table border=\"1\" class=\"dataframe\">\n",
       "  <thead>\n",
       "    <tr style=\"text-align: right;\">\n",
       "      <th></th>\n",
       "      <th>PricePerUnit</th>\n",
       "      <th>LeaseContractLength</th>\n",
       "      <th>PurchaseOption</th>\n",
       "      <th>Location</th>\n",
       "      <th>vCPU</th>\n",
       "      <th>Memory</th>\n",
       "      <th>operatingSystem</th>\n",
       "      <th>networkPerformance</th>\n",
       "      <th>EffectiveDate</th>\n",
       "      <th>DiskType</th>\n",
       "      <th>StorageSize</th>\n",
       "      <th>Quarter</th>\n",
       "      <th>YearQuarter</th>\n",
       "      <th>year</th>\n",
       "    </tr>\n",
       "  </thead>\n",
       "  <tbody>\n",
       "    <tr>\n",
       "      <th>0</th>\n",
       "      <td>0.11400</td>\n",
       "      <td>3</td>\n",
       "      <td>No Upfront</td>\n",
       "      <td>AsiaPacific</td>\n",
       "      <td>2</td>\n",
       "      <td>7</td>\n",
       "      <td>Linux</td>\n",
       "      <td>0.3</td>\n",
       "      <td>2016-09-30</td>\n",
       "      <td>SSD</td>\n",
       "      <td>32</td>\n",
       "      <td>3</td>\n",
       "      <td>2016Q3</td>\n",
       "      <td>2016</td>\n",
       "    </tr>\n",
       "    <tr>\n",
       "      <th>1</th>\n",
       "      <td>0.05800</td>\n",
       "      <td>1</td>\n",
       "      <td>Partial Upfront</td>\n",
       "      <td>AsiaPacific</td>\n",
       "      <td>2</td>\n",
       "      <td>7</td>\n",
       "      <td>Linux</td>\n",
       "      <td>0.3</td>\n",
       "      <td>2016-09-30</td>\n",
       "      <td>SSD</td>\n",
       "      <td>32</td>\n",
       "      <td>3</td>\n",
       "      <td>2016Q3</td>\n",
       "      <td>2016</td>\n",
       "    </tr>\n",
       "    <tr>\n",
       "      <th>2</th>\n",
       "      <td>0.12700</td>\n",
       "      <td>1</td>\n",
       "      <td>No Upfront</td>\n",
       "      <td>AsiaPacific</td>\n",
       "      <td>2</td>\n",
       "      <td>7</td>\n",
       "      <td>Linux</td>\n",
       "      <td>0.3</td>\n",
       "      <td>2016-08-31</td>\n",
       "      <td>SSD</td>\n",
       "      <td>32</td>\n",
       "      <td>3</td>\n",
       "      <td>2016Q3</td>\n",
       "      <td>2016</td>\n",
       "    </tr>\n",
       "    <tr>\n",
       "      <th>3</th>\n",
       "      <td>0.04700</td>\n",
       "      <td>3</td>\n",
       "      <td>Partial Upfront</td>\n",
       "      <td>US</td>\n",
       "      <td>2</td>\n",
       "      <td>7</td>\n",
       "      <td>Linux</td>\n",
       "      <td>0.3</td>\n",
       "      <td>2016-09-30</td>\n",
       "      <td>SSD</td>\n",
       "      <td>32</td>\n",
       "      <td>3</td>\n",
       "      <td>2016Q3</td>\n",
       "      <td>2016</td>\n",
       "    </tr>\n",
       "    <tr>\n",
       "      <th>4</th>\n",
       "      <td>0.05300</td>\n",
       "      <td>1</td>\n",
       "      <td>Partial Upfront</td>\n",
       "      <td>US</td>\n",
       "      <td>2</td>\n",
       "      <td>7</td>\n",
       "      <td>Linux</td>\n",
       "      <td>0.3</td>\n",
       "      <td>2016-09-30</td>\n",
       "      <td>SSD</td>\n",
       "      <td>32</td>\n",
       "      <td>3</td>\n",
       "      <td>2016Q3</td>\n",
       "      <td>2016</td>\n",
       "    </tr>\n",
       "    <tr>\n",
       "      <th>...</th>\n",
       "      <td>...</td>\n",
       "      <td>...</td>\n",
       "      <td>...</td>\n",
       "      <td>...</td>\n",
       "      <td>...</td>\n",
       "      <td>...</td>\n",
       "      <td>...</td>\n",
       "      <td>...</td>\n",
       "      <td>...</td>\n",
       "      <td>...</td>\n",
       "      <td>...</td>\n",
       "      <td>...</td>\n",
       "      <td>...</td>\n",
       "      <td>...</td>\n",
       "    </tr>\n",
       "    <tr>\n",
       "      <th>91921</th>\n",
       "      <td>1.90853</td>\n",
       "      <td>1</td>\n",
       "      <td>Partial Upfront</td>\n",
       "      <td>AsiaPacific</td>\n",
       "      <td>8</td>\n",
       "      <td>32</td>\n",
       "      <td>Windows</td>\n",
       "      <td>12500.0</td>\n",
       "      <td>2022-10-01</td>\n",
       "      <td>SSD</td>\n",
       "      <td>474</td>\n",
       "      <td>4</td>\n",
       "      <td>2022Q4</td>\n",
       "      <td>2022</td>\n",
       "    </tr>\n",
       "    <tr>\n",
       "      <th>91922</th>\n",
       "      <td>3.62564</td>\n",
       "      <td>3</td>\n",
       "      <td>No Upfront</td>\n",
       "      <td>AsiaPacific</td>\n",
       "      <td>8</td>\n",
       "      <td>32</td>\n",
       "      <td>Windows</td>\n",
       "      <td>12500.0</td>\n",
       "      <td>2022-10-01</td>\n",
       "      <td>SSD</td>\n",
       "      <td>474</td>\n",
       "      <td>4</td>\n",
       "      <td>2022Q4</td>\n",
       "      <td>2022</td>\n",
       "    </tr>\n",
       "    <tr>\n",
       "      <th>91923</th>\n",
       "      <td>3.83952</td>\n",
       "      <td>1</td>\n",
       "      <td>No Upfront</td>\n",
       "      <td>AsiaPacific</td>\n",
       "      <td>8</td>\n",
       "      <td>32</td>\n",
       "      <td>Windows</td>\n",
       "      <td>12500.0</td>\n",
       "      <td>2022-10-01</td>\n",
       "      <td>SSD</td>\n",
       "      <td>474</td>\n",
       "      <td>4</td>\n",
       "      <td>2022Q4</td>\n",
       "      <td>2022</td>\n",
       "    </tr>\n",
       "    <tr>\n",
       "      <th>91924</th>\n",
       "      <td>3.74373</td>\n",
       "      <td>1</td>\n",
       "      <td>No Upfront</td>\n",
       "      <td>AsiaPacific</td>\n",
       "      <td>8</td>\n",
       "      <td>32</td>\n",
       "      <td>Windows</td>\n",
       "      <td>12500.0</td>\n",
       "      <td>2022-10-01</td>\n",
       "      <td>SSD</td>\n",
       "      <td>474</td>\n",
       "      <td>4</td>\n",
       "      <td>2022Q4</td>\n",
       "      <td>2022</td>\n",
       "    </tr>\n",
       "    <tr>\n",
       "      <th>91925</th>\n",
       "      <td>1.80328</td>\n",
       "      <td>3</td>\n",
       "      <td>Partial Upfront</td>\n",
       "      <td>AsiaPacific</td>\n",
       "      <td>8</td>\n",
       "      <td>32</td>\n",
       "      <td>Windows</td>\n",
       "      <td>12500.0</td>\n",
       "      <td>2022-10-01</td>\n",
       "      <td>SSD</td>\n",
       "      <td>474</td>\n",
       "      <td>4</td>\n",
       "      <td>2022Q4</td>\n",
       "      <td>2022</td>\n",
       "    </tr>\n",
       "  </tbody>\n",
       "</table>\n",
       "<p>91926 rows × 14 columns</p>\n",
       "</div>"
      ],
      "text/plain": [
       "       PricePerUnit  LeaseContractLength   PurchaseOption     Location  vCPU  \\\n",
       "0           0.11400                    3       No Upfront  AsiaPacific     2   \n",
       "1           0.05800                    1  Partial Upfront  AsiaPacific     2   \n",
       "2           0.12700                    1       No Upfront  AsiaPacific     2   \n",
       "3           0.04700                    3  Partial Upfront           US     2   \n",
       "4           0.05300                    1  Partial Upfront           US     2   \n",
       "...             ...                  ...              ...          ...   ...   \n",
       "91921       1.90853                    1  Partial Upfront  AsiaPacific     8   \n",
       "91922       3.62564                    3       No Upfront  AsiaPacific     8   \n",
       "91923       3.83952                    1       No Upfront  AsiaPacific     8   \n",
       "91924       3.74373                    1       No Upfront  AsiaPacific     8   \n",
       "91925       1.80328                    3  Partial Upfront  AsiaPacific     8   \n",
       "\n",
       "       Memory operatingSystem  networkPerformance EffectiveDate DiskType  \\\n",
       "0           7           Linux                 0.3    2016-09-30      SSD   \n",
       "1           7           Linux                 0.3    2016-09-30      SSD   \n",
       "2           7           Linux                 0.3    2016-08-31      SSD   \n",
       "3           7           Linux                 0.3    2016-09-30      SSD   \n",
       "4           7           Linux                 0.3    2016-09-30      SSD   \n",
       "...       ...             ...                 ...           ...      ...   \n",
       "91921      32         Windows             12500.0    2022-10-01      SSD   \n",
       "91922      32         Windows             12500.0    2022-10-01      SSD   \n",
       "91923      32         Windows             12500.0    2022-10-01      SSD   \n",
       "91924      32         Windows             12500.0    2022-10-01      SSD   \n",
       "91925      32         Windows             12500.0    2022-10-01      SSD   \n",
       "\n",
       "       StorageSize  Quarter YearQuarter  year  \n",
       "0               32        3      2016Q3  2016  \n",
       "1               32        3      2016Q3  2016  \n",
       "2               32        3      2016Q3  2016  \n",
       "3               32        3      2016Q3  2016  \n",
       "4               32        3      2016Q3  2016  \n",
       "...            ...      ...         ...   ...  \n",
       "91921          474        4      2022Q4  2022  \n",
       "91922          474        4      2022Q4  2022  \n",
       "91923          474        4      2022Q4  2022  \n",
       "91924          474        4      2022Q4  2022  \n",
       "91925          474        4      2022Q4  2022  \n",
       "\n",
       "[91926 rows x 14 columns]"
      ]
     },
     "execution_count": 67,
     "metadata": {},
     "output_type": "execute_result"
    }
   ],
   "source": [
    "data_all.sort_values(by='EffectiveDate')\n",
    "data_all.reset_index(drop=True)"
   ]
  },
  {
   "cell_type": "code",
   "execution_count": 68,
   "metadata": {},
   "outputs": [
    {
     "data": {
      "text/plain": [
       "2022    28032\n",
       "2020    25260\n",
       "2021    15744\n",
       "2019    13376\n",
       "2018     6640\n",
       "2016     2050\n",
       "2017      824\n",
       "Name: year, dtype: int64"
      ]
     },
     "execution_count": 68,
     "metadata": {},
     "output_type": "execute_result"
    }
   ],
   "source": [
    "data_all['year'].value_counts()"
   ]
  },
  {
   "attachments": {},
   "cell_type": "markdown",
   "metadata": {},
   "source": [
    "# Outlier Methods"
   ]
  },
  {
   "attachments": {},
   "cell_type": "markdown",
   "metadata": {},
   "source": [
    "## IsolationForest"
   ]
  },
  {
   "cell_type": "code",
   "execution_count": 69,
   "metadata": {},
   "outputs": [],
   "source": [
    "from sklearn.ensemble import IsolationForest\n",
    "\n",
    "if outlier == 'isolation':\n",
    "\n",
    "    # Select the column(s) you want to detect outliers in\n",
    "    columns_to_check = ['PricePerUnit', 'vCPU', 'Memory']\n",
    "\n",
    "    # Create an Isolation Forest object\n",
    "    # Adjust the contamination parameter as needed\n",
    "    isolation_forest = IsolationForest(contamination=0.1)\n",
    "\n",
    "    # Fit the Isolation Forest model and predict outlier labels\n",
    "    outlier_labels = isolation_forest.fit_predict(data_all[columns_to_check])\n",
    "\n",
    "    # Identify outliers based on the predicted labels\n",
    "    outliers = data_all[outlier_labels == -1]\n",
    "\n",
    "    # Exclude outliers from the dataset\n",
    "    data_all = data_all[outlier_labels != -1]\n",
    "\n",
    "    # Print the outliers\n",
    "    print(\"Outliers:\")\n",
    "    print(outliers)\n",
    "\n",
    "    # Print the cleaned dataset\n",
    "    print(\"Cleaned Data:\")\n",
    "    print(data_all)"
   ]
  },
  {
   "attachments": {},
   "cell_type": "markdown",
   "metadata": {},
   "source": [
    "## LOF"
   ]
  },
  {
   "cell_type": "code",
   "execution_count": 70,
   "metadata": {},
   "outputs": [],
   "source": [
    "from sklearn.neighbors import LocalOutlierFactor\n",
    "\n",
    "\n",
    "if outlier == 'lof':\n",
    "\n",
    "    # Select the column(s) you want to detect outliers in\n",
    "    columns_to_check = ['PricePerUnit']\n",
    "\n",
    "    # Create a LOF object\n",
    "    # Adjust parameters as needed\n",
    "    lof = LocalOutlierFactor(n_neighbors=20, contamination=0.1)\n",
    "\n",
    "    # Fit the LOF model and predict outlier scores\n",
    "    outlier_scores = lof.fit_predict(data_all[columns_to_check])\n",
    "\n",
    "    # Identify outliers based on the predicted scores\n",
    "    outliers = data_all[outlier_scores == -1]\n",
    "\n",
    "    # Exclude outliers from the dataset\n",
    "    data_all = data_all[outlier_scores != -1]\n",
    "\n",
    "    # Print the outliers\n",
    "    print(\"Outliers:\")\n",
    "    print(outliers)\n",
    "\n",
    "    # Print the cleaned dataset\n",
    "    print(\"Cleaned Data:\")\n",
    "    print(data_all)\n",
    "else:\n",
    "    pass"
   ]
  },
  {
   "attachments": {},
   "cell_type": "markdown",
   "metadata": {},
   "source": [
    "## Interquartile Range (IQR)\n",
    "\n"
   ]
  },
  {
   "cell_type": "code",
   "execution_count": 71,
   "metadata": {},
   "outputs": [],
   "source": [
    "\n",
    "if outlier == 'iqr':\n",
    "    # Select the column(s) you want to detect outliers in\n",
    "    columns_to_check = ['PricePerUnit']\n",
    "\n",
    "    # Calculate the IQR for each column\n",
    "    Q1 = data_all[columns_to_check].quantile(0.25)\n",
    "    Q3 = data_all[columns_to_check].quantile(0.75)\n",
    "    IQR = Q3 - Q1\n",
    "\n",
    "    # Define a threshold for identifying outliers\n",
    "    threshold = 2\n",
    "\n",
    "    # Determine the lower and upper bounds for outlier detection\n",
    "    lower_bound = Q1 - threshold * IQR\n",
    "    upper_bound = Q3 + threshold * IQR\n",
    "\n",
    "    # Identify outliers by filtering the dataset\n",
    "    outliers = data_all[~((data_all[columns_to_check] >= lower_bound) & (\n",
    "        data_all[columns_to_check] <= upper_bound)).all(axis=1)]\n",
    "\n",
    "    # Exclude outliers from the dataset\n",
    "    data_all = data_all[((data_all[columns_to_check] >= lower_bound) & (\n",
    "        data_all[columns_to_check] <= upper_bound)).all(axis=1)]\n",
    "\n",
    "    # Print the outliers\n",
    "    print(\"Outliers:\")\n",
    "    print(outliers)\n",
    "\n",
    "    # Print the cleaned dataset\n",
    "    print(\"Cleaned Data:\")\n",
    "    print(data_all)\n",
    "else:\n",
    "    pass"
   ]
  },
  {
   "cell_type": "code",
   "execution_count": null,
   "metadata": {},
   "outputs": [],
   "source": []
  },
  {
   "attachments": {},
   "cell_type": "markdown",
   "metadata": {},
   "source": [
    "## Z-score"
   ]
  },
  {
   "cell_type": "code",
   "execution_count": 72,
   "metadata": {},
   "outputs": [
    {
     "name": "stdout",
     "output_type": "stream",
     "text": [
      "        PricePerUnit  LeaseContractLength   PurchaseOption Location  vCPU  \\\n",
      "52061       10.11800                    1       No Upfront       US    48   \n",
      "52104       22.35800                    1       No Upfront       US    48   \n",
      "52113       11.13200                    1  Partial Upfront       US    48   \n",
      "52143       21.73700                    3       No Upfront       US    48   \n",
      "52144       10.81800                    3  Partial Upfront       US    48   \n",
      "...              ...                  ...              ...      ...   ...   \n",
      "553696      14.84271                    3       No Upfront   Europe    32   \n",
      "553774       9.99768                    1       No Upfront       US    96   \n",
      "553997      14.45903                    3       No Upfront   Europe    32   \n",
      "553998      15.33933                    1       No Upfront   Europe    32   \n",
      "553999      14.91142                    1       No Upfront   Europe    32   \n",
      "\n",
      "        Memory operatingSystem  networkPerformance EffectiveDate  DiskType  \\\n",
      "52061      192         Windows                10.0    2018-05-31  NVMe SSD   \n",
      "52104      192         Windows                10.0    2018-05-31  NVMe SSD   \n",
      "52113      192         Windows                10.0    2018-05-31  NVMe SSD   \n",
      "52143      192         Windows                10.0    2018-05-31  NVMe SSD   \n",
      "52144      192         Windows                10.0    2018-05-31  NVMe SSD   \n",
      "...        ...             ...                 ...           ...       ...   \n",
      "553696     128         Windows             12500.0    2022-10-01       SSD   \n",
      "553774     384         Windows            150000.0    2022-12-01       SSD   \n",
      "553997     128         Windows             12500.0    2022-10-01       SSD   \n",
      "553998     128         Windows             12500.0    2022-10-01       SSD   \n",
      "553999     128         Windows             12500.0    2022-10-01       SSD   \n",
      "\n",
      "        StorageSize  Quarter YearQuarter  year  \n",
      "52061          1800        2      2018Q2  2018  \n",
      "52104          1800        2      2018Q2  2018  \n",
      "52113          1800        2      2018Q2  2018  \n",
      "52143          1800        2      2018Q2  2018  \n",
      "52144          1800        2      2018Q2  2018  \n",
      "...             ...      ...         ...   ...  \n",
      "553696         1900        4      2022Q4  2022  \n",
      "553774         5700        4      2022Q4  2022  \n",
      "553997         1900        4      2022Q4  2022  \n",
      "553998         1900        4      2022Q4  2022  \n",
      "553999         1900        4      2022Q4  2022  \n",
      "\n",
      "[10687 rows x 14 columns]\n"
     ]
    }
   ],
   "source": [
    "if outlier == 'zscore':\n",
    "\n",
    "    # Select the column(s) you want to detect outliers in\n",
    "    columns_to_check = ['PricePerUnit']\n",
    "\n",
    "    # Compute the Z-scores for each data point\n",
    "    z_scores = np.abs(stats.zscore(data_all[columns_to_check]))\n",
    "\n",
    "    # Define a threshold for identifying outliers\n",
    "    threshold = 0.75\n",
    "\n",
    "    # Find the indices of outliers\n",
    "    outlier_indices = np.where(z_scores > threshold)\n",
    "\n",
    "    # Get the rows containing outliers\n",
    "    outliers = data_all.iloc[outlier_indices[0]]\n",
    "\n",
    "    # Exclude outliers from the dataset\n",
    "    data_all = data_all.drop(data_all.index[outlier_indices[0]])\n",
    "\n",
    "    # Print the outliers\n",
    "    print(outliers)\n",
    "\n",
    "    mlflow.log_param(\"z-threshold\", threshold)\n",
    "\n",
    "else:\n",
    "    pass"
   ]
  },
  {
   "attachments": {},
   "cell_type": "markdown",
   "metadata": {},
   "source": [
    "##  Create a quarterly seasonality column\n"
   ]
  },
  {
   "cell_type": "code",
   "execution_count": 73,
   "metadata": {},
   "outputs": [],
   "source": [
    "# # Convert EffectiveDate column to datetime format\n",
    "# data_all['EffectiveDate'] = pd.to_datetime(data_all['EffectiveDate'])\n",
    "\n",
    "# # Extract the quarter component from the EffectiveDate column\n",
    "# data_all['Quarter'] = data_all['EffectiveDate'].dt.quarter\n",
    "\n",
    "\n",
    "# # Combine year and quarter into a single column\n",
    "# data_all['YearQuarter'] = data_all['year'].astype(\n",
    "#     str) + '-Q' + data_all['Quarter'].astype(str)"
   ]
  },
  {
   "cell_type": "code",
   "execution_count": 74,
   "metadata": {},
   "outputs": [],
   "source": [
    "# data_all\n",
    "\n",
    "# data_all = data_all.drop(['Seasonality'], axis=1)"
   ]
  },
  {
   "cell_type": "code",
   "execution_count": null,
   "metadata": {},
   "outputs": [],
   "source": []
  },
  {
   "attachments": {},
   "cell_type": "markdown",
   "metadata": {},
   "source": [
    "# Prepare the Data"
   ]
  },
  {
   "cell_type": "code",
   "execution_count": 75,
   "metadata": {},
   "outputs": [],
   "source": [
    "# %%  =========== Prepare the Data for regression============\n",
    "\n",
    "# Map binary categorical columns to numerical\n",
    "\n",
    "categorical_binary = ['PurchaseOption']\n",
    "data_all[categorical_binary] = data_all[categorical_binary].apply(\n",
    "    mf.binary_map)\n",
    "\n",
    "# Write the categorical values as a list\n",
    "# categorical = ['operatingSystem', 'DiskType', 'Location', 'instanceFamily']\n",
    "categorical = ['operatingSystem', 'DiskType']\n",
    "categorical2numeric = pd.get_dummies(data_all[categorical], drop_first=False)\n",
    "\n",
    "categorical2numeric_pred = pd.get_dummies(\n",
    "    data_all[categorical], drop_first=False)\n",
    "\n",
    "# Add the above results to the original dataframe df\n",
    "data_all = pd.concat([data_all, categorical2numeric], axis=1)\n",
    "data_all.drop(columns=categorical, axis=1, inplace=True)"
   ]
  },
  {
   "attachments": {},
   "cell_type": "markdown",
   "metadata": {},
   "source": [
    "# Years"
   ]
  },
  {
   "cell_type": "code",
   "execution_count": 76,
   "metadata": {
    "tags": []
   },
   "outputs": [
    {
     "data": {
      "text/plain": [
       "array([2016, 2017, 2018, 2019, 2020, 2021, 2022])"
      ]
     },
     "execution_count": 76,
     "metadata": {},
     "output_type": "execute_result"
    }
   ],
   "source": [
    "data_all.year.unique()"
   ]
  },
  {
   "cell_type": "code",
   "execution_count": 77,
   "metadata": {},
   "outputs": [
    {
     "data": {
      "text/plain": [
       "array([2022])"
      ]
     },
     "execution_count": 77,
     "metadata": {},
     "output_type": "execute_result"
    }
   ],
   "source": [
    "data_pred = data_all[data_all['year'] > 2021]\n",
    "data_pred = data_pred.sort_values(by='EffectiveDate')\n",
    "data_pred = data_pred.reset_index(drop=True)\n",
    "data_pred.year.unique()"
   ]
  },
  {
   "cell_type": "code",
   "execution_count": 78,
   "metadata": {},
   "outputs": [
    {
     "data": {
      "text/plain": [
       "array([2021])"
      ]
     },
     "execution_count": 78,
     "metadata": {},
     "output_type": "execute_result"
    }
   ],
   "source": [
    "data = data_all[(data_all['year'] > 2020) & (data_all['year'] < 2022)]\n",
    "data = data.sort_values(by='EffectiveDate')\n",
    "data = data.reset_index(drop=True)\n",
    "data.year.unique()\n",
    "\n",
    "\n",
    "mlflow.log_param(\"Years used to predict\", data.year.unique())"
   ]
  },
  {
   "attachments": {},
   "cell_type": "markdown",
   "metadata": {},
   "source": [
    "## Assign target value"
   ]
  },
  {
   "cell_type": "code",
   "execution_count": 79,
   "metadata": {
    "tags": []
   },
   "outputs": [],
   "source": [
    "X = data.drop(['PricePerUnit', 'EffectiveDate',\n",
    "              'YearQuarter', 'Location'], axis=1)\n",
    "y = data.PricePerUnit"
   ]
  },
  {
   "attachments": {},
   "cell_type": "markdown",
   "metadata": {},
   "source": [
    "# CatBoost Model Training"
   ]
  },
  {
   "cell_type": "code",
   "execution_count": 80,
   "metadata": {
    "tags": []
   },
   "outputs": [],
   "source": [
    "# CatBoost Model Training\n",
    "X_train, X_valid, y_train, y_valid = train_test_split(\n",
    "    X, y, test_size=0.25, random_state=42)"
   ]
  },
  {
   "cell_type": "code",
   "execution_count": 81,
   "metadata": {
    "tags": []
   },
   "outputs": [
    {
     "data": {
      "application/vnd.jupyter.widget-view+json": {
       "model_id": "dd4764b9fde84eeb8e290cab0969bec2",
       "version_major": 2,
       "version_minor": 0
      },
      "text/plain": [
       "MetricVisualizer(layout=Layout(align_self='stretch', height='500px'))"
      ]
     },
     "metadata": {},
     "output_type": "display_data"
    },
    {
     "name": "stdout",
     "output_type": "stream",
     "text": [
      "0:\tlearn: 1.5889654\ttest: 1.6601876\tbest: 1.6601876 (0)\ttotal: 696us\tremaining: 34.1ms\n",
      "1:\tlearn: 1.5203531\ttest: 1.5878199\tbest: 1.5878199 (1)\ttotal: 1.57ms\tremaining: 37.8ms\n",
      "2:\tlearn: 1.4591914\ttest: 1.5238870\tbest: 1.5238870 (2)\ttotal: 2.27ms\tremaining: 35.5ms\n",
      "3:\tlearn: 1.4076483\ttest: 1.4694169\tbest: 1.4694169 (3)\ttotal: 2.98ms\tremaining: 34.3ms\n",
      "4:\tlearn: 1.3637426\ttest: 1.4237329\tbest: 1.4237329 (4)\ttotal: 3.65ms\tremaining: 32.9ms\n",
      "5:\tlearn: 1.3221285\ttest: 1.3783262\tbest: 1.3783262 (5)\ttotal: 4.38ms\tremaining: 32.1ms\n",
      "6:\tlearn: 1.2852433\ttest: 1.3392415\tbest: 1.3392415 (6)\ttotal: 5.04ms\tremaining: 31ms\n",
      "7:\tlearn: 1.2530506\ttest: 1.3051515\tbest: 1.3051515 (7)\ttotal: 5.75ms\tremaining: 30.2ms\n",
      "8:\tlearn: 1.2254143\ttest: 1.2740585\tbest: 1.2740585 (8)\ttotal: 6.45ms\tremaining: 29.4ms\n",
      "9:\tlearn: 1.2004050\ttest: 1.2468484\tbest: 1.2468484 (9)\ttotal: 7.14ms\tremaining: 28.6ms\n",
      "10:\tlearn: 1.1805055\ttest: 1.2259315\tbest: 1.2259315 (10)\ttotal: 7.85ms\tremaining: 27.8ms\n",
      "11:\tlearn: 1.1607242\ttest: 1.2030431\tbest: 1.2030431 (11)\ttotal: 8.54ms\tremaining: 27ms\n",
      "12:\tlearn: 1.1449071\ttest: 1.1857526\tbest: 1.1857526 (12)\ttotal: 9.22ms\tremaining: 26.2ms\n",
      "13:\tlearn: 1.1303060\ttest: 1.1687042\tbest: 1.1687042 (13)\ttotal: 9.87ms\tremaining: 25.4ms\n",
      "14:\tlearn: 1.1173091\ttest: 1.1539849\tbest: 1.1539849 (14)\ttotal: 10.5ms\tremaining: 24.6ms\n",
      "15:\tlearn: 1.1068202\ttest: 1.1409191\tbest: 1.1409191 (15)\ttotal: 11.2ms\tremaining: 23.7ms\n",
      "16:\tlearn: 1.0965118\ttest: 1.1291767\tbest: 1.1291767 (16)\ttotal: 11.9ms\tremaining: 23.1ms\n",
      "17:\tlearn: 1.0878334\ttest: 1.1182383\tbest: 1.1182383 (17)\ttotal: 12.6ms\tremaining: 22.4ms\n",
      "18:\tlearn: 1.0786842\ttest: 1.1083403\tbest: 1.1083403 (18)\ttotal: 13.2ms\tremaining: 21.6ms\n",
      "19:\tlearn: 1.0702890\ttest: 1.0993398\tbest: 1.0993398 (19)\ttotal: 13.9ms\tremaining: 20.9ms\n",
      "20:\tlearn: 1.0636271\ttest: 1.0915413\tbest: 1.0915413 (20)\ttotal: 14.6ms\tremaining: 20.2ms\n",
      "21:\tlearn: 1.0569619\ttest: 1.0832220\tbest: 1.0832220 (21)\ttotal: 15.3ms\tremaining: 19.5ms\n",
      "22:\tlearn: 1.0514263\ttest: 1.0772627\tbest: 1.0772627 (22)\ttotal: 16ms\tremaining: 18.8ms\n",
      "23:\tlearn: 1.0467107\ttest: 1.0717125\tbest: 1.0717125 (23)\ttotal: 16.7ms\tremaining: 18.1ms\n",
      "24:\tlearn: 1.0415368\ttest: 1.0648815\tbest: 1.0648815 (24)\ttotal: 17.3ms\tremaining: 17.3ms\n",
      "25:\tlearn: 1.0366530\ttest: 1.0599107\tbest: 1.0599107 (25)\ttotal: 18ms\tremaining: 16.6ms\n",
      "26:\tlearn: 1.0322375\ttest: 1.0549989\tbest: 1.0549989 (26)\ttotal: 18.6ms\tremaining: 15.8ms\n",
      "27:\tlearn: 1.0290594\ttest: 1.0503737\tbest: 1.0503737 (27)\ttotal: 19.2ms\tremaining: 15.1ms\n",
      "28:\tlearn: 1.0246785\ttest: 1.0451815\tbest: 1.0451815 (28)\ttotal: 19.8ms\tremaining: 14.3ms\n",
      "29:\tlearn: 1.0214005\ttest: 1.0412788\tbest: 1.0412788 (29)\ttotal: 20.4ms\tremaining: 13.6ms\n",
      "30:\tlearn: 1.0184089\ttest: 1.0369952\tbest: 1.0369952 (30)\ttotal: 21.1ms\tremaining: 12.9ms\n",
      "31:\tlearn: 1.0154412\ttest: 1.0335905\tbest: 1.0335905 (31)\ttotal: 21.7ms\tremaining: 12.2ms\n",
      "32:\tlearn: 1.0131359\ttest: 1.0302206\tbest: 1.0302206 (32)\ttotal: 22.5ms\tremaining: 11.6ms\n",
      "33:\tlearn: 1.0102870\ttest: 1.0268280\tbest: 1.0268280 (33)\ttotal: 23.1ms\tremaining: 10.9ms\n",
      "34:\tlearn: 1.0071883\ttest: 1.0234902\tbest: 1.0234902 (34)\ttotal: 23.7ms\tremaining: 10.1ms\n",
      "35:\tlearn: 1.0040717\ttest: 1.0201772\tbest: 1.0201772 (35)\ttotal: 24.3ms\tremaining: 9.46ms\n",
      "36:\tlearn: 1.0020514\ttest: 1.0182158\tbest: 1.0182158 (36)\ttotal: 25ms\tremaining: 8.78ms\n",
      "37:\tlearn: 0.9995473\ttest: 1.0156899\tbest: 1.0156899 (37)\ttotal: 25.6ms\tremaining: 8.08ms\n",
      "38:\tlearn: 0.9973659\ttest: 1.0133599\tbest: 1.0133599 (38)\ttotal: 26.2ms\tremaining: 7.38ms\n",
      "39:\tlearn: 0.9954308\ttest: 1.0111208\tbest: 1.0111208 (39)\ttotal: 26.8ms\tremaining: 6.69ms\n",
      "40:\tlearn: 0.9940590\ttest: 1.0091801\tbest: 1.0091801 (40)\ttotal: 27.3ms\tremaining: 6ms\n",
      "41:\tlearn: 0.9924450\ttest: 1.0073239\tbest: 1.0073239 (41)\ttotal: 28ms\tremaining: 5.33ms\n",
      "42:\tlearn: 0.9914962\ttest: 1.0057828\tbest: 1.0057828 (42)\ttotal: 28.5ms\tremaining: 4.64ms\n",
      "43:\tlearn: 0.9904882\ttest: 1.0045662\tbest: 1.0045662 (43)\ttotal: 29ms\tremaining: 3.96ms\n",
      "44:\tlearn: 0.9892643\ttest: 1.0027209\tbest: 1.0027209 (44)\ttotal: 29.6ms\tremaining: 3.29ms\n",
      "45:\tlearn: 0.9883480\ttest: 1.0016505\tbest: 1.0016505 (45)\ttotal: 30ms\tremaining: 2.6ms\n",
      "46:\tlearn: 0.9867414\ttest: 1.0000300\tbest: 1.0000300 (46)\ttotal: 30.3ms\tremaining: 1.94ms\n",
      "47:\tlearn: 0.9857593\ttest: 0.9987599\tbest: 0.9987599 (47)\ttotal: 30.6ms\tremaining: 1.28ms\n",
      "48:\tlearn: 0.9845793\ttest: 0.9977063\tbest: 0.9977063 (48)\ttotal: 31ms\tremaining: 632us\n",
      "49:\tlearn: 0.9836735\ttest: 0.9965869\tbest: 0.9965869 (49)\ttotal: 31.4ms\tremaining: 0us\n",
      "\n",
      "bestTest = 0.9965868583\n",
      "bestIteration = 49\n",
      "\n"
     ]
    },
    {
     "data": {
      "text/plain": [
       "<catboost.core.CatBoostRegressor at 0x7f83fd0c1a90>"
      ]
     },
     "execution_count": 81,
     "metadata": {},
     "output_type": "execute_result"
    }
   ],
   "source": [
    "model = CatBoostRegressor(iterations=50, depth=3,\n",
    "                          learning_rate=0.1, loss_function='RMSE')\n",
    "\n",
    "# cat_features=categorical_features_indices\n",
    "model.fit(X_train, y_train,\n",
    "          eval_set=(X_valid, y_valid), plot=True)"
   ]
  },
  {
   "attachments": {},
   "cell_type": "markdown",
   "metadata": {},
   "source": [
    "# Catboost Model"
   ]
  },
  {
   "attachments": {},
   "cell_type": "markdown",
   "metadata": {},
   "source": [
    "### Catboost Regressor parameters"
   ]
  },
  {
   "cell_type": "code",
   "execution_count": 82,
   "metadata": {},
   "outputs": [],
   "source": [
    "start = time.time()\n",
    "\n",
    "model = CatBoostRegressor(iterations=15000,\n",
    "                          loss_function='RMSE',\n",
    "                          # 0.001 - 0.1 A lower learning rate results in slower but more precise convergence\n",
    "                          learning_rate=0.001,\n",
    "                          # 4 - 10  Higher values allow the model to capture more complex interactions but can increase the risk of overfitting.\n",
    "                          depth=16,\n",
    "                          custom_metric=['MAPE', 'RMSE', 'MAE', 'R2'],\n",
    "                          random_seed=42,\n",
    "                          bagging_temperature=0.2,  # 0 - 1\n",
    "                          # Can be 'Iter' or 'IncToDec'. 'Iter' stops training when the evaluation metric stops improving, and 'IncToDec' stops when the evaluation metric starts to worsen.\n",
    "                          od_type='Iter',\n",
    "                          metric_period=75,  # how frequently the evaluation metric is calculated during training\n",
    "                          task_type='GPU',  # Enable GPU training\n",
    "                          # number of iterations to wait for the evaluation metric to improve before stopping training.\n",
    "                          od_wait=100,\n",
    "                          #   cat_features=['PurchaseOption', 'Location',\n",
    "                          #                 'operatingSystem', 'DiskType']\n",
    "                          )\n",
    "\n",
    "# Log specific parameters of the CatBoost model\n",
    "params_to_track = ['iterations', 'learning_rate', 'depth', 'loss_function', 'bagging_temperature',\n",
    "                   'random_seed', 'metric_period', 'od_wait', 'task_type']\n",
    "for param in params_to_track:\n",
    "    param_value = model.get_params().get(param)\n",
    "    mlflow.log_param(param, str(param_value))"
   ]
  },
  {
   "cell_type": "code",
   "execution_count": 83,
   "metadata": {},
   "outputs": [],
   "source": [
    "# mlflow.end_run()"
   ]
  },
  {
   "cell_type": "code",
   "execution_count": 84,
   "metadata": {
    "tags": []
   },
   "outputs": [
    {
     "data": {
      "application/vnd.jupyter.widget-view+json": {
       "model_id": "42dcb124c3514ddf8d645d5ab839bd65",
       "version_major": 2,
       "version_minor": 0
      },
      "text/plain": [
       "MetricVisualizer(layout=Layout(align_self='stretch', height='500px'))"
      ]
     },
     "metadata": {},
     "output_type": "display_data"
    },
    {
     "name": "stderr",
     "output_type": "stream",
     "text": [
      "Metric R2 is not implemented on GPU. Will use CPU for metric computation, this could significantly affect learning time\n"
     ]
    },
    {
     "name": "stdout",
     "output_type": "stream",
     "text": [
      "0:\tlearn: 1.6686107\ttest: 1.7434764\tbest: 1.7434764 (0)\ttotal: 20.3ms\tremaining: 5m 5s\n",
      "75:\tlearn: 1.5929999\ttest: 1.6649044\tbest: 1.6649044 (75)\ttotal: 8.02s\tremaining: 26m 15s\n",
      "150:\tlearn: 1.5243142\ttest: 1.5932966\tbest: 1.5932966 (150)\ttotal: 13.2s\tremaining: 21m 42s\n",
      "225:\tlearn: 1.4624794\ttest: 1.5285740\tbest: 1.5285740 (225)\ttotal: 18.7s\tremaining: 20m 24s\n",
      "300:\tlearn: 1.4069902\ttest: 1.4701465\tbest: 1.4701465 (300)\ttotal: 25.1s\tremaining: 20m 24s\n",
      "375:\tlearn: 1.3569070\ttest: 1.4171801\tbest: 1.4171801 (375)\ttotal: 31.3s\tremaining: 20m 16s\n",
      "450:\tlearn: 1.3112045\ttest: 1.3687325\tbest: 1.3687325 (450)\ttotal: 36.8s\tremaining: 19m 46s\n",
      "525:\tlearn: 1.2704424\ttest: 1.3252327\tbest: 1.3252327 (525)\ttotal: 42.9s\tremaining: 19m 41s\n",
      "600:\tlearn: 1.2338344\ttest: 1.2859167\tbest: 1.2859167 (600)\ttotal: 54.1s\tremaining: 21m 36s\n",
      "675:\tlearn: 1.2006484\ttest: 1.2502055\tbest: 1.2502055 (675)\ttotal: 1m 2s\tremaining: 22m 3s\n",
      "750:\tlearn: 1.1710152\ttest: 1.2181111\tbest: 1.2181111 (750)\ttotal: 1m 8s\tremaining: 21m 40s\n",
      "825:\tlearn: 1.1446402\ttest: 1.1894010\tbest: 1.1894010 (825)\ttotal: 1m 15s\tremaining: 21m 34s\n",
      "900:\tlearn: 1.1214079\ttest: 1.1639776\tbest: 1.1639776 (900)\ttotal: 1m 19s\tremaining: 20m 46s\n",
      "975:\tlearn: 1.1002770\ttest: 1.1407834\tbest: 1.1407834 (975)\ttotal: 1m 27s\tremaining: 20m 59s\n",
      "1050:\tlearn: 1.0817845\ttest: 1.1204048\tbest: 1.1204048 (1050)\ttotal: 1m 30s\tremaining: 20m 5s\n",
      "1125:\tlearn: 1.0655888\ttest: 1.1023954\tbest: 1.1023954 (1125)\ttotal: 1m 33s\tremaining: 19m 17s\n",
      "1200:\tlearn: 1.0507445\ttest: 1.0859217\tbest: 1.0859217 (1200)\ttotal: 1m 42s\tremaining: 19m 32s\n",
      "1275:\tlearn: 1.0377509\ttest: 1.0713287\tbest: 1.0713287 (1275)\ttotal: 1m 45s\tremaining: 18m 56s\n",
      "1350:\tlearn: 1.0260273\ttest: 1.0580816\tbest: 1.0580816 (1350)\ttotal: 1m 52s\tremaining: 18m 59s\n",
      "1425:\tlearn: 1.0159565\ttest: 1.0466376\tbest: 1.0466376 (1425)\ttotal: 1m 58s\tremaining: 18m 45s\n",
      "1500:\tlearn: 1.0067655\ttest: 1.0361041\tbest: 1.0361041 (1500)\ttotal: 2m 6s\tremaining: 18m 58s\n",
      "1575:\tlearn: 0.9988617\ttest: 1.0269382\tbest: 1.0269382 (1575)\ttotal: 2m 12s\tremaining: 18m 46s\n",
      "1650:\tlearn: 0.9916142\ttest: 1.0184729\tbest: 1.0184729 (1650)\ttotal: 2m 17s\tremaining: 18m 31s\n",
      "1725:\tlearn: 0.9853619\ttest: 1.0111475\tbest: 1.0111475 (1725)\ttotal: 2m 21s\tremaining: 18m 8s\n",
      "1800:\tlearn: 0.9797264\ttest: 1.0044774\tbest: 1.0044774 (1800)\ttotal: 2m 28s\tremaining: 18m 11s\n",
      "1875:\tlearn: 0.9748004\ttest: 0.9985901\tbest: 0.9985901 (1875)\ttotal: 2m 34s\tremaining: 18m 1s\n",
      "1950:\tlearn: 0.9704285\ttest: 0.9933104\tbest: 0.9933104 (1950)\ttotal: 2m 38s\tremaining: 17m 38s\n",
      "2025:\tlearn: 0.9666238\ttest: 0.9887041\tbest: 0.9887041 (2025)\ttotal: 2m 43s\tremaining: 17m 23s\n",
      "2100:\tlearn: 0.9632533\ttest: 0.9845389\tbest: 0.9845389 (2100)\ttotal: 2m 51s\tremaining: 17m 35s\n",
      "2175:\tlearn: 0.9599464\ttest: 0.9805399\tbest: 0.9805399 (2175)\ttotal: 2m 58s\tremaining: 17m 34s\n",
      "2250:\tlearn: 0.9571480\ttest: 0.9770878\tbest: 0.9770878 (2250)\ttotal: 3m 1s\tremaining: 17m 9s\n",
      "2325:\tlearn: 0.9547458\ttest: 0.9740524\tbest: 0.9740524 (2325)\ttotal: 3m 7s\tremaining: 17m 2s\n",
      "2400:\tlearn: 0.9525290\ttest: 0.9713042\tbest: 0.9713042 (2400)\ttotal: 3m 10s\tremaining: 16m 39s\n",
      "2475:\tlearn: 0.9505158\ttest: 0.9687899\tbest: 0.9687899 (2475)\ttotal: 3m 13s\tremaining: 16m 17s\n",
      "2550:\tlearn: 0.9487245\ttest: 0.9665485\tbest: 0.9665485 (2550)\ttotal: 3m 15s\tremaining: 15m 53s\n",
      "2625:\tlearn: 0.9470981\ttest: 0.9645006\tbest: 0.9645006 (2625)\ttotal: 3m 19s\tremaining: 15m 38s\n",
      "2700:\tlearn: 0.9457004\ttest: 0.9626936\tbest: 0.9626936 (2700)\ttotal: 3m 21s\tremaining: 15m 15s\n",
      "2775:\tlearn: 0.9443788\ttest: 0.9610376\tbest: 0.9610376 (2775)\ttotal: 3m 23s\tremaining: 14m 54s\n",
      "2850:\tlearn: 0.9431788\ttest: 0.9595369\tbest: 0.9595369 (2850)\ttotal: 3m 26s\tremaining: 14m 38s\n",
      "2925:\tlearn: 0.9421209\ttest: 0.9581880\tbest: 0.9581880 (2925)\ttotal: 3m 27s\tremaining: 14m 18s\n",
      "3000:\tlearn: 0.9411753\ttest: 0.9569603\tbest: 0.9569603 (3000)\ttotal: 3m 29s\tremaining: 13m 58s\n",
      "3075:\tlearn: 0.9403398\ttest: 0.9558764\tbest: 0.9558764 (3075)\ttotal: 3m 31s\tremaining: 13m 38s\n",
      "3150:\tlearn: 0.9395500\ttest: 0.9548636\tbest: 0.9548636 (3150)\ttotal: 3m 32s\tremaining: 13m 18s\n",
      "3225:\tlearn: 0.9388075\ttest: 0.9538735\tbest: 0.9538735 (3225)\ttotal: 3m 34s\tremaining: 13m 2s\n",
      "3300:\tlearn: 0.9381159\ttest: 0.9529549\tbest: 0.9529549 (3300)\ttotal: 3m 37s\tremaining: 12m 50s\n",
      "3375:\tlearn: 0.9375058\ttest: 0.9521037\tbest: 0.9521037 (3375)\ttotal: 3m 38s\tremaining: 12m 32s\n",
      "3450:\tlearn: 0.9369379\ttest: 0.9513622\tbest: 0.9513622 (3450)\ttotal: 3m 40s\tremaining: 12m 16s\n",
      "3525:\tlearn: 0.9363691\ttest: 0.9506410\tbest: 0.9506410 (3525)\ttotal: 3m 42s\tremaining: 12m 3s\n",
      "3600:\tlearn: 0.9359062\ttest: 0.9500268\tbest: 0.9500268 (3600)\ttotal: 3m 43s\tremaining: 11m 47s\n",
      "3675:\tlearn: 0.9354178\ttest: 0.9494059\tbest: 0.9494059 (3675)\ttotal: 3m 44s\tremaining: 11m 31s\n",
      "3750:\tlearn: 0.9349834\ttest: 0.9488191\tbest: 0.9488191 (3750)\ttotal: 3m 45s\tremaining: 11m 17s\n",
      "3825:\tlearn: 0.9345842\ttest: 0.9482776\tbest: 0.9482776 (3825)\ttotal: 3m 46s\tremaining: 11m 2s\n",
      "3900:\tlearn: 0.9341787\ttest: 0.9477435\tbest: 0.9477435 (3900)\ttotal: 3m 48s\tremaining: 10m 51s\n",
      "3975:\tlearn: 0.9338034\ttest: 0.9472442\tbest: 0.9472442 (3975)\ttotal: 3m 50s\tremaining: 10m 39s\n",
      "4050:\tlearn: 0.9334175\ttest: 0.9467466\tbest: 0.9467466 (4050)\ttotal: 3m 52s\tremaining: 10m 28s\n",
      "4125:\tlearn: 0.9330916\ttest: 0.9463152\tbest: 0.9463152 (4125)\ttotal: 3m 54s\tremaining: 10m 17s\n",
      "4200:\tlearn: 0.9327823\ttest: 0.9459104\tbest: 0.9459104 (4200)\ttotal: 3m 55s\tremaining: 10m 4s\n",
      "4275:\tlearn: 0.9324835\ttest: 0.9455296\tbest: 0.9455296 (4275)\ttotal: 3m 56s\tremaining: 9m 53s\n",
      "4350:\tlearn: 0.9321869\ttest: 0.9451829\tbest: 0.9451829 (4350)\ttotal: 3m 57s\tremaining: 9m 42s\n",
      "4425:\tlearn: 0.9319051\ttest: 0.9448322\tbest: 0.9448322 (4425)\ttotal: 3m 58s\tremaining: 9m 30s\n",
      "4500:\tlearn: 0.9316662\ttest: 0.9445128\tbest: 0.9445128 (4500)\ttotal: 3m 59s\tremaining: 9m 18s\n",
      "4575:\tlearn: 0.9314126\ttest: 0.9441937\tbest: 0.9441937 (4575)\ttotal: 4m\tremaining: 9m 8s\n",
      "4650:\tlearn: 0.9311799\ttest: 0.9439109\tbest: 0.9439109 (4650)\ttotal: 4m 1s\tremaining: 8m 57s\n",
      "4725:\tlearn: 0.9309423\ttest: 0.9436103\tbest: 0.9436103 (4725)\ttotal: 4m 2s\tremaining: 8m 46s\n",
      "4800:\tlearn: 0.9307169\ttest: 0.9433396\tbest: 0.9433396 (4800)\ttotal: 4m 3s\tremaining: 8m 36s\n",
      "4875:\tlearn: 0.9304997\ttest: 0.9430920\tbest: 0.9430920 (4875)\ttotal: 4m 4s\tremaining: 8m 27s\n",
      "4950:\tlearn: 0.9303185\ttest: 0.9428547\tbest: 0.9428547 (4950)\ttotal: 4m 5s\tremaining: 8m 18s\n",
      "5025:\tlearn: 0.9301118\ttest: 0.9426274\tbest: 0.9426274 (5025)\ttotal: 4m 6s\tremaining: 8m 8s\n",
      "5100:\tlearn: 0.9299478\ttest: 0.9424124\tbest: 0.9424124 (5100)\ttotal: 4m 7s\tremaining: 7m 59s\n",
      "5175:\tlearn: 0.9297860\ttest: 0.9422041\tbest: 0.9422041 (5175)\ttotal: 4m 7s\tremaining: 7m 50s\n",
      "5250:\tlearn: 0.9296376\ttest: 0.9420145\tbest: 0.9420145 (5250)\ttotal: 4m 8s\tremaining: 7m 41s\n",
      "5325:\tlearn: 0.9294613\ttest: 0.9418046\tbest: 0.9418046 (5325)\ttotal: 4m 11s\tremaining: 7m 35s\n",
      "5400:\tlearn: 0.9293111\ttest: 0.9416181\tbest: 0.9416181 (5400)\ttotal: 4m 11s\tremaining: 7m 27s\n",
      "5475:\tlearn: 0.9291695\ttest: 0.9414318\tbest: 0.9414318 (5475)\ttotal: 4m 12s\tremaining: 7m 18s\n",
      "5550:\tlearn: 0.9290343\ttest: 0.9412720\tbest: 0.9412720 (5550)\ttotal: 4m 12s\tremaining: 7m 10s\n",
      "5625:\tlearn: 0.9289108\ttest: 0.9411276\tbest: 0.9411276 (5623)\ttotal: 4m 13s\tremaining: 7m 3s\n",
      "5700:\tlearn: 0.9287824\ttest: 0.9409808\tbest: 0.9409808 (5700)\ttotal: 4m 14s\tremaining: 6m 55s\n",
      "5775:\tlearn: 0.9286559\ttest: 0.9408399\tbest: 0.9408399 (5775)\ttotal: 4m 15s\tremaining: 6m 47s\n",
      "5850:\tlearn: 0.9285311\ttest: 0.9406855\tbest: 0.9406855 (5850)\ttotal: 4m 16s\tremaining: 6m 40s\n",
      "5925:\tlearn: 0.9284247\ttest: 0.9405448\tbest: 0.9405448 (5925)\ttotal: 4m 17s\tremaining: 6m 33s\n",
      "6000:\tlearn: 0.9283281\ttest: 0.9404190\tbest: 0.9404190 (6000)\ttotal: 4m 17s\tremaining: 6m 26s\n",
      "6075:\tlearn: 0.9282068\ttest: 0.9402820\tbest: 0.9402820 (6075)\ttotal: 4m 18s\tremaining: 6m 19s\n",
      "6150:\tlearn: 0.9280927\ttest: 0.9401502\tbest: 0.9401502 (6150)\ttotal: 4m 18s\tremaining: 6m 12s\n",
      "6225:\tlearn: 0.9279673\ttest: 0.9400043\tbest: 0.9400043 (6225)\ttotal: 4m 19s\tremaining: 6m 5s\n",
      "6300:\tlearn: 0.9278698\ttest: 0.9398812\tbest: 0.9398812 (6300)\ttotal: 4m 20s\tremaining: 5m 59s\n",
      "6375:\tlearn: 0.9277719\ttest: 0.9397657\tbest: 0.9397657 (6375)\ttotal: 4m 20s\tremaining: 5m 52s\n",
      "6450:\tlearn: 0.9276759\ttest: 0.9396355\tbest: 0.9396355 (6450)\ttotal: 4m 21s\tremaining: 5m 46s\n",
      "6525:\tlearn: 0.9275894\ttest: 0.9395300\tbest: 0.9395300 (6525)\ttotal: 4m 21s\tremaining: 5m 40s\n",
      "6600:\tlearn: 0.9275114\ttest: 0.9394269\tbest: 0.9394269 (6600)\ttotal: 4m 22s\tremaining: 5m 33s\n",
      "6675:\tlearn: 0.9274306\ttest: 0.9393273\tbest: 0.9393273 (6675)\ttotal: 4m 22s\tremaining: 5m 27s\n",
      "6750:\tlearn: 0.9273304\ttest: 0.9392102\tbest: 0.9392102 (6750)\ttotal: 4m 24s\tremaining: 5m 22s\n",
      "6825:\tlearn: 0.9272601\ttest: 0.9391262\tbest: 0.9391262 (6825)\ttotal: 4m 26s\tremaining: 5m 18s\n",
      "6900:\tlearn: 0.9271993\ttest: 0.9390490\tbest: 0.9390490 (6900)\ttotal: 4m 26s\tremaining: 5m 12s\n",
      "6975:\tlearn: 0.9271356\ttest: 0.9389592\tbest: 0.9389592 (6975)\ttotal: 4m 26s\tremaining: 5m 7s\n",
      "7050:\tlearn: 0.9270685\ttest: 0.9388711\tbest: 0.9388711 (7050)\ttotal: 4m 27s\tremaining: 5m 1s\n",
      "7125:\tlearn: 0.9270101\ttest: 0.9387987\tbest: 0.9387987 (7125)\ttotal: 4m 27s\tremaining: 4m 55s\n",
      "7200:\tlearn: 0.9269538\ttest: 0.9387372\tbest: 0.9387372 (7200)\ttotal: 4m 28s\tremaining: 4m 50s\n",
      "7275:\tlearn: 0.9268954\ttest: 0.9386573\tbest: 0.9386573 (7275)\ttotal: 4m 28s\tremaining: 4m 45s\n",
      "7350:\tlearn: 0.9268312\ttest: 0.9385749\tbest: 0.9385749 (7350)\ttotal: 4m 29s\tremaining: 4m 40s\n",
      "7425:\tlearn: 0.9267640\ttest: 0.9384966\tbest: 0.9384966 (7425)\ttotal: 4m 30s\tremaining: 4m 36s\n",
      "7500:\tlearn: 0.9267214\ttest: 0.9384380\tbest: 0.9384380 (7500)\ttotal: 4m 31s\tremaining: 4m 31s\n",
      "7575:\tlearn: 0.9266705\ttest: 0.9383765\tbest: 0.9383765 (7575)\ttotal: 4m 31s\tremaining: 4m 26s\n",
      "7650:\tlearn: 0.9266211\ttest: 0.9383183\tbest: 0.9383183 (7650)\ttotal: 4m 31s\tremaining: 4m 21s\n",
      "7725:\tlearn: 0.9265565\ttest: 0.9382393\tbest: 0.9382393 (7725)\ttotal: 4m 32s\tremaining: 4m 16s\n",
      "7800:\tlearn: 0.9265030\ttest: 0.9381707\tbest: 0.9381707 (7800)\ttotal: 4m 32s\tremaining: 4m 11s\n",
      "7875:\tlearn: 0.9264524\ttest: 0.9380955\tbest: 0.9380955 (7875)\ttotal: 4m 35s\tremaining: 4m 9s\n",
      "7950:\tlearn: 0.9263995\ttest: 0.9380343\tbest: 0.9380343 (7950)\ttotal: 4m 35s\tremaining: 4m 4s\n",
      "8025:\tlearn: 0.9263533\ttest: 0.9379728\tbest: 0.9379728 (8025)\ttotal: 4m 36s\tremaining: 4m\n",
      "8100:\tlearn: 0.9263216\ttest: 0.9379222\tbest: 0.9379222 (8100)\ttotal: 4m 37s\tremaining: 3m 56s\n",
      "8175:\tlearn: 0.9262828\ttest: 0.9378711\tbest: 0.9378711 (8174)\ttotal: 4m 37s\tremaining: 3m 51s\n",
      "8250:\tlearn: 0.9262373\ttest: 0.9378107\tbest: 0.9378107 (8250)\ttotal: 4m 38s\tremaining: 3m 47s\n",
      "8325:\tlearn: 0.9261913\ttest: 0.9377558\tbest: 0.9377558 (8325)\ttotal: 4m 38s\tremaining: 3m 43s\n",
      "8400:\tlearn: 0.9261538\ttest: 0.9376998\tbest: 0.9376998 (8400)\ttotal: 4m 39s\tremaining: 3m 39s\n",
      "8475:\tlearn: 0.9261194\ttest: 0.9376464\tbest: 0.9376464 (8475)\ttotal: 4m 39s\tremaining: 3m 35s\n",
      "8550:\tlearn: 0.9260804\ttest: 0.9375950\tbest: 0.9375950 (8550)\ttotal: 4m 40s\tremaining: 3m 31s\n",
      "8625:\tlearn: 0.9260361\ttest: 0.9375474\tbest: 0.9375474 (8625)\ttotal: 4m 40s\tremaining: 3m 27s\n",
      "8700:\tlearn: 0.9260011\ttest: 0.9375032\tbest: 0.9375032 (8700)\ttotal: 4m 41s\tremaining: 3m 23s\n",
      "8775:\tlearn: 0.9259680\ttest: 0.9374527\tbest: 0.9374527 (8775)\ttotal: 4m 41s\tremaining: 3m 19s\n",
      "8850:\tlearn: 0.9259317\ttest: 0.9374054\tbest: 0.9374054 (8850)\ttotal: 4m 42s\tremaining: 3m 16s\n",
      "8925:\tlearn: 0.9258962\ttest: 0.9373699\tbest: 0.9373699 (8925)\ttotal: 4m 43s\tremaining: 3m 12s\n",
      "9000:\tlearn: 0.9258748\ttest: 0.9373372\tbest: 0.9373372 (9000)\ttotal: 4m 43s\tremaining: 3m 9s\n",
      "9075:\tlearn: 0.9258453\ttest: 0.9373020\tbest: 0.9373020 (9075)\ttotal: 4m 44s\tremaining: 3m 5s\n",
      "9150:\tlearn: 0.9258063\ttest: 0.9372543\tbest: 0.9372543 (9150)\ttotal: 4m 44s\tremaining: 3m 1s\n",
      "9225:\tlearn: 0.9257864\ttest: 0.9372268\tbest: 0.9372268 (9225)\ttotal: 4m 45s\tremaining: 2m 58s\n",
      "9300:\tlearn: 0.9257644\ttest: 0.9371982\tbest: 0.9371982 (9300)\ttotal: 4m 45s\tremaining: 2m 54s\n",
      "9375:\tlearn: 0.9257389\ttest: 0.9371643\tbest: 0.9371643 (9375)\ttotal: 4m 46s\tremaining: 2m 51s\n",
      "9450:\tlearn: 0.9257125\ttest: 0.9371314\tbest: 0.9371314 (9450)\ttotal: 4m 46s\tremaining: 2m 48s\n",
      "9525:\tlearn: 0.9256819\ttest: 0.9370921\tbest: 0.9370921 (9525)\ttotal: 4m 47s\tremaining: 2m 44s\n",
      "9600:\tlearn: 0.9256513\ttest: 0.9370504\tbest: 0.9370504 (9599)\ttotal: 4m 47s\tremaining: 2m 41s\n",
      "9675:\tlearn: 0.9256063\ttest: 0.9370035\tbest: 0.9370035 (9675)\ttotal: 4m 48s\tremaining: 2m 38s\n",
      "9750:\tlearn: 0.9255711\ttest: 0.9369664\tbest: 0.9369664 (9750)\ttotal: 4m 48s\tremaining: 2m 35s\n",
      "9825:\tlearn: 0.9255448\ttest: 0.9369342\tbest: 0.9369341 (9824)\ttotal: 4m 49s\tremaining: 2m 32s\n",
      "9900:\tlearn: 0.9255158\ttest: 0.9369006\tbest: 0.9369006 (9900)\ttotal: 4m 49s\tremaining: 2m 29s\n",
      "9975:\tlearn: 0.9254827\ttest: 0.9368596\tbest: 0.9368596 (9975)\ttotal: 4m 51s\tremaining: 2m 26s\n",
      "10050:\tlearn: 0.9254446\ttest: 0.9368167\tbest: 0.9368167 (10050)\ttotal: 4m 52s\tremaining: 2m 24s\n",
      "10125:\tlearn: 0.9254128\ttest: 0.9367835\tbest: 0.9367835 (10125)\ttotal: 4m 53s\tremaining: 2m 21s\n",
      "10200:\tlearn: 0.9253759\ttest: 0.9367456\tbest: 0.9367456 (10199)\ttotal: 4m 54s\tremaining: 2m 18s\n",
      "10275:\tlearn: 0.9253485\ttest: 0.9367111\tbest: 0.9367111 (10275)\ttotal: 4m 54s\tremaining: 2m 15s\n",
      "10350:\tlearn: 0.9253195\ttest: 0.9366798\tbest: 0.9366798 (10350)\ttotal: 4m 55s\tremaining: 2m 12s\n",
      "10425:\tlearn: 0.9252935\ttest: 0.9366519\tbest: 0.9366519 (10425)\ttotal: 4m 55s\tremaining: 2m 9s\n",
      "10500:\tlearn: 0.9252614\ttest: 0.9366155\tbest: 0.9366155 (10500)\ttotal: 4m 56s\tremaining: 2m 7s\n",
      "10575:\tlearn: 0.9252312\ttest: 0.9365864\tbest: 0.9365864 (10574)\ttotal: 4m 57s\tremaining: 2m 4s\n",
      "10650:\tlearn: 0.9251997\ttest: 0.9365547\tbest: 0.9365547 (10650)\ttotal: 4m 58s\tremaining: 2m 1s\n",
      "10725:\tlearn: 0.9251692\ttest: 0.9365250\tbest: 0.9365250 (10725)\ttotal: 4m 59s\tremaining: 1m 59s\n",
      "10800:\tlearn: 0.9251393\ttest: 0.9364925\tbest: 0.9364925 (10800)\ttotal: 4m 59s\tremaining: 1m 56s\n",
      "10875:\tlearn: 0.9251140\ttest: 0.9364667\tbest: 0.9364667 (10875)\ttotal: 5m\tremaining: 1m 54s\n",
      "10950:\tlearn: 0.9250835\ttest: 0.9364338\tbest: 0.9364338 (10950)\ttotal: 5m 1s\tremaining: 1m 51s\n",
      "11025:\tlearn: 0.9250606\ttest: 0.9364103\tbest: 0.9364103 (11025)\ttotal: 5m 2s\tremaining: 1m 48s\n",
      "11100:\tlearn: 0.9250409\ttest: 0.9363863\tbest: 0.9363863 (11100)\ttotal: 5m 3s\tremaining: 1m 46s\n",
      "11175:\tlearn: 0.9250158\ttest: 0.9363597\tbest: 0.9363597 (11175)\ttotal: 5m 3s\tremaining: 1m 43s\n",
      "11250:\tlearn: 0.9249934\ttest: 0.9363385\tbest: 0.9363385 (11250)\ttotal: 5m 4s\tremaining: 1m 41s\n",
      "11325:\tlearn: 0.9249780\ttest: 0.9363188\tbest: 0.9363188 (11325)\ttotal: 5m 4s\tremaining: 1m 38s\n",
      "11400:\tlearn: 0.9249641\ttest: 0.9363025\tbest: 0.9363025 (11400)\ttotal: 5m 5s\tremaining: 1m 36s\n",
      "11475:\tlearn: 0.9249408\ttest: 0.9362810\tbest: 0.9362810 (11475)\ttotal: 5m 6s\tremaining: 1m 34s\n",
      "11550:\tlearn: 0.9249181\ttest: 0.9362577\tbest: 0.9362577 (11550)\ttotal: 5m 7s\tremaining: 1m 31s\n",
      "11625:\tlearn: 0.9249005\ttest: 0.9362405\tbest: 0.9362405 (11625)\ttotal: 5m 8s\tremaining: 1m 29s\n",
      "11700:\tlearn: 0.9248811\ttest: 0.9362225\tbest: 0.9362225 (11700)\ttotal: 5m 9s\tremaining: 1m 27s\n",
      "11775:\tlearn: 0.9248668\ttest: 0.9362049\tbest: 0.9362049 (11775)\ttotal: 5m 10s\tremaining: 1m 24s\n",
      "11850:\tlearn: 0.9248486\ttest: 0.9361852\tbest: 0.9361852 (11850)\ttotal: 5m 12s\tremaining: 1m 22s\n",
      "11925:\tlearn: 0.9248203\ttest: 0.9361609\tbest: 0.9361609 (11924)\ttotal: 5m 13s\tremaining: 1m 20s\n",
      "12000:\tlearn: 0.9247973\ttest: 0.9361376\tbest: 0.9361376 (11999)\ttotal: 5m 14s\tremaining: 1m 18s\n",
      "12075:\tlearn: 0.9247793\ttest: 0.9361198\tbest: 0.9361198 (12075)\ttotal: 5m 15s\tremaining: 1m 16s\n",
      "12150:\tlearn: 0.9247541\ttest: 0.9361008\tbest: 0.9361008 (12150)\ttotal: 5m 16s\tremaining: 1m 14s\n",
      "12225:\tlearn: 0.9247386\ttest: 0.9360891\tbest: 0.9360891 (12225)\ttotal: 5m 17s\tremaining: 1m 11s\n",
      "12300:\tlearn: 0.9247214\ttest: 0.9360740\tbest: 0.9360740 (12300)\ttotal: 5m 17s\tremaining: 1m 9s\n",
      "12375:\tlearn: 0.9247026\ttest: 0.9360558\tbest: 0.9360558 (12375)\ttotal: 5m 18s\tremaining: 1m 7s\n",
      "12450:\tlearn: 0.9246921\ttest: 0.9360475\tbest: 0.9360475 (12450)\ttotal: 5m 18s\tremaining: 1m 5s\n",
      "12525:\tlearn: 0.9246768\ttest: 0.9360305\tbest: 0.9360305 (12525)\ttotal: 5m 19s\tremaining: 1m 3s\n",
      "12600:\tlearn: 0.9246585\ttest: 0.9360093\tbest: 0.9360093 (12600)\ttotal: 5m 20s\tremaining: 1m\n",
      "12675:\tlearn: 0.9246385\ttest: 0.9359948\tbest: 0.9359948 (12675)\ttotal: 5m 20s\tremaining: 58.8s\n",
      "12750:\tlearn: 0.9246296\ttest: 0.9359857\tbest: 0.9359857 (12750)\ttotal: 5m 21s\tremaining: 56.6s\n",
      "12825:\tlearn: 0.9246192\ttest: 0.9359739\tbest: 0.9359739 (12825)\ttotal: 5m 21s\tremaining: 54.5s\n",
      "12900:\tlearn: 0.9246100\ttest: 0.9359635\tbest: 0.9359635 (12899)\ttotal: 5m 22s\tremaining: 52.5s\n",
      "12975:\tlearn: 0.9245926\ttest: 0.9359471\tbest: 0.9359468 (12974)\ttotal: 5m 23s\tremaining: 50.4s\n",
      "13050:\tlearn: 0.9245809\ttest: 0.9359362\tbest: 0.9359362 (13049)\ttotal: 5m 24s\tremaining: 48.4s\n",
      "13125:\tlearn: 0.9245705\ttest: 0.9359222\tbest: 0.9359222 (13125)\ttotal: 5m 24s\tremaining: 46.4s\n",
      "13200:\tlearn: 0.9245580\ttest: 0.9359092\tbest: 0.9359092 (13200)\ttotal: 5m 25s\tremaining: 44.4s\n",
      "13275:\tlearn: 0.9245508\ttest: 0.9359005\tbest: 0.9359004 (13274)\ttotal: 5m 26s\tremaining: 42.3s\n",
      "13350:\tlearn: 0.9245436\ttest: 0.9358907\tbest: 0.9358907 (13350)\ttotal: 5m 26s\tremaining: 40.3s\n",
      "13425:\tlearn: 0.9245329\ttest: 0.9358822\tbest: 0.9358822 (13424)\ttotal: 5m 27s\tremaining: 38.4s\n",
      "13500:\tlearn: 0.9245131\ttest: 0.9358698\tbest: 0.9358698 (13498)\ttotal: 5m 28s\tremaining: 36.4s\n",
      "13575:\tlearn: 0.9245036\ttest: 0.9358616\tbest: 0.9358616 (13575)\ttotal: 5m 28s\tremaining: 34.5s\n",
      "13650:\tlearn: 0.9244886\ttest: 0.9358485\tbest: 0.9358485 (13650)\ttotal: 5m 29s\tremaining: 32.5s\n",
      "13725:\tlearn: 0.9244747\ttest: 0.9358376\tbest: 0.9358376 (13722)\ttotal: 5m 29s\tremaining: 30.6s\n",
      "13800:\tlearn: 0.9244617\ttest: 0.9358271\tbest: 0.9358268 (13799)\ttotal: 5m 30s\tremaining: 28.7s\n",
      "13875:\tlearn: 0.9244476\ttest: 0.9358165\tbest: 0.9358165 (13875)\ttotal: 5m 31s\tremaining: 26.8s\n",
      "13950:\tlearn: 0.9244344\ttest: 0.9358007\tbest: 0.9358007 (13950)\ttotal: 5m 31s\tremaining: 25s\n",
      "14025:\tlearn: 0.9244328\ttest: 0.9357985\tbest: 0.9357985 (14023)\ttotal: 5m 32s\tremaining: 23.1s\n",
      "14100:\tlearn: 0.9244268\ttest: 0.9357937\tbest: 0.9357936 (14099)\ttotal: 5m 32s\tremaining: 21.2s\n",
      "14175:\tlearn: 0.9244230\ttest: 0.9357898\tbest: 0.9357898 (14173)\ttotal: 5m 33s\tremaining: 19.4s\n",
      "14250:\tlearn: 0.9244147\ttest: 0.9357818\tbest: 0.9357818 (14250)\ttotal: 5m 33s\tremaining: 17.5s\n",
      "14325:\tlearn: 0.9244076\ttest: 0.9357720\tbest: 0.9357720 (14323)\ttotal: 5m 34s\tremaining: 15.7s\n",
      "14400:\tlearn: 0.9244019\ttest: 0.9357655\tbest: 0.9357655 (14400)\ttotal: 5m 34s\tremaining: 13.9s\n",
      "14475:\tlearn: 0.9243849\ttest: 0.9357505\tbest: 0.9357504 (14472)\ttotal: 5m 35s\tremaining: 12.1s\n",
      "14550:\tlearn: 0.9243699\ttest: 0.9357384\tbest: 0.9357384 (14550)\ttotal: 5m 36s\tremaining: 10.4s\n",
      "14625:\tlearn: 0.9243643\ttest: 0.9357318\tbest: 0.9357318 (14623)\ttotal: 5m 36s\tremaining: 8.61s\n",
      "14700:\tlearn: 0.9243587\ttest: 0.9357256\tbest: 0.9357256 (14683)\ttotal: 5m 37s\tremaining: 6.86s\n",
      "14775:\tlearn: 0.9243494\ttest: 0.9357195\tbest: 0.9357195 (14775)\ttotal: 5m 37s\tremaining: 5.12s\n",
      "14850:\tlearn: 0.9243398\ttest: 0.9357090\tbest: 0.9357090 (14849)\ttotal: 5m 38s\tremaining: 3.39s\n",
      "14925:\tlearn: 0.9243331\ttest: 0.9357043\tbest: 0.9357041 (14895)\ttotal: 5m 38s\tremaining: 1.68s\n",
      "14999:\tlearn: 0.9243261\ttest: 0.9356983\tbest: 0.9356982 (14992)\ttotal: 5m 39s\tremaining: 0us\n",
      "bestTest = 0.9356982311\n",
      "bestIteration = 14992\n",
      "Shrink model to first 14993 iterations.\n"
     ]
    },
    {
     "data": {
      "text/plain": [
       "<catboost.core.CatBoostRegressor at 0x7f83fd7d4160>"
      ]
     },
     "execution_count": 84,
     "metadata": {},
     "output_type": "execute_result"
    }
   ],
   "source": [
    "model.fit(X_train, y_train,\n",
    "          eval_set=(X_valid, y_valid),\n",
    "          use_best_model=True, plot=True)"
   ]
  },
  {
   "cell_type": "code",
   "execution_count": 85,
   "metadata": {},
   "outputs": [
    {
     "name": "stderr",
     "output_type": "stream",
     "text": [
      "2023/07/02 23:50:18 WARNING mlflow.utils.requirements_utils: Found lz4 version (3.1.3+dfsg) contains a local version label (+dfsg). MLflow logged a pip requirement for this package as 'lz4==3.1.3' without the local version label to make it installable from PyPI. To specify pip requirements containing local version labels, please use `conda_env` or `pip_requirements`.\n"
     ]
    }
   ],
   "source": [
    "mlflow.catboost.log_model(model, \"catboost_model\")\n",
    "\n",
    "best_iteration = model.get_best_iteration()\n",
    "\n",
    "mlflow.log_metric('best_iteration', best_iteration)"
   ]
  },
  {
   "attachments": {},
   "cell_type": "markdown",
   "metadata": {},
   "source": [
    "## Plot the Feature Importance"
   ]
  },
  {
   "cell_type": "code",
   "execution_count": 86,
   "metadata": {},
   "outputs": [],
   "source": [
    "\n",
    "fea_imp = pd.DataFrame({'imp': model.feature_importances_, 'col': X.columns})\n",
    "fea_imp = fea_imp.sort_values(['imp', 'col'], ascending=[\n",
    "                              True, False]).iloc[-30:]\n",
    "\n",
    "fig = go.Figure(data=[go.Bar(\n",
    "    x=fea_imp['imp'],\n",
    "    y=fea_imp['col'],\n",
    "    orientation='h',\n",
    "    marker=dict(color=fea_imp['imp'], colorbar=dict(title='Importance'))\n",
    "\n",
    ")])\n",
    "\n",
    "fig.update_layout(\n",
    "    title='CatBoost - Feature Importance - All',\n",
    "    yaxis=dict(title='Features'),\n",
    "    xaxis=dict(title='Importance'),\n",
    "    height=600,\n",
    "    width=800\n",
    ")\n",
    "\n",
    "# fig.show()\n",
    "\n",
    "\n",
    "# Save the Plotly figure as an HTML file\n",
    "html_path = \"temp/feature_importance_all.html\"\n",
    "pio.write_html(fig, html_path)\n",
    "\n",
    "# Log the HTML file as an artifact in MLflow\n",
    "mlflow.log_artifact(html_path)"
   ]
  },
  {
   "attachments": {},
   "cell_type": "markdown",
   "metadata": {},
   "source": [
    "### Log feature importance - mlflow"
   ]
  },
  {
   "cell_type": "code",
   "execution_count": 87,
   "metadata": {},
   "outputs": [],
   "source": [
    "# Get the feature importance values and feature names from your CatBoost model\n",
    "feature_importance = model.get_feature_importance()\n",
    "feature_names = X.columns\n",
    "\n",
    "# Create a DataFrame to store the feature importance values and feature names\n",
    "feature_importance_df = pd.DataFrame(\n",
    "    {'Feature': feature_names, 'Importance': feature_importance})\n",
    "\n",
    "# Create a temporary file to save the feature importance DataFrame\n",
    "with tempfile.NamedTemporaryFile(mode='w', delete=False, suffix='.csv') as temp_file:\n",
    "    # Save the feature importance DataFrame as a CSV file\n",
    "    feature_importance_df.to_csv(temp_file, index=False)\n",
    "\n",
    "# Log the feature importance CSV file as an artifact in MLflow\n",
    "mlflow.log_artifact(temp_file.name, \"feature_importance.csv\")"
   ]
  },
  {
   "cell_type": "code",
   "execution_count": 88,
   "metadata": {},
   "outputs": [],
   "source": [
    "# import pandas as pd\n",
    "# import tempfile\n",
    "\n",
    "# # Define the years sets\n",
    "# years_sets = [\n",
    "#     [2020, 2021],\n",
    "#     [2019, 2020, 2021],\n",
    "#     [2018, 2019, 2020, 2021],\n",
    "#     [2021]\n",
    "# ]\n",
    "\n",
    "# # Create a DataFrame to store the feature importance values and feature names\n",
    "# feature_importance_df = pd.DataFrame({'Feature': feature_names, 'Importance': feature_importance})\n",
    "\n",
    "# # Insert the year sets as the first column in the DataFrame\n",
    "# feature_importance_df.insert(0, 'Year Sets', years_sets)\n",
    "\n",
    "# # Create a temporary file to save the feature importance DataFrame\n",
    "# with tempfile.NamedTemporaryFile(mode='w', delete=False, suffix='.csv') as temp_file:\n",
    "#     # Save the feature importance DataFrame as a CSV file\n",
    "#     feature_importance_df.to_csv(temp_file, index=False)\n",
    "\n",
    "# # Log the feature importance CSV file as an artifact in MLflow\n",
    "# mlflow.log_artifact(temp_file.name, \"feature_importance.csv\")"
   ]
  },
  {
   "attachments": {},
   "cell_type": "markdown",
   "metadata": {},
   "source": [
    "### Evalute Model"
   ]
  },
  {
   "cell_type": "code",
   "execution_count": 89,
   "metadata": {},
   "outputs": [
    {
     "name": "stdout",
     "output_type": "stream",
     "text": [
      "Model evaluation:\n",
      "{'iterations': 15000, 'learning_rate': 0.001, 'depth': 16, 'loss_function': 'RMSE', 'od_wait': 100, 'od_type': 'Iter', 'random_seed': 42, 'metric_period': 75, 'custom_metric': ['MAPE', 'RMSE', 'MAE', 'R2'], 'bagging_temperature': 0.2, 'task_type': 'GPU'}\n",
      "RMSE: 0.9356972313302702\n"
     ]
    }
   ],
   "source": [
    "# model evaluation\n",
    "from sklearn.metrics import mean_squared_error\n",
    "print('Model evaluation:')\n",
    "print(model.get_params())\n",
    "print('RMSE:', np.sqrt(mean_squared_error(y_valid, model.predict(X_valid))))"
   ]
  },
  {
   "cell_type": "code",
   "execution_count": 90,
   "metadata": {},
   "outputs": [
    {
     "name": "stdout",
     "output_type": "stream",
     "text": [
      "{'learn': {'MAE': 0.45574139848228684, 'MAPE': 0.2289126487412106, 'R2': 0.6935327155369948, 'RMSE': 0.9243261442127093}, 'validation': {'MAE': 0.4544463898147837, 'MAPE': 0.22241709451403816, 'R2': 0.7122807678626045, 'RMSE': 0.9356982310998039}}\n"
     ]
    }
   ],
   "source": [
    "print(model.get_best_score())\n",
    "\n",
    "# Flatten and log the best scores as parameters in MLflow\n",
    "best_scores = model.get_best_score()\n",
    "for stage, metrics in best_scores.items():\n",
    "    for metric, value in metrics.items():\n",
    "        mlflow.log_metric(f'{stage}_{metric}', value)"
   ]
  },
  {
   "cell_type": "code",
   "execution_count": 91,
   "metadata": {},
   "outputs": [],
   "source": [
    "# End the MLflow run\n",
    "# mlflow.end_run()"
   ]
  },
  {
   "attachments": {},
   "cell_type": "markdown",
   "metadata": {},
   "source": [
    "### Finish without shap"
   ]
  },
  {
   "attachments": {},
   "cell_type": "markdown",
   "metadata": {},
   "source": [
    "## SHAP"
   ]
  },
  {
   "cell_type": "code",
   "execution_count": 92,
   "metadata": {},
   "outputs": [],
   "source": [
    "# import shap\n",
    "\n",
    "# pool = cb.Pool(X_valid, y_valid)\n",
    "\n",
    "\n",
    "# # Compute SHAP values\n",
    "# shap_values = model.get_feature_importance(pool, type='ShapValues')\n",
    "\n",
    "# # Convert SHAP values to a DataFrame\n",
    "# shap_df = pd.DataFrame(shap_values[:, :-1], columns=X_valid.columns)\n",
    "\n",
    "# # Log the SHAP values as an artifact in MLflow\n",
    "# shap_df.to_csv(\"shap_values.csv\", index=False)\n",
    "# mlflow.log_artifact(\"shap_values.csv\")"
   ]
  },
  {
   "cell_type": "code",
   "execution_count": 93,
   "metadata": {},
   "outputs": [],
   "source": [
    "# # Exclude the constant offset column from shap_values\n",
    "# shap_values = shap_values[:, :-1]\n",
    "\n",
    "# # Create a SHAP summary plot\n",
    "# shap.summary_plot(shap_values, X_valid)\n",
    "\n",
    "# # Save the plot as an artifact in MLflow\n",
    "# shap_plot_path = 'shap_summary_plot.png'\n",
    "# shap.summary_plot(shap_values, X_valid, show=False)\n",
    "# plt.savefig(shap_plot_path)\n",
    "# mlflow.log_artifact(shap_plot_path)"
   ]
  },
  {
   "attachments": {},
   "cell_type": "markdown",
   "metadata": {},
   "source": [
    "# Evaluation\n"
   ]
  },
  {
   "attachments": {},
   "cell_type": "markdown",
   "metadata": {},
   "source": [
    "## Predictions vs Actual Prices"
   ]
  },
  {
   "cell_type": "code",
   "execution_count": 94,
   "metadata": {},
   "outputs": [],
   "source": [
    "# predict(data,\n",
    "#         prediction_type=None,\n",
    "#         ntree_start=0,\n",
    "#         ntree_end=0,\n",
    "#         thread_count=-1,\n",
    "#         verbose=None)"
   ]
  },
  {
   "cell_type": "code",
   "execution_count": 95,
   "metadata": {
    "tags": []
   },
   "outputs": [],
   "source": [
    "# data_pred = data_pred.drop(['PricePerUnit'], axis=1)\n",
    "\n",
    "data_pred = data_pred.drop(['Location', 'YearQuarter'], axis=1)\n",
    "\n",
    "predictions = model.predict(data_pred)\n",
    "\n",
    "# Create a DataFrame with the predictions\n",
    "predictions_df = pd.DataFrame(predictions, columns=['Predictions'])\n",
    "\n",
    "# Save the predictions to a CSV file\n",
    "predictions_df.to_csv('temp/predictions.csv', index=False)\n",
    "\n",
    "# Log the predictions CSV file as an artifact in MLflow\n",
    "mlflow.log_artifact('temp/predictions.csv', 'predictions')"
   ]
  },
  {
   "cell_type": "code",
   "execution_count": 96,
   "metadata": {},
   "outputs": [
    {
     "data": {
      "text/plain": [
       "array([5.14465917, 2.07047973, 2.12503755, ..., 0.71618213, 0.59379905,\n",
       "       0.73419758])"
      ]
     },
     "execution_count": 96,
     "metadata": {},
     "output_type": "execute_result"
    }
   ],
   "source": [
    "predictions"
   ]
  },
  {
   "cell_type": "code",
   "execution_count": 97,
   "metadata": {},
   "outputs": [],
   "source": [
    "actual_prices = data_pred.PricePerUnit"
   ]
  },
  {
   "cell_type": "code",
   "execution_count": 98,
   "metadata": {},
   "outputs": [],
   "source": [
    "\n",
    "import plotly.graph_objects as go\n",
    "\n",
    "# Create a line plot using Plotly\n",
    "fig = go.Figure()\n",
    "fig.add_trace(go.Scatter(x=list(range(len(actual_prices))),\n",
    "              y=actual_prices, mode='lines', name='Actual'))\n",
    "fig.add_trace(go.Scatter(x=list(range(len(predictions))),\n",
    "              y=predictions, mode='lines', name='Predicted'))\n",
    "\n",
    "fig.update_layout(\n",
    "    title='Actual vs. Predicted Prices for 2022',\n",
    "    xaxis=dict(title='Samples'),\n",
    "    yaxis=dict(title='Price ($) Per Hour')\n",
    ")\n",
    "\n",
    "# fig.show()\n",
    "\n",
    "# Save the Plotly figure as an HTML file\n",
    "html_path = \"temp/actual_predicted.html\"\n",
    "pio.write_html(fig, html_path)\n",
    "\n",
    "# Log the HTML file as an artifact in MLflow\n",
    "mlflow.log_artifact(html_path)"
   ]
  },
  {
   "cell_type": "code",
   "execution_count": 99,
   "metadata": {},
   "outputs": [],
   "source": [
    "rmse = mean_squared_error(actual_prices, predictions, squared=False)"
   ]
  },
  {
   "cell_type": "code",
   "execution_count": 100,
   "metadata": {},
   "outputs": [
    {
     "data": {
      "text/plain": [
       "1.7041020932903943"
      ]
     },
     "execution_count": 100,
     "metadata": {},
     "output_type": "execute_result"
    }
   ],
   "source": [
    "rmse"
   ]
  },
  {
   "cell_type": "code",
   "execution_count": 101,
   "metadata": {},
   "outputs": [],
   "source": [
    "error = actual_prices - predictions"
   ]
  },
  {
   "cell_type": "code",
   "execution_count": 102,
   "metadata": {},
   "outputs": [
    {
     "data": {
      "image/png": "[encoded data removed]",
      "text/plain": [
       "<Figure size 640x480 with 2 Axes>"
      ]
     },
     "metadata": {},
     "output_type": "display_data"
    }
   ],
   "source": [
    "plt.scatter(actual_prices, predictions, c=error, cmap='coolwarm')\n",
    "plt.plot(np.linspace(min(actual_prices), max(actual_prices), 100), np.linspace(\n",
    "    min(actual_prices), max(actual_prices), 100), color='black', linestyle='--')\n",
    "plt.xlabel('Actual Prices')\n",
    "plt.ylabel('Predicted Prices')\n",
    "plt.colorbar()\n",
    "plt.show()"
   ]
  },
  {
   "cell_type": "code",
   "execution_count": 103,
   "metadata": {
    "tags": []
   },
   "outputs": [],
   "source": [
    "# Create a scatter plot using Plotly\n",
    "fig = go.Figure(data=go.Scatter(\n",
    "    x=actual_prices,\n",
    "    y=predictions,\n",
    "    mode='markers',\n",
    "    marker=dict(\n",
    "        size=8,\n",
    "        color=error,\n",
    "        colorscale='Viridis',\n",
    "        showscale=True,\n",
    "        colorbar=dict(title='Error')\n",
    "    )\n",
    "))\n",
    "\n",
    "fig.update_layout(\n",
    "    title='Actual vs. Predicted Prices',\n",
    "    xaxis=dict(title='Actual Prices'),\n",
    "    yaxis=dict(title='Predicted Prices')\n",
    ")\n",
    "\n",
    "# fig.show()\n",
    "\n",
    "# Save the Plotly figure as an HTML file\n",
    "html_path = \"temp/actual_predicted_errors.html\"\n",
    "pio.write_html(fig, html_path)\n",
    "\n",
    "# Log the HTML file as an artifact in MLflow\n",
    "mlflow.log_artifact(html_path)"
   ]
  },
  {
   "cell_type": "code",
   "execution_count": 104,
   "metadata": {},
   "outputs": [],
   "source": [
    "from sklearn.metrics import mean_squared_error, mean_absolute_error, r2_score, mean_absolute_percentage_error\n",
    "\n",
    "\n",
    "mse = mean_squared_error(actual_prices, predictions)\n",
    "rmse = mean_squared_error(actual_prices, predictions, squared=False)\n",
    "mae = mean_absolute_error(actual_prices, predictions)\n",
    "r2 = r2_score(actual_prices, predictions)\n",
    "mape = mean_absolute_percentage_error(actual_prices, predictions)"
   ]
  },
  {
   "cell_type": "code",
   "execution_count": 105,
   "metadata": {},
   "outputs": [],
   "source": [
    "mlflow.log_metric(\"MSE\", mse)\n",
    "mlflow.log_metric(\"RMSE\", rmse)\n",
    "mlflow.log_metric(\"MAE\", mae)\n",
    "mlflow.log_metric(\"MAPE\", mape)\n",
    "mlflow.log_metric(\"R-squared\", r2)\n",
    "\n",
    "# mlflow.log_metric()"
   ]
  },
  {
   "cell_type": "code",
   "execution_count": 106,
   "metadata": {},
   "outputs": [
    {
     "name": "stdout",
     "output_type": "stream",
     "text": [
      "MSE: 2.9039639443567036\n",
      "RMSE: 1.7041020932903943\n",
      "MAE: 0.9866234218685098\n",
      "MAPE: 0.9266152716871214\n",
      "R-squared: 0.3932549710130706\n"
     ]
    }
   ],
   "source": [
    "print('MSE:', mse)\n",
    "print('RMSE:', rmse)\n",
    "print('MAE:', mae)\n",
    "print('MAPE:', mape)\n",
    "print('R-squared:', r2)"
   ]
  },
  {
   "attachments": {},
   "cell_type": "markdown",
   "metadata": {},
   "source": [
    "https://towardsdatascience.com/ad-demand-forecast-with-catboost-lightgbm-819e5073cd3e\n",
    "\n",
    "https://towardsdatascience.com/understanding-feature-importance-and-how-to-implement-it-in-python-ff0287b20285"
   ]
  },
  {
   "cell_type": "code",
   "execution_count": 107,
   "metadata": {
    "tags": []
   },
   "outputs": [],
   "source": [
    "# End the MLflow run\n",
    "mlflow.end_run()"
   ]
  },
  {
   "cell_type": "code",
   "execution_count": null,
   "metadata": {},
   "outputs": [],
   "source": []
  }
 ],
 "metadata": {
  "kernelspec": {
   "display_name": "price39_env",
   "language": "python",
   "name": "price39_env"
  },
  "language_info": {
   "codemirror_mode": {
    "name": "ipython",
    "version": 3
   },
   "file_extension": ".py",
   "mimetype": "text/x-python",
   "name": "python",
   "nbconvert_exporter": "python",
   "pygments_lexer": "ipython3",
   "version": "3.9.16"
  }
 },
 "nbformat": 4,
 "nbformat_minor": 4
}
